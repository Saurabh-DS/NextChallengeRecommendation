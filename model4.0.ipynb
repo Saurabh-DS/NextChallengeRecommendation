{
  "nbformat": 4,
  "nbformat_minor": 0,
  "metadata": {
    "colab": {
      "name": "model4.ipynb",
      "provenance": [],
      "collapsed_sections": []
    },
    "kernelspec": {
      "name": "python3",
      "display_name": "Python 3"
    }
  },
  "cells": [
   
    {
      "cell_type": "code",
      "metadata": {
        "id": "ch7wR19qlVIf"
      },
      "source": [
        "import pandas as pd\n",
        "import numpy as np\n",
        "import gensim\n",
        "from random import sample"
      ],
      "execution_count": null,
      "outputs": []
    },
    {
      "cell_type": "code",
      "metadata": {
        "id": "Q2owNMVllVXp"
      },
      "source": [
        "# Load data\n",
        "train_chal= pd.read_csv('/content/drive/My Drive/Colab Notebooks/RNN/train.csv')\n",
        "test_chal = pd.read_csv('/content/drive/My Drive/Colab Notebooks/RNN/test.csv')\n",
        "chall_details= pd.read_csv('/content/drive/My Drive/Colab Notebooks/RNN/challenge_data.csv')"
      ],
      "execution_count": null,
      "outputs": []
    },
    {
      "cell_type": "code",
      "metadata": {
        "id": "1QUyoJD8lW3g",
        "colab": {
          "base_uri": "https://localhost:8080/",
          "height": 34
        },
        "outputId": "dd0d40f5-af41-4358-dc0b-1a6e75fd9765"
      },
      "source": [
        "train=train_chal.groupby('user_id').challenge.apply(lambda x: ' '.join(x)).reset_index()\n",
        "test=test_chal.groupby('user_id').challenge.apply(lambda x: ' '.join(x)).reset_index()\n",
        "set(train.user_id).intersection(test.user_id)"
      ],
      "execution_count": null,
      "outputs": [
        {
          "output_type": "execute_result",
          "data": {
            "text/plain": [
              "set()"
            ]
          },
          "metadata": {
            "tags": []
          },
          "execution_count": 27
        }
      ]
    },
    {
      "cell_type": "code",
      "metadata": {
        "id": "ItyfZSgElXd_",
        "colab": {
          "base_uri": "https://localhost:8080/",
          "height": 34
        },
        "outputId": "c9308845-2d6e-463d-b10d-f7ddb0ce1883"
      },
      "source": [
        "train.shape, test.shape"
      ],
      "execution_count": null,
      "outputs": [
        {
          "output_type": "execute_result",
          "data": {
            "text/plain": [
              "((69532, 2), (39732, 2))"
            ]
          },
          "metadata": {
            "tags": []
          },
          "execution_count": 28
        }
      ]
    },
    {
      "cell_type": "code",
      "metadata": {
        "id": "XAem-SNllXn0"
      },
      "source": [
        "sentence_list=pd.concat((train.challenge,test.challenge)).apply(lambda x: x.split())\n",
        "# sentence_list= train.challenge.apply(lambda x: x.split())"
      ],
      "execution_count": null,
      "outputs": []
    },
    {
      "cell_type": "code",
      "metadata": {
        "id": "HIHCNvgalXvX",
        "colab": {
          "base_uri": "https://localhost:8080/",
          "height": 52
        },
        "outputId": "b8a4368e-29d9-4573-cf31-f7f27d172242"
      },
      "source": [
        "# train word2vec model to learn embeddings\n",
        "'''neg=15\n",
        "itera=200\n",
        "window=5\n",
        "size=500\n",
        "print ('doing_'+str(neg)+'_'+str(window)+'_'+str(itera))\n",
        "model=gensim.models.Word2Vec(sentence_list,size=size,window=window,workers=8,min_count=0, hs=1,iter=itera,sg=1)\n",
        "model.save('word2vec_solved_iter')'''"
      ],
      "execution_count": null,
      "outputs": [
        {
          "output_type": "execute_result",
          "data": {
            "application/vnd.google.colaboratory.intrinsic": {
              "type": "string"
            },
            "text/plain": [
              "\"neg=15\\nitera=200\\nwindow=5\\nsize=500\\nprint ('doing_'+str(neg)+'_'+str(window)+'_'+str(itera))\\nmodel=gensim.models.Word2Vec(sentence_list,size=size,window=window,workers=8,min_count=0, hs=1,iter=itera,sg=1)\\nmodel.save('word2vec_solved_iter')\""
            ]
          },
          "metadata": {
            "tags": []
          },
          "execution_count": 30
        }
      ]
    },
    {
      "cell_type": "code",
      "metadata": {
        "id": "p4z8MXsMlX28",
        "colab": {
          "base_uri": "https://localhost:8080/",
          "height": 309
        },
        "outputId": "d7195212-3448-4116-f6c2-35344fb74bf5"
      },
      "source": [
        "model= gensim.models.Word2Vec.load('/content/drive/My Drive/Colab Notebooks/RNN/word2vec_solved_iter__noshuf_5window_100_size_500')\n",
        "model.most_similar('CI23855')"
      ],
      "execution_count": null,
      "outputs": [
        {
          "output_type": "stream",
          "text": [
            "/usr/local/lib/python3.6/dist-packages/smart_open/smart_open_lib.py:253: UserWarning: This function is deprecated, use smart_open.open instead. See the migration notes for details: https://github.com/RaRe-Technologies/smart_open/blob/master/README.rst#migrating-to-the-new-open-function\n",
            "  'See the migration notes for details: %s' % _MIGRATION_NOTES_URL\n",
            "/usr/local/lib/python3.6/dist-packages/ipykernel_launcher.py:2: DeprecationWarning: Call to deprecated `most_similar` (Method will be removed in 4.0.0, use self.wv.most_similar() instead).\n",
            "  \n",
            "/usr/local/lib/python3.6/dist-packages/gensim/matutils.py:737: FutureWarning: Conversion of the second argument of issubdtype from `int` to `np.signedinteger` is deprecated. In future, it will be treated as `np.int64 == np.dtype(int).type`.\n",
            "  if np.issubdtype(vec.dtype, np.int):\n"
          ],
          "name": "stderr"
        },
        {
          "output_type": "execute_result",
          "data": {
            "text/plain": [
              "[('CI23663', 0.36745941638946533),\n",
              " ('CI23975', 0.31903666257858276),\n",
              " ('CI23933', 0.31583738327026367),\n",
              " ('CI23913', 0.2977244257926941),\n",
              " ('CI25135', 0.2900288701057434),\n",
              " ('CI23714', 0.2872004508972168),\n",
              " ('CI24915', 0.2844502329826355),\n",
              " ('CI24917', 0.2660750150680542),\n",
              " ('CI24958', 0.2638528645038605),\n",
              " ('CI24527', 0.2628430724143982)]"
            ]
          },
          "metadata": {
            "tags": []
          },
          "execution_count": 31
        }
      ]
    },
    {
      "cell_type": "code",
      "metadata": {
        "id": "xqB8Ua7clX7M"
      },
      "source": [
        "from keras.models import Sequential\n",
        "from keras.layers.core import Dense, Dropout, Activation , Flatten\n",
        "from keras.layers import TimeDistributed, concatenate, Bidirectional, Masking, RepeatVector\n",
        "from keras.layers.embeddings import Embedding\n",
        "from keras.layers.recurrent import LSTM, GRU, SimpleRNN\n",
        "from keras.layers.convolutional import Convolution1D, MaxPooling1D\n"
      ],
      "execution_count": null,
      "outputs": []
    },
    {
      "cell_type": "code",
      "metadata": {
        "id": "sltoeIYelYA4",
        "colab": {
          "base_uri": "https://localhost:8080/",
          "height": 88
        },
        "outputId": "32ee1c0b-03c1-4db5-c7a7-e1e7ffbd6781"
      },
      "source": [
        "pretrained_weights = model.wv.syn0\n",
        "vocab_size, emdedding_size = pretrained_weights.shape\n",
        "print('Result embedding shape:', pretrained_weights.shape)"
      ],
      "execution_count": null,
      "outputs": [
        {
          "output_type": "stream",
          "text": [
            "Result embedding shape: (5502, 500)\n"
          ],
          "name": "stdout"
        },
        {
          "output_type": "stream",
          "text": [
            "/usr/local/lib/python3.6/dist-packages/ipykernel_launcher.py:1: DeprecationWarning: Call to deprecated `syn0` (Attribute will be removed in 4.0.0, use self.wv.vectors instead).\n",
            "  \"\"\"Entry point for launching an IPython kernel.\n"
          ],
          "name": "stderr"
        }
      ]
    },
    {
      "cell_type": "code",
      "metadata": {
        "id": "babFsl0ClYF0"
      },
      "source": [
        "def word2idx(word):\n",
        "  return model.wv.vocab[word].index\n",
        "def idx2word(idx):\n",
        "  return model.wv.index2word[idx]"
      ],
      "execution_count": null,
      "outputs": []
    },
    {
      "cell_type": "code",
      "metadata": {
        "id": "WQlyQ3sAlYLa",
        "colab": {
          "base_uri": "https://localhost:8080/",
          "height": 340
        },
        "outputId": "c56fe9dd-6538-4e8e-9e09-2aa1cb257f11"
      },
      "source": [
        "# generate int sequences for challenge sentences\n",
        "train_seq=np.array(train.challenge.apply(lambda x: x.split()).apply(lambda x: ([(word2idx(y)) for y in x])).tolist())\n",
        "test_seq=np.array(test.challenge.apply(lambda x: x.split()).apply(lambda x: ([(word2idx(y)) for y in x])).tolist())\n",
        "print('train:',train_seq.shape)\n",
        "print('------------------')\n",
        "print('test:',test_seq.shape)\n",
        "print('------------------')\n",
        "print('train:',train_seq)\n",
        "print('------------------')\n",
        "print('test:',test_seq)"
      ],
      "execution_count": null,
      "outputs": [
        {
          "output_type": "stream",
          "text": [
            "train: (69532, 13)\n",
            "------------------\n",
            "test: (39732, 10)\n",
            "------------------\n",
            "train: [[   1    0    2 ...    4   36    8]\n",
            " [   3    0    5 ...   13  101   33]\n",
            " [ 209  260  228 ...  340  233  188]\n",
            " ...\n",
            " [  60  143   33 ...   68  524  802]\n",
            " [  48    5   58 ...  351  464 1170]\n",
            " [  13  143  246 ... 2499 1270 2247]]\n",
            "------------------\n",
            "test: [[  0   5   2 ...   6 101   7]\n",
            " [  3   0   2 ...  13   4  93]\n",
            " [369 702 549 ... 595 479 266]\n",
            " ...\n",
            " [  5 123  29 ... 699 468  68]\n",
            " [  3 123 143 ... 299 387   6]\n",
            " [ 12   5  83 ...   1   7  62]]\n"
          ],
          "name": "stdout"
        }
      ]
    },
    {
      "cell_type": "code",
      "metadata": {
        "id": "w4sUPE9flYQc",
        "colab": {
          "base_uri": "https://localhost:8080/",
          "height": 238
        },
        "outputId": "831d77ee-6132-4e64-fb01-dbbde013e179"
      },
      "source": [
        "xtrain=train_seq[:,:10]\n",
        "ytrain= train_seq[:,10]\n",
        "xtrain.shape, ytrain.shape\n",
        "print('xtrain:',xtrain.shape)\n",
        "print('------------------')\n",
        "print('ytrain:',ytrain.shape)\n",
        "print('------------------')\n",
        "print('train:',xtrain)\n",
        "print('------------------')\n",
        "print('ytrain:',ytrain)"
      ],
      "execution_count": null,
      "outputs": [
        {
          "output_type": "stream",
          "text": [
            "xtrain: (69532, 10)\n",
            "------------------\n",
            "ytrain: (69532,)\n",
            "------------------\n",
            "train: [[   1    0    2 ...   10   13   35]\n",
            " [   3    0    5 ...   93   36    6]\n",
            " [ 209  260  228 ...  210  179  202]\n",
            " ...\n",
            " [  60  143   33 ...  212  305    8]\n",
            " [  48    5   58 ...   11  151  620]\n",
            " [  13  143  246 ... 2817  205  166]]\n",
            "------------------\n",
            "ytrain: [   4   13  340 ...   68  351 2499]\n"
          ],
          "name": "stdout"
        }
      ]
    },
    {
      "cell_type": "code",
      "metadata": {
        "id": "TlsUIDUwlYkI",
        "colab": {
          "base_uri": "https://localhost:8080/",
          "height": 238
        },
        "outputId": "b3364d41-f97d-4784-d875-f1551a04dea5"
      },
      "source": [
        "# add 11th,12th,13th challenge to outcome\n",
        "xtrain= np.concatenate((xtrain,xtrain,xtrain),axis=0)\n",
        "ytrain= np.concatenate((train_seq[:,10],train_seq[:,11],train_seq[:,12]))\n",
        "print('xtrain:',xtrain.shape)\n",
        "print('------------------')\n",
        "print('ytrain:',ytrain.shape)\n",
        "print('------------------')\n",
        "print('train:',xtrain)\n",
        "print('------------------')\n",
        "print('ytrain:',ytrain)"
      ],
      "execution_count": null,
      "outputs": [
        {
          "output_type": "stream",
          "text": [
            "xtrain: (208596, 10)\n",
            "------------------\n",
            "ytrain: (208596,)\n",
            "------------------\n",
            "train: [[   1    0    2 ...   10   13   35]\n",
            " [   3    0    5 ...   93   36    6]\n",
            " [ 209  260  228 ...  210  179  202]\n",
            " ...\n",
            " [  60  143   33 ...  212  305    8]\n",
            " [  48    5   58 ...   11  151  620]\n",
            " [  13  143  246 ... 2817  205  166]]\n",
            "------------------\n",
            "ytrain: [   4   13  340 ...  802 1170 2247]\n"
          ],
          "name": "stdout"
        }
      ]
    },
    {
      "cell_type": "code",
      "metadata": {
        "id": "BN3kxDcnlYgM"
      },
      "source": [
        "# define nn model\n",
        "from keras.layers import Embedding\n",
        "emdedding_size=500\n",
        "vocab_size=5502\n",
        "keras_model2 = Sequential()\n",
        "keras_model2.add(Embedding(input_dim=vocab_size, output_dim=emdedding_size, \n",
        "                    weights=[pretrained_weights]))\n",
        "keras_model2.add(GRU(units=emdedding_size)) #,return_sequences=True\n",
        "#keras_model2.add(Bidirectional(GRU(units=emdedding_size)))\n",
        "#keras_model2.add(Dropout(0.2))\n",
        "keras_model2.add(Dense(units=vocab_size))\n",
        "keras_model2.add(Activation('softmax'))\n",
        "keras_model2.compile(optimizer='adam', loss='sparse_categorical_crossentropy',metrics = ['accuracy'])"
      ],
      "execution_count": null,
      "outputs": []
    },
    {
      "cell_type": "code",
      "metadata": {
        "id": "rSbHZcfmlYax"
      },
      "source": [
        "sample_weight=np.concatenate((np.ones(train.shape[0])*3,np.ones(train.shape[0])*2,np.ones(train.shape[0])))"
      ],
      "execution_count": null,
      "outputs": []
    },
    {
      "cell_type": "code",
      "metadata": {
        "id": "Pldn1GE9r69V",
        "colab": {
          "base_uri": "https://localhost:8080/",
          "height": 241
        },
        "outputId": "e9d04c77-a50b-4d5c-8978-b5cdaff2ee70"
      },
      "source": [
        "# fit differnt samples of data and then full data\n",
        "keras_model2.fit(xtrain,ytrain, epochs=4, sample_weight=sample_weight,\n",
        "          batch_size=512, verbose=1,validation_split=0.11)"
      ],
      "execution_count": null,
      "outputs": [
        {
          "output_type": "stream",
          "text": [
            "/usr/local/lib/python3.6/dist-packages/tensorflow/python/framework/indexed_slices.py:434: UserWarning: Converting sparse IndexedSlices to a dense Tensor of unknown shape. This may consume a large amount of memory.\n",
            "  \"Converting sparse IndexedSlices to a dense Tensor of unknown shape. \"\n"
          ],
          "name": "stderr"
        },
        {
          "output_type": "stream",
          "text": [
            "Train on 185650 samples, validate on 22946 samples\n",
            "Epoch 1/4\n",
            "185650/185650 [==============================] - 515s 3ms/step - loss: 11.6765 - accuracy: 0.0367 - val_loss: 5.4356 - val_accuracy: 0.0269\n",
            "Epoch 2/4\n",
            "185650/185650 [==============================] - 513s 3ms/step - loss: 9.7072 - accuracy: 0.0653 - val_loss: 5.1769 - val_accuracy: 0.0346\n",
            "Epoch 3/4\n",
            "185650/185650 [==============================] - 509s 3ms/step - loss: 8.8594 - accuracy: 0.0916 - val_loss: 5.1098 - val_accuracy: 0.0367\n",
            "Epoch 4/4\n",
            "185650/185650 [==============================] - 513s 3ms/step - loss: 8.1184 - accuracy: 0.1184 - val_loss: 5.1488 - val_accuracy: 0.0393\n"
          ],
          "name": "stdout"
        },
        {
          "output_type": "execute_result",
          "data": {
            "text/plain": [
              "<keras.callbacks.callbacks.History at 0x7f5bec848f98>"
            ]
          },
          "metadata": {
            "tags": []
          },
          "execution_count": 40
        }
      ]
    },
    {
      "cell_type": "code",
      "metadata": {
        "id": "Q4Oo7btfpsDA",
        "colab": {
          "base_uri": "https://localhost:8080/",
          "height": 153
        },
        "outputId": "3708fb09-1ba9-4435-a6fd-6addd63a09fd"
      },
      "source": [
        "keras_model2.fit(xtrain,ytrain, epochs=3, sample_weight=sample_weight,\n",
        "          batch_size=512, verbose=1,validation_split=0.11)"
      ],
      "execution_count": null,
      "outputs": [
        {
          "output_type": "stream",
          "text": [
            "Train on 185650 samples, validate on 22946 samples\n",
            "Epoch 1/3\n",
            "185650/185650 [==============================] - 517s 3ms/step - loss: 7.4546 - accuracy: 0.1444 - val_loss: 5.2389 - val_accuracy: 0.0317\n",
            "Epoch 2/3\n",
            "185650/185650 [==============================] - 525s 3ms/step - loss: 6.8510 - accuracy: 0.1712 - val_loss: 5.3547 - val_accuracy: 0.0292\n",
            "Epoch 3/3\n",
            "185650/185650 [==============================] - 523s 3ms/step - loss: 6.3251 - accuracy: 0.1923 - val_loss: 5.5132 - val_accuracy: 0.0238\n"
          ],
          "name": "stdout"
        },
        {
          "output_type": "execute_result",
          "data": {
            "text/plain": [
              "<keras.callbacks.callbacks.History at 0x7f5bece73710>"
            ]
          },
          "metadata": {
            "tags": []
          },
          "execution_count": 41
        }
      ]
    },
    {
      "cell_type": "code",
      "metadata": {
        "id": "z8ovZbmd6_Uc",
        "colab": {
          "base_uri": "https://localhost:8080/",
          "height": 119
        },
        "outputId": "94f18e36-0d74-448b-8e8c-fed9da9006e0"
      },
      "source": [
        "keras_model2.fit(xtrain,ytrain, epochs=2, sample_weight=sample_weight,\n",
        "          batch_size=256, verbose=1,validation_split=0.11)"
      ],
      "execution_count": null,
      "outputs": [
        {
          "output_type": "stream",
          "text": [
            "Train on 185650 samples, validate on 22946 samples\n",
            "Epoch 1/2\n",
            "185650/185650 [==============================] - 603s 3ms/step - loss: 6.4978 - accuracy: 0.1795 - val_loss: 5.7602 - val_accuracy: 0.0217\n",
            "Epoch 2/2\n",
            "185650/185650 [==============================] - 598s 3ms/step - loss: 5.8192 - accuracy: 0.2081 - val_loss: 5.9972 - val_accuracy: 0.0150\n"
          ],
          "name": "stdout"
        },
        {
          "output_type": "execute_result",
          "data": {
            "text/plain": [
              "<keras.callbacks.callbacks.History at 0x7f5beceb3a90>"
            ]
          },
          "metadata": {
            "tags": []
          },
          "execution_count": 45
        }
      ]
    },
    {
      "cell_type": "code",
      "metadata": {
        "id": "xZFQAMVSABBE",
        "colab": {
          "base_uri": "https://localhost:8080/"
        },
        "outputId": "550bf706-7da6-46d8-8ce1-b317a1f448b5"
      },
      "source": [
        "keras_model2.fit(xtrain,ytrain, epochs=1, sample_weight=sample_weight,\n",
        "          batch_size=512, verbose=1)#saurabhmodel-4"
      ],
      "execution_count": null,
      "outputs": [
        {
          "output_type": "stream",
          "text": [
            "Epoch 1/1\n",
            "208596/208596 [==============================] - 564s 3ms/step - loss: 4.6650 - accuracy: 0.2293\n"
          ],
          "name": "stdout"
        },
        {
          "output_type": "execute_result",
          "data": {
            "text/plain": [
              "<keras.callbacks.callbacks.History at 0x7f5beceb8240>"
            ]
          },
          "metadata": {
            "tags": []
          },
          "execution_count": 47
        }
      ]
    },
    {
      "cell_type": "code",
      "metadata": {
        "id": "GONavHhQDd-J",
        "colab": {
          "base_uri": "https://localhost:8080/",
          "height": 68
        },
        "outputId": "5b1faacc-5c27-4630-a637-397eacbe3b71"
      },
      "source": [
        "keras_model2.fit(xtrain,ytrain, epochs=1, sample_weight=sample_weight,\n",
        "          batch_size=512, verbose=1)#saurabhmodel-6"
      ],
      "execution_count": null,
      "outputs": [
        {
          "output_type": "stream",
          "text": [
            "Epoch 1/1\n",
            "208596/208596 [==============================] - 567s 3ms/step - loss: 4.5171 - accuracy: 0.2267\n"
          ],
          "name": "stdout"
        },
        {
          "output_type": "execute_result",
          "data": {
            "text/plain": [
              "<keras.callbacks.callbacks.History at 0x7f5becf70470>"
            ]
          },
          "metadata": {
            "tags": []
          },
          "execution_count": 56
        }
      ]
    },
    {
      "cell_type": "code",
      "metadata": {
        "id": "cvPuvspRDhrA",
        "colab": {
          "base_uri": "https://localhost:8080/",
          "height": 68
        },
        "outputId": "90e0e57e-2ec4-485f-e79a-f3b1a1401fa2"
      },
      "source": [
        "keras_model2.fit(xtrain,ytrain, epochs=1, sample_weight=sample_weight,\n",
        "          batch_size=512, verbose=1)#saurabhmodel-7"
      ],
      "execution_count": null,
      "outputs": [
        {
          "output_type": "stream",
          "text": [
            "Epoch 1/1\n",
            "208596/208596 [==============================] - 571s 3ms/step - loss: 4.4018 - accuracy: 0.2261\n"
          ],
          "name": "stdout"
        },
        {
          "output_type": "execute_result",
          "data": {
            "text/plain": [
              "<keras.callbacks.callbacks.History at 0x7f5ba76f57f0>"
            ]
          },
          "metadata": {
            "tags": []
          },
          "execution_count": 66
        }
      ]
    },
    {
      "cell_type": "code",
      "metadata": {
        "id": "E4YUzvvIIY9J"
      },
      "source": [
        "# fit differnt samples of data and then full data\n",
        "keras_model2.fit(xtrain,ytrain, epochs=4, sample_weight=sample_weight,\n",
        "          batch_size=512, verbose=1,validation_split=0.11)"
      ],
      "execution_count": null,
      "outputs": []
    },
    {
      "cell_type": "code",
      "metadata": {
        "id": "6493AkoHlWv1"
      },
      "source": [
        "import pickle\n",
        "pickle.dump(keras_model2.to_json(),open('gru7.pkl','wb'))"
      ],
      "execution_count": null,
      "outputs": []
    },
    {
      "cell_type": "code",
      "metadata": {
        "id": "RKNhYbNilWu0"
      },
      "source": [
        "import h5py\n",
        "import keras\n",
        "# from importlib import reload\n",
        "# import keras\n",
        "keras_model2.save_weights('gru7.weights')"
      ],
      "execution_count": null,
      "outputs": []
    },
    {
      "cell_type": "code",
      "metadata": {
        "id": "OLwDw7HzlWsS"
      },
      "source": [
        "#test.challenge.values[0]"
      ],
      "execution_count": null,
      "outputs": []
    },
    {
      "cell_type": "code",
      "metadata": {
        "id": "H3Kf4jUHlWpT"
      },
      "source": [
        "# generate_next('CI23855 CI23933 CI24917 CI24915 CI23714 CI23663 CI24958 CI25135 CI25727 CI24530')"
      ],
      "execution_count": null,
      "outputs": []
    },
    {
      "cell_type": "code",
      "metadata": {
        "id": "ISP15pGzlWnO",
        "colab": {
          "base_uri": "https://localhost:8080/"
        },
        "outputId": "389d33b6-80df-47c0-b5f9-9d474ee733ad"
      },
      "source": [
        "test_inds=np.array(test.challenge.apply(lambda x: np.array([word2idx(word) for word in x.split()])).tolist())\n",
        "test_inds.shape, xtrain.shape"
      ],
      "execution_count": null,
      "outputs": [
        {
          "output_type": "execute_result",
          "data": {
            "text/plain": [
              "((39732, 10), (208596, 10))"
            ]
          },
          "metadata": {
            "tags": []
          },
          "execution_count": 71
        }
      ]
    },
    {
      "cell_type": "code",
      "metadata": {
        "id": "B868nzvslWkN",
        "colab": {
          "base_uri": "https://localhost:8080/"
        },
        "outputId": "f47cca58-41c6-4642-b68d-30179f9a037b"
      },
      "source": [
        "# make predictions\n",
        "nnpred=keras_model2.predict(test_inds)\n",
        "nnpred.shape"
      ],
      "execution_count": null,
      "outputs": [
        {
          "output_type": "execute_result",
          "data": {
            "text/plain": [
              "(39732, 5502)"
            ]
          },
          "metadata": {
            "tags": []
          },
          "execution_count": 72
        }
      ]
    },
    {
      "cell_type": "code",
      "metadata": {
        "id": "JG9rW_RzlWho"
      },
      "source": [
        "nnpred2= pd.Series(nnpred.argsort(axis=1)[:,-3:].tolist())"
      ],
      "execution_count": null,
      "outputs": []
    },
    {
      "cell_type": "code",
      "metadata": {
        "id": "1FN3BmJ-lWeN"
      },
      "source": [
        "# store to csv\n",
        "count=0\n",
        "test['pred']=nnpred2.apply(lambda x: [idx2word(y) for y in x[::-1]])\n",
        "test_sub= test.copy()\n",
        "test_sub=pd.concat((test_sub,test_sub,test_sub))\n",
        "test_sub=test_sub.sort_values('user_id').reset_index(drop=True)\n",
        "test_sub['seq']=test_sub.groupby('user_id').cumcount()\n",
        "test_sub.seq= test_sub.seq+11\n",
        "test_sub['user_sequence']= test_sub.user_id.astype('str') + '_' + test_sub.seq.astype('str')\n",
        "test_sub['challenge']=test_sub.apply(lambda row: row['pred'][row['seq']-11], axis=1)\n",
        "test_sub[['user_sequence','challenge']].to_csv('test7.csv',index=False)"
      ],
      "execution_count": null,
      "outputs": []
    },
    {
      "cell_type": "code",
      "metadata": {
        "id": "tzg-zTmWlWY2"
      },
      "source": [
        "import pickle\n",
        "pickle.dump(keras_model2.to_json(),open('/content/drive/My Drive/Colab Notebooks/RNN/gru7.pkl','wb'))"
      ],
      "execution_count": null,
      "outputs": []
    },
    {
      "cell_type": "code",
      "metadata": {
        "id": "3oiU2m4blWVp"
      },
      "source": [
        "import h5py\n",
        "import keras\n",
        "# from importlib import reload\n",
        "# import keras\n",
        "keras_model2.save_weights('/content/drive/My Drive/Colab Notebooks/RNN/gru7.weights')"
      ],
      "execution_count": null,
      "outputs": []
    },
    {
      "cell_type": "code",
      "metadata": {
        "id": "2_G0nd-AlWPv"
      },
      "source": [
        "# store to csv\n",
        "count=0\n",
        "test['pred']=nnpred2.apply(lambda x: [idx2word(y) for y in x[::-1]])\n",
        "test_sub= test.copy()\n",
        "test_sub=pd.concat((test_sub,test_sub,test_sub))\n",
        "test_sub=test_sub.sort_values('user_id').reset_index(drop=True)\n",
        "test_sub['seq']=test_sub.groupby('user_id').cumcount()\n",
        "test_sub.seq= test_sub.seq+11\n",
        "test_sub['user_sequence']= test_sub.user_id.astype('str') + '_' + test_sub.seq.astype('str')\n",
        "test_sub['challenge']=test_sub.apply(lambda row: row['pred'][row['seq']-11], axis=1)\n",
        "test_sub[['user_sequence','challenge']].to_csv('/content/drive/My Drive/Colab Notebooks/RNN/saurabhmodel-7.csv',index=False)"
      ],
      "execution_count": null,
      "outputs": []
    },
    {
      "cell_type": "code",
      "metadata": {
        "id": "oTGUiX73lVUK"
      },
      "source": [
        ""
      ],
      "execution_count": null,
      "outputs": []
    }
  ]
}
