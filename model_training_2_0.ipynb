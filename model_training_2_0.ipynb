{
  "nbformat": 4,
  "nbformat_minor": 0,
  "metadata": {
    "kernelspec": {
      "display_name": "Python 3",
      "language": "python",
      "name": "python3"
    },
    "language_info": {
      "codemirror_mode": {
        "name": "ipython",
        "version": 3
      },
      "file_extension": ".py",
      "mimetype": "text/x-python",
      "name": "python",
      "nbconvert_exporter": "python",
      "pygments_lexer": "ipython3",
      "version": "3.7.4"
    },
    "toc": {
      "base_numbering": 1,
      "nav_menu": {},
      "number_sections": true,
      "sideBar": true,
      "skip_h1_title": false,
      "title_cell": "Table of Contents",
      "title_sidebar": "Contents",
      "toc_cell": false,
      "toc_position": {},
      "toc_section_display": true,
      "toc_window_display": false
    },
    "colab": {
      "name": "model training 2.0.ipynb",
      "provenance": [],
      "collapsed_sections": []
    },
    "accelerator": "TPU"
  },
  "cells": [

    {
      "cell_type": "code",
      "metadata": {
        "id": "YVzWdTAlhVnJ"
      },
      "source": [
        ""
      ],
      "execution_count": null,
      "outputs": []
    },
    {
      "cell_type": "code",
      "metadata": {
        "id": "VxvaCWUyhVvw"
      },
      "source": [
        ""
      ],
      "execution_count": null,
      "outputs": []
    },
    {
      "cell_type": "code",
      "metadata": {
        "id": "3P9W8sz3AnaA"
      },
      "source": [
        "import pandas as pd\n",
        "import numpy as np\n",
        "import gensim\n",
        "from random import sample"
      ],
      "execution_count": null,
      "outputs": []
    },
    {
      "cell_type": "code",
      "metadata": {
        "id": "d3GEujo9AnaL"
      },
      "source": [
        "# Load data\n",
        "train_chal= pd.read_csv('/content/drive/My Drive/Colab Notebooks/RNN/train.csv')\n",
        "test_chal = pd.read_csv('/content/drive/My Drive/Colab Notebooks/RNN/test.csv')\n",
        "chall_details= pd.read_csv('/content/drive/My Drive/Colab Notebooks/RNN/challenge_data.csv')"
      ],
      "execution_count": null,
      "outputs": []
    },
    {
      "cell_type": "code",
      "metadata": {
        "id": "BnkxucF4AnaQ"
      },
      "source": [
        "train=train_chal.groupby('user_id').challenge.apply(lambda x: ' '.join(x)).reset_index()"
      ],
      "execution_count": null,
      "outputs": []
    },
    {
      "cell_type": "code",
      "metadata": {
        "id": "4o4XaGgXAnaW"
      },
      "source": [
        "test=test_chal.groupby('user_id').challenge.apply(lambda x: ' '.join(x)).reset_index()"
      ],
      "execution_count": null,
      "outputs": []
    },
    {
      "cell_type": "code",
      "metadata": {
        "id": "lm7LOcnOAnaa",
        "colab": {
          "base_uri": "https://localhost:8080/",
          "height": 34
        },
        "outputId": "226c98ab-8f06-4fce-fc71-f5699584dd1c"
      },
      "source": [
        "set(train.user_id).intersection(test.user_id\n",
        "                               )"
      ],
      "execution_count": null,
      "outputs": [
        {
          "output_type": "execute_result",
          "data": {
            "text/plain": [
              "set()"
            ]
          },
          "metadata": {
            "tags": []
          },
          "execution_count": 33
        }
      ]
    },
    {
      "cell_type": "code",
      "metadata": {
        "id": "IopA3tyBAnag",
        "colab": {
          "base_uri": "https://localhost:8080/",
          "height": 34
        },
        "outputId": "11346a2e-6a7f-4c8c-b004-eb42d66ada9f"
      },
      "source": [
        "train.shape, test.shape"
      ],
      "execution_count": null,
      "outputs": [
        {
          "output_type": "execute_result",
          "data": {
            "text/plain": [
              "((69532, 2), (39732, 2))"
            ]
          },
          "metadata": {
            "tags": []
          },
          "execution_count": 34
        }
      ]
    },
    {
      "cell_type": "code",
      "metadata": {
        "id": "0IxCq8kCAnan"
      },
      "source": [
        "sentence_list=pd.concat((train.challenge,test.challenge)).apply(lambda x: x.split())\n",
        "# sentence_list= train.challenge.apply(lambda x: x.split())"
      ],
      "execution_count": null,
      "outputs": []
    },
    {
      "cell_type": "code",
      "metadata": {
        "id": "SgsraOw-Anau",
        "colab": {
          "base_uri": "https://localhost:8080/",
          "height": 52
        },
        "outputId": "c8b41c34-d651-4bc3-9ebe-2812b9ea42a0"
      },
      "source": [
        "# train word2vec model to learn embeddings\n",
        "neg=15\n",
        "itera=200\n",
        "window=5\n",
        "size=500\n",
        "print ('doing_'+str(neg)+'_'+str(window)+'_'+str(itera))\n",
        "model=gensim.models.Word2Vec(sentence_list,size=size,window=window,workers=8,min_count=0, hs=1,iter=itera,sg=1)\n",
        "model.save('word2vec_solved_iter')"
      ],
      "execution_count": null,
      "outputs": [
        {
          "output_type": "execute_result",
          "data": {
            "application/vnd.google.colaboratory.intrinsic": {
              "type": "string"
            },
            "text/plain": [
              "\"neg=15\\nitera=200\\nwindow=5\\nsize=500\\nprint ('doing_'+str(neg)+'_'+str(window)+'_'+str(itera))\\nmodel=gensim.models.Word2Vec(sentence_list,size=size,window=window,workers=8,min_count=0, hs=1,iter=itera,sg=1)\\nmodel.save('word2vec_solved_iter')\""
            ]
          },
          "metadata": {
            "tags": []
          },
          "execution_count": 36
        }
      ]
    },
    {
      "cell_type": "code",
      "metadata": {
        "id": "c2kbuLt9Ana3",
        "colab": {
          "base_uri": "https://localhost:8080/",
          "height": 71
        },
        "outputId": "396ec126-43dc-4d9b-e0ef-83eb81a1a9f5"
      },
      "source": [
        "model= gensim.models.Word2Vec.load('/content/drive/My Drive/Colab Notebooks/RNN/word2vec_solved_iter__noshuf_5window_100_size_500')"
      ],
      "execution_count": null,
      "outputs": [
        {
          "output_type": "stream",
          "text": [
            "/usr/local/lib/python3.6/dist-packages/smart_open/smart_open_lib.py:253: UserWarning: This function is deprecated, use smart_open.open instead. See the migration notes for details: https://github.com/RaRe-Technologies/smart_open/blob/master/README.rst#migrating-to-the-new-open-function\n",
            "  'See the migration notes for details: %s' % _MIGRATION_NOTES_URL\n"
          ],
          "name": "stderr"
        }
      ]
    },
    {
      "cell_type": "code",
      "metadata": {
        "id": "OPk1yLiUAna8",
        "colab": {
          "base_uri": "https://localhost:8080/",
          "height": 275
        },
        "outputId": "84931cee-ba0b-45a6-999e-5ba9f90bd881"
      },
      "source": [
        "model.most_similar('CI23855')"
      ],
      "execution_count": null,
      "outputs": [
        {
          "output_type": "stream",
          "text": [
            "/usr/local/lib/python3.6/dist-packages/ipykernel_launcher.py:1: DeprecationWarning: Call to deprecated `most_similar` (Method will be removed in 4.0.0, use self.wv.most_similar() instead).\n",
            "  \"\"\"Entry point for launching an IPython kernel.\n",
            "/usr/local/lib/python3.6/dist-packages/gensim/matutils.py:737: FutureWarning: Conversion of the second argument of issubdtype from `int` to `np.signedinteger` is deprecated. In future, it will be treated as `np.int64 == np.dtype(int).type`.\n",
            "  if np.issubdtype(vec.dtype, np.int):\n"
          ],
          "name": "stderr"
        },
        {
          "output_type": "execute_result",
          "data": {
            "text/plain": [
              "[('CI23663', 0.36745941638946533),\n",
              " ('CI23975', 0.31903666257858276),\n",
              " ('CI23933', 0.31583738327026367),\n",
              " ('CI23913', 0.2977244257926941),\n",
              " ('CI25135', 0.2900288701057434),\n",
              " ('CI23714', 0.2872004508972168),\n",
              " ('CI24915', 0.2844502329826355),\n",
              " ('CI24917', 0.2660750150680542),\n",
              " ('CI24958', 0.2638528645038605),\n",
              " ('CI24527', 0.2628430724143982)]"
            ]
          },
          "metadata": {
            "tags": []
          },
          "execution_count": 38
        }
      ]
    },
    {
      "cell_type": "code",
      "metadata": {
        "id": "txMU84uZAnbB"
      },
      "source": [
        "from keras.models import Sequential\n",
        "from keras.layers.core import Dense, Dropout, Activation\n",
        "from keras.layers import TimeDistributed, concatenate, Bidirectional, Masking, RepeatVector\n",
        "from keras.layers.embeddings import Embedding\n",
        "from keras.layers.recurrent import LSTM, GRU, SimpleRNN\n",
        "from keras.layers.convolutional import Convolution1D, MaxPooling1D\n"
      ],
      "execution_count": null,
      "outputs": []
    },
    {
      "cell_type": "code",
      "metadata": {
        "id": "uQYlZW-JAnbH",
        "colab": {
          "base_uri": "https://localhost:8080/",
          "height": 88
        },
        "outputId": "b7b1a172-a6b2-4d85-9d04-1143631d6f6d"
      },
      "source": [
        "pretrained_weights = model.wv.syn0\n",
        "vocab_size, emdedding_size = pretrained_weights.shape\n",
        "print('Result embedding shape:', pretrained_weights.shape)"
      ],
      "execution_count": null,
      "outputs": [
        {
          "output_type": "stream",
          "text": [
            "Result embedding shape: (5502, 500)\n"
          ],
          "name": "stdout"
        },
        {
          "output_type": "stream",
          "text": [
            "/usr/local/lib/python3.6/dist-packages/ipykernel_launcher.py:1: DeprecationWarning: Call to deprecated `syn0` (Attribute will be removed in 4.0.0, use self.wv.vectors instead).\n",
            "  \"\"\"Entry point for launching an IPython kernel.\n"
          ],
          "name": "stderr"
        }
      ]
    },
    {
      "cell_type": "code",
      "metadata": {
        "id": "VVT0XLhWAnbL"
      },
      "source": [
        "def word2idx(word):\n",
        "  return model.wv.vocab[word].index\n",
        "def idx2word(idx):\n",
        "  return model.wv.index2word[idx]"
      ],
      "execution_count": null,
      "outputs": []
    },
    {
      "cell_type": "code",
      "metadata": {
        "id": "YNbFK7EwAnbQ"
      },
      "source": [
        "# generate int sequences for challenge sentences\n",
        "train_seq=np.array(train.challenge.apply(lambda x: x.split()).apply(lambda x: ([(word2idx(y)) for y in x])).tolist())\n",
        "test_seq=np.array(test.challenge.apply(lambda x: x.split()).apply(lambda x: ([(word2idx(y)) for y in x])).tolist())"
      ],
      "execution_count": null,
      "outputs": []
    },
    {
      "cell_type": "code",
      "metadata": {
        "id": "fEVhetxUDgtq",
        "colab": {
          "base_uri": "https://localhost:8080/",
          "height": 340
        },
        "outputId": "12f33bf9-8e1c-44f5-d53c-fa6829c992d6"
      },
      "source": [
        "print('train:',train_seq.shape)\n",
        "print('------------------')\n",
        "print('test:',test_seq.shape)\n",
        "print('------------------')\n",
        "print('train:',train_seq)\n",
        "print('------------------')\n",
        "print('test:',test_seq)"
      ],
      "execution_count": null,
      "outputs": [
        {
          "output_type": "stream",
          "text": [
            "train: (69532, 13)\n",
            "------------------\n",
            "test: (39732, 10)\n",
            "------------------\n",
            "train: [[   1    0    2 ...    4   36    8]\n",
            " [   3    0    5 ...   13  101   33]\n",
            " [ 209  260  228 ...  340  233  188]\n",
            " ...\n",
            " [  60  143   33 ...   68  524  802]\n",
            " [  48    5   58 ...  351  464 1170]\n",
            " [  13  143  246 ... 2499 1270 2247]]\n",
            "------------------\n",
            "test: [[  0   5   2 ...   6 101   7]\n",
            " [  3   0   2 ...  13   4  93]\n",
            " [369 702 549 ... 595 479 266]\n",
            " ...\n",
            " [  5 123  29 ... 699 468  68]\n",
            " [  3 123 143 ... 299 387   6]\n",
            " [ 12   5  83 ...   1   7  62]]\n"
          ],
          "name": "stdout"
        }
      ]
    },
    {
      "cell_type": "code",
      "metadata": {
        "id": "4rNsCUQmAnbV",
        "colab": {
          "base_uri": "https://localhost:8080/",
          "height": 34
        },
        "outputId": "ce8cfd70-2d75-48db-e5cd-fb71fd2e1128"
      },
      "source": [
        "xtrain=train_seq[:,:10]\n",
        "ytrain= train_seq[:,10]\n",
        "xtrain.shape, ytrain.shape"
      ],
      "execution_count": null,
      "outputs": [
        {
          "output_type": "execute_result",
          "data": {
            "text/plain": [
              "((69532, 10), (69532,))"
            ]
          },
          "metadata": {
            "tags": []
          },
          "execution_count": 44
        }
      ]
    },
    {
      "cell_type": "code",
      "metadata": {
        "id": "5Jb7zejUDon9",
        "colab": {
          "base_uri": "https://localhost:8080/",
          "height": 238
        },
        "outputId": "90fee008-0dbf-4dad-e958-498cee586c59"
      },
      "source": [
        "print('xtrain:',xtrain.shape)\n",
        "print('------------------')\n",
        "print('ytrain:',ytrain.shape)\n",
        "print('------------------')\n",
        "print('train:',xtrain)\n",
        "print('------------------')\n",
        "print('ytrain:',ytrain)"
      ],
      "execution_count": null,
      "outputs": [
        {
          "output_type": "stream",
          "text": [
            "xtrain: (69532, 10)\n",
            "------------------\n",
            "ytrain: (69532,)\n",
            "------------------\n",
            "train: [[   1    0    2 ...   10   13   35]\n",
            " [   3    0    5 ...   93   36    6]\n",
            " [ 209  260  228 ...  210  179  202]\n",
            " ...\n",
            " [  60  143   33 ...  212  305    8]\n",
            " [  48    5   58 ...   11  151  620]\n",
            " [  13  143  246 ... 2817  205  166]]\n",
            "------------------\n",
            "ytrain: [   4   13  340 ...   68  351 2499]\n"
          ],
          "name": "stdout"
        }
      ]
    },
    {
      "cell_type": "code",
      "metadata": {
        "id": "dCEG7nuQAnbZ"
      },
      "source": [
        "# add 11th,12th,13th challenge to outcome\n",
        "xtrain= np.concatenate((xtrain,xtrain,xtrain),axis=0)\n",
        "ytrain= np.concatenate((train_seq[:,10],train_seq[:,11],train_seq[:,12]))"
      ],
      "execution_count": null,
      "outputs": []
    },
    {
      "cell_type": "code",
      "metadata": {
        "id": "MVYhtVO0ExAK",
        "colab": {
          "base_uri": "https://localhost:8080/",
          "height": 238
        },
        "outputId": "3f16f892-ca79-43ee-927f-191ba26629a4"
      },
      "source": [
        "print('xtrain:',xtrain.shape)\n",
        "print('------------------')\n",
        "print('ytrain:',ytrain.shape)\n",
        "print('------------------')\n",
        "print('train:',xtrain)\n",
        "print('------------------')\n",
        "print('ytrain:',ytrain)"
      ],
      "execution_count": null,
      "outputs": [
        {
          "output_type": "stream",
          "text": [
            "xtrain: (208596, 10)\n",
            "------------------\n",
            "ytrain: (208596,)\n",
            "------------------\n",
            "train: [[   1    0    2 ...   10   13   35]\n",
            " [   3    0    5 ...   93   36    6]\n",
            " [ 209  260  228 ...  210  179  202]\n",
            " ...\n",
            " [  60  143   33 ...  212  305    8]\n",
            " [  48    5   58 ...   11  151  620]\n",
            " [  13  143  246 ... 2817  205  166]]\n",
            "------------------\n",
            "ytrain: [   4   13  340 ...  802 1170 2247]\n"
          ],
          "name": "stdout"
        }
      ]
    },
    {
      "cell_type": "code",
      "metadata": {
        "id": "0xXTQ-86Anbe"
      },
      "source": [
        "# define nn model\n",
        "from keras.layers import Embedding\n",
        "emdedding_size=500\n",
        "vocab_size=5502\n",
        "keras_model2 = Sequential()\n",
        "keras_model2.add(Embedding(input_dim=vocab_size, output_dim=emdedding_size, \n",
        "                    weights=[pretrained_weights]))\n",
        "\n",
        "keras_model2.add(GRU(units=emdedding_size))\n",
        "keras_model2.add(Dense(units=vocab_size,activation=\"relu\"))\n",
        "\n",
        "keras_model2.add(Activation('softmax'))\n",
        "keras_model2.compile(optimizer='adam', loss='sparse_categorical_crossentropy',metrics = ['accuracy'])"
      ],
      "execution_count": null,
      "outputs": []
    },
    {
      "cell_type": "code",
      "metadata": {
        "id": "v1i7sBKRAnbi"
      },
      "source": [
        "sample_weight=np.concatenate((np.ones(train.shape[0])*3,np.ones(train.shape[0])*2,np.ones(train.shape[0])))"
      ],
      "execution_count": null,
      "outputs": []
    },
    {
      "cell_type": "code",
      "metadata": {
        "scrolled": false,
        "id": "U1oB8xZaAnbs",
        "colab": {
          "base_uri": "https://localhost:8080/"
        },
        "outputId": "4dff4937-301a-4590-e241-6b1245f6b5e6"
      },
      "source": [
        "'''# fit differnt samples of data and then full data\n",
        "keras_model2.fit(xtrain,ytrain, epochs=5, sample_weight=sample_weight,\n",
        "          batch_size=512, verbose=1,validation_split=0.11)\n",
        "keras_model2.fit(xtrain,ytrain, epochs=2, sample_weight=sample_weight,\n",
        "          batch_size=512, verbose=1,validation_split=0.10)\n",
        "keras_model2.fit(xtrain,ytrain, epochs=2, sample_weight=sample_weight,\n",
        "          batch_size=512, verbose=1,validation_split=0.10)\n",
        "keras_model2.fit(xtrain,ytrain, epochs=5, sample_weight=sample_weight,\n",
        "          batch_size=256, verbose=1,validation_split=0.11)\n",
        "keras_model2.fit(xtrain,ytrain, epochs=2, sample_weight=sample_weight,\n",
        "          batch_size=256, verbose=1,validation_split=0.10)\n",
        "keras_model2.fit(xtrain,ytrain, epochs=2, sample_weight=sample_weight,\n",
        "          batch_size=256, verbose=1,validation_split=0.10)\n",
        "keras_model2.fit(xtrain,ytrain, epochs=5, sample_weight=sample_weight,\n",
        "          batch_size=1024, verbose=1,validation_split=0.11)\n",
        "keras_model2.fit(xtrain,ytrain, epochs=10, sample_weight=sample_weight,\n",
        "          batch_size=512, verbose=1)'''"
      ],
      "execution_count": null,
      "outputs": [
        {
          "output_type": "execute_result",
          "data": {
            "application/vnd.google.colaboratory.intrinsic": {
              "type": "string"
            },
            "text/plain": [
              "'# fit differnt samples of data and then full data\\nkeras_model2.fit(xtrain,ytrain, epochs=5, sample_weight=sample_weight,\\n          batch_size=512, verbose=1,validation_split=0.11)\\nkeras_model2.fit(xtrain,ytrain, epochs=2, sample_weight=sample_weight,\\n          batch_size=512, verbose=1,validation_split=0.10)\\nkeras_model2.fit(xtrain,ytrain, epochs=2, sample_weight=sample_weight,\\n          batch_size=512, verbose=1,validation_split=0.10)\\nkeras_model2.fit(xtrain,ytrain, epochs=5, sample_weight=sample_weight,\\n          batch_size=256, verbose=1,validation_split=0.11)\\nkeras_model2.fit(xtrain,ytrain, epochs=2, sample_weight=sample_weight,\\n          batch_size=256, verbose=1,validation_split=0.10)\\nkeras_model2.fit(xtrain,ytrain, epochs=2, sample_weight=sample_weight,\\n          batch_size=256, verbose=1,validation_split=0.10)\\nkeras_model2.fit(xtrain,ytrain, epochs=5, sample_weight=sample_weight,\\n          batch_size=1024, verbose=1,validation_split=0.11)\\nkeras_model2.fit(xtrain,ytrain, epochs=10, sample_weight=sample_weight,\\n          batch_size=512, verbose=1)'"
            ]
          },
          "metadata": {
            "tags": []
          },
          "execution_count": 23
        }
      ]
    },
    {
      "cell_type": "code",
      "metadata": {
        "id": "OJ_aKw-pi9-w",
        "colab": {
          "base_uri": "https://localhost:8080/"
        },
        "outputId": "c432c68c-1cdc-4f2f-cef2-4df772d37dab"
      },
      "source": [
        "'''# fit differnt samples of data and then full data\n",
        "keras_model2.fit(xtrain,ytrain, epochs=5, sample_weight=sample_weight,\n",
        "          batch_size=512, verbose=1,validation_split=0.11)\n",
        "keras_model2.fit(xtrain,ytrain, epochs=3, sample_weight=sample_weight,\n",
        "          batch_size=512, verbose=1,validation_split=0.11)\n",
        "keras_model2.fit(xtrain,ytrain, epochs=3, sample_weight=sample_weight,\n",
        "          batch_size=512, verbose=1,validation_split=0.11)\n",
        "keras_model2.fit(xtrain,ytrain, epochs=5, sample_weight=sample_weight,\n",
        "          batch_size=256, verbose=1,validation_split=0.11)\n",
        "keras_model2.fit(xtrain,ytrain, epochs=3, sample_weight=sample_weight,\n",
        "          batch_size=256, verbose=1,validation_split=0.11)\n",
        "keras_model2.fit(xtrain,ytrain, epochs=3, sample_weight=sample_weight,\n",
        "          batch_size=256, verbose=1,validation_split=0.11)\n",
        "keras_model2.fit(xtrain,ytrain, epochs=5, sample_weight=sample_weight,\n",
        "          batch_size=1024, verbose=1,validation_split=0.11)\n",
        "keras_model2.fit(xtrain,ytrain, epochs=3, sample_weight=sample_weight,\n",
        "          batch_size=1024, verbose=1,validation_split=0.11)\n",
        "keras_model2.fit(xtrain,ytrain, epochs=3, sample_weight=sample_weight,\n",
        "          batch_size=1024, verbose=1,validation_split=0.11)\n",
        "keras_model2.fit(xtrain,ytrain, epochs=10, sample_weight=sample_weight,\n",
        "          batch_size=512, verbose=1)'''"
      ],
      "execution_count": null,
      "outputs": [
        {
          "output_type": "stream",
          "text": [
            "/usr/local/lib/python3.6/dist-packages/tensorflow/python/framework/indexed_slices.py:434: UserWarning: Converting sparse IndexedSlices to a dense Tensor of unknown shape. This may consume a large amount of memory.\n",
            "  \"Converting sparse IndexedSlices to a dense Tensor of unknown shape. \"\n"
          ],
          "name": "stderr"
        },
        {
          "output_type": "stream",
          "text": [
            "Train on 185650 samples, validate on 22946 samples\n",
            "Epoch 1/5\n",
            "185650/185650 [==============================] - 527s 3ms/step - loss: 11.6608 - accuracy: 0.0372 - val_loss: 5.4183 - val_accuracy: 0.0305\n",
            "Epoch 2/5\n",
            "185650/185650 [==============================] - 524s 3ms/step - loss: 9.7055 - accuracy: 0.0644 - val_loss: 5.1837 - val_accuracy: 0.0370\n",
            "Epoch 3/5\n",
            "185650/185650 [==============================] - 528s 3ms/step - loss: 8.8673 - accuracy: 0.0907 - val_loss: 5.1011 - val_accuracy: 0.0385\n",
            "Epoch 4/5\n",
            "185650/185650 [==============================] - 530s 3ms/step - loss: 8.1323 - accuracy: 0.1179 - val_loss: 5.1336 - val_accuracy: 0.0372\n",
            "Epoch 5/5\n",
            "185650/185650 [==============================] - 536s 3ms/step - loss: 7.4518 - accuracy: 0.1466 - val_loss: 5.2305 - val_accuracy: 0.0345\n",
            "Train on 185650 samples, validate on 22946 samples\n",
            "Epoch 1/3\n",
            "185650/185650 [==============================] - 527s 3ms/step - loss: 6.8631 - accuracy: 0.1708 - val_loss: 5.3602 - val_accuracy: 0.0302\n",
            "Epoch 2/3\n",
            "185650/185650 [==============================] - 532s 3ms/step - loss: 6.3337 - accuracy: 0.1926 - val_loss: 5.5035 - val_accuracy: 0.0261\n",
            "Epoch 3/3\n",
            "185650/185650 [==============================] - 532s 3ms/step - loss: 5.8834 - accuracy: 0.2090 - val_loss: 5.6782 - val_accuracy: 0.0177\n",
            "Train on 185650 samples, validate on 22946 samples\n",
            "Epoch 1/3\n",
            "185650/185650 [==============================] - 528s 3ms/step - loss: 5.4990 - accuracy: 0.2245 - val_loss: 5.8471 - val_accuracy: 0.0140\n",
            "Epoch 2/3\n",
            "185650/185650 [==============================] - 534s 3ms/step - loss: 5.1746 - accuracy: 0.2352 - val_loss: 6.0116 - val_accuracy: 0.0121\n",
            "Epoch 3/3\n",
            "185650/185650 [==============================] - 532s 3ms/step - loss: 4.9106 - accuracy: 0.2421 - val_loss: 6.1676 - val_accuracy: 0.0074\n",
            "Train on 185650 samples, validate on 22946 samples\n",
            "Epoch 1/5\n",
            "185650/185650 [==============================] - 602s 3ms/step - loss: 5.5098 - accuracy: 0.2119 - val_loss: 6.3100 - val_accuracy: 0.0111\n",
            "Epoch 2/5\n",
            "185650/185650 [==============================] - 604s 3ms/step - loss: 5.0913 - accuracy: 0.2312 - val_loss: 6.4827 - val_accuracy: 0.0078\n",
            "Epoch 3/5\n",
            "185650/185650 [==============================] - 603s 3ms/step - loss: 4.8216 - accuracy: 0.2384 - val_loss: 6.5927 - val_accuracy: 0.0061\n",
            "Epoch 4/5\n",
            "185650/185650 [==============================] - 600s 3ms/step - loss: 4.6601 - accuracy: 0.2411 - val_loss: 6.7127 - val_accuracy: 0.0050\n",
            "Epoch 5/5\n",
            "185650/185650 [==============================] - 605s 3ms/step - loss: 4.5467 - accuracy: 0.2422 - val_loss: 6.8153 - val_accuracy: 0.0036\n",
            "Train on 185650 samples, validate on 22946 samples\n",
            "Epoch 1/3\n",
            "185650/185650 [==============================] - 608s 3ms/step - loss: 4.4599 - accuracy: 0.2439 - val_loss: 6.8959 - val_accuracy: 0.0035\n",
            "Epoch 2/3\n",
            "185650/185650 [==============================] - 602s 3ms/step - loss: 4.3897 - accuracy: 0.2441 - val_loss: 6.9909 - val_accuracy: 0.0027\n",
            "Epoch 3/3\n",
            "185650/185650 [==============================] - 602s 3ms/step - loss: 4.3371 - accuracy: 0.2424 - val_loss: 7.0122 - val_accuracy: 0.0024\n",
            "Train on 185650 samples, validate on 22946 samples\n",
            "Epoch 1/3\n",
            "185650/185650 [==============================] - 602s 3ms/step - loss: 4.2937 - accuracy: 0.2408 - val_loss: 7.0984 - val_accuracy: 0.0019\n",
            "Epoch 2/3\n",
            "185650/185650 [==============================] - 605s 3ms/step - loss: 4.2515 - accuracy: 0.2418 - val_loss: 7.1000 - val_accuracy: 0.0023\n",
            "Epoch 3/3\n",
            "185650/185650 [==============================] - 610s 3ms/step - loss: 4.2100 - accuracy: 0.2422 - val_loss: 7.1336 - val_accuracy: 0.0018\n",
            "Train on 185650 samples, validate on 22946 samples\n",
            "Epoch 1/5\n",
            "185650/185650 [==============================] - 497s 3ms/step - loss: 3.2784 - accuracy: 0.3168 - val_loss: 7.2727 - val_accuracy: 0.0000e+00\n",
            "Epoch 2/5\n",
            "185650/185650 [==============================] - 494s 3ms/step - loss: 2.9502 - accuracy: 0.3059 - val_loss: 7.3112 - val_accuracy: 0.0000e+00\n",
            "Epoch 3/5\n",
            "185650/185650 [==============================] - 492s 3ms/step - loss: 2.8755 - accuracy: 0.2945 - val_loss: 7.3714 - val_accuracy: 0.0000e+00\n",
            "Epoch 4/5\n",
            "185650/185650 [==============================] - 494s 3ms/step - loss: 2.8625 - accuracy: 0.2822 - val_loss: 7.4309 - val_accuracy: 0.0000e+00\n",
            "Epoch 5/5\n",
            "185650/185650 [==============================] - 488s 3ms/step - loss: 2.8692 - accuracy: 0.2731 - val_loss: 7.4906 - val_accuracy: 0.0000e+00\n",
            "Train on 185650 samples, validate on 22946 samples\n",
            "Epoch 1/3\n",
            "185650/185650 [==============================] - 489s 3ms/step - loss: 2.8843 - accuracy: 0.2676 - val_loss: 7.5472 - val_accuracy: 0.0000e+00\n",
            "Epoch 2/3\n",
            "185650/185650 [==============================] - 491s 3ms/step - loss: 2.9051 - accuracy: 0.2635 - val_loss: 7.5945 - val_accuracy: 0.0000e+00\n",
            "Epoch 3/3\n",
            "185650/185650 [==============================] - 491s 3ms/step - loss: 2.9218 - accuracy: 0.2596 - val_loss: 7.6346 - val_accuracy: 0.0000e+00\n",
            "Train on 185650 samples, validate on 22946 samples\n",
            "Epoch 1/3\n",
            "185650/185650 [==============================] - 487s 3ms/step - loss: 2.9429 - accuracy: 0.2566 - val_loss: 7.6656 - val_accuracy: 0.0000e+00\n",
            "Epoch 2/3\n",
            "185650/185650 [==============================] - 493s 3ms/step - loss: 2.9587 - accuracy: 0.2558 - val_loss: 7.7022 - val_accuracy: 0.0000e+00\n",
            "Epoch 3/3\n",
            "185650/185650 [==============================] - 493s 3ms/step - loss: 2.9752 - accuracy: 0.2539 - val_loss: 7.7321 - val_accuracy: 0.0000e+00\n",
            "Epoch 1/10\n",
            "208596/208596 [==============================] - 588s 3ms/step - loss: 4.1214 - accuracy: 0.2057\n",
            "Epoch 2/10\n",
            "208596/208596 [==============================] - 580s 3ms/step - loss: 4.0186 - accuracy: 0.2123\n",
            "Epoch 3/10\n",
            "208596/208596 [==============================] - 580s 3ms/step - loss: 3.8855 - accuracy: 0.2133\n",
            "Epoch 4/10\n",
            "208596/208596 [==============================] - 580s 3ms/step - loss: 3.8052 - accuracy: 0.2135\n",
            "Epoch 5/10\n",
            "208596/208596 [==============================] - 572s 3ms/step - loss: 3.7528 - accuracy: 0.2121\n",
            "Epoch 6/10\n",
            "208596/208596 [==============================] - 569s 3ms/step - loss: 3.7079 - accuracy: 0.2108\n",
            "Epoch 7/10\n",
            "208596/208596 [==============================] - 570s 3ms/step - loss: 3.6809 - accuracy: 0.2116\n",
            "Epoch 8/10\n",
            "208596/208596 [==============================] - 571s 3ms/step - loss: 3.6489 - accuracy: 0.2126\n",
            "Epoch 9/10\n",
            "208596/208596 [==============================] - 578s 3ms/step - loss: 3.6301 - accuracy: 0.2111\n",
            "Epoch 10/10\n",
            "208596/208596 [==============================] - 578s 3ms/step - loss: 3.6045 - accuracy: 0.2116\n"
          ],
          "name": "stdout"
        },
        {
          "output_type": "execute_result",
          "data": {
            "text/plain": [
              "<keras.callbacks.callbacks.History at 0x7fddca16a2e8>"
            ]
          },
          "metadata": {
            "tags": []
          },
          "execution_count": 46
        }
      ]
    },
    {
      "cell_type": "code",
      "metadata": {
        "id": "oxVenmg4iKuG"
      },
      "source": [
        ""
      ],
      "execution_count": null,
      "outputs": []
    },
    {
      "cell_type": "code",
      "metadata": {
        "id": "QNGhl35miJbI",
        "colab": {
          "base_uri": "https://localhost:8080/",
          "height": 442
        },
        "outputId": "801ef6eb-6f28-4838-d6a8-47eaac311a54"
      },
      "source": [
        "# fit differnt samples of data and then full data\n",
        "keras_model2.fit(xtrain,ytrain, epochs=2,\n",
        "          batch_size=256, verbose=1,validation_split=0.11)\n",
        "keras_model2.fit(xtrain,ytrain, epochs=2,\n",
        "          batch_size=512, verbose=1,validation_split=0.10)\n",
        "keras_model2.fit(xtrain,ytrain, epochs=2, \n",
        "          batch_size=768, verbose=1,validation_split=0.10)\n",
        "keras_model2.fit(xtrain,ytrain, epochs=2, \n",
        "          batch_size=1024, verbose=1,validation_split=0.11)\n",
        "keras_model2.fit(xtrain,ytrain, epochs=2, \n",
        "          batch_size=512, verbose=1)"
      ],
      "execution_count": null,
      "outputs": [
        {
          "output_type": "stream",
          "text": [
            "Train on 185650 samples, validate on 22946 samples\n",
            "Epoch 1/2\n",
            "185650/185650 [==============================] - 645s 3ms/step - loss: 7.0925 - accuracy: 0.0453 - val_loss: 7.2894 - val_accuracy: 0.0302\n",
            "Epoch 2/2\n",
            "185650/185650 [==============================] - 654s 4ms/step - loss: 6.5929 - accuracy: 0.0711 - val_loss: 7.0854 - val_accuracy: 0.0402\n",
            "Train on 187736 samples, validate on 20860 samples\n",
            "Epoch 1/2\n",
            "187736/187736 [==============================] - 557s 3ms/step - loss: 6.2731 - accuracy: 0.1012 - val_loss: 6.9965 - val_accuracy: 0.0400\n",
            "Epoch 2/2\n",
            "187736/187736 [==============================] - 562s 3ms/step - loss: 6.0843 - accuracy: 0.1190 - val_loss: 6.9667 - val_accuracy: 0.0394\n",
            "Train on 187736 samples, validate on 20860 samples\n",
            "Epoch 1/2\n",
            "187736/187736 [==============================] - 524s 3ms/step - loss: 5.8741 - accuracy: 0.1430 - val_loss: 6.9522 - val_accuracy: 0.0388\n",
            "Epoch 2/2\n",
            "187736/187736 [==============================] - 530s 3ms/step - loss: 5.7130 - accuracy: 0.1566 - val_loss: 6.9103 - val_accuracy: 0.0348\n",
            "Train on 185650 samples, validate on 22946 samples\n",
            "Epoch 1/2\n",
            "185650/185650 [==============================] - 508s 3ms/step - loss: 5.5191 - accuracy: 0.1776 - val_loss: 6.8460 - val_accuracy: 0.0377\n",
            "Epoch 2/2\n",
            "185650/185650 [==============================] - 488s 3ms/step - loss: 5.3453 - accuracy: 0.1895 - val_loss: 6.8495 - val_accuracy: 0.0342\n",
            "Epoch 1/2\n",
            "208596/208596 [==============================] - 575s 3ms/step - loss: 5.5166 - accuracy: 0.1599\n",
            "Epoch 2/2\n",
            "208596/208596 [==============================] - 586s 3ms/step - loss: 5.3430 - accuracy: 0.1760\n"
          ],
          "name": "stdout"
        },
        {
          "output_type": "execute_result",
          "data": {
            "text/plain": [
              "<keras.callbacks.callbacks.History at 0x7f54274edf98>"
            ]
          },
          "metadata": {
            "tags": []
          },
          "execution_count": 62
        }
      ]
    },
    {
      "cell_type": "code",
      "metadata": {
        "id": "1IEkVcgPZe5_"
      },
      "source": [
        ""
      ],
      "execution_count": null,
      "outputs": []
    },
    {
      "cell_type": "code",
      "metadata": {
        "id": "DYhws84jPv_K"
      },
      "source": [
        "#keras_model2.evaluate(xtrain, ytrain)"
      ],
      "execution_count": null,
      "outputs": []
    },
    {
      "cell_type": "markdown",
      "metadata": {
        "id": "xL0V8CbrAnbw"
      },
      "source": [
        "val loss= 5.0348, 5.07"
      ]
    },
    {
      "cell_type": "code",
      "metadata": {
        "id": "0qjzkl-eAnbx"
      },
      "source": [
        "import pickle\n",
        "pickle.dump(keras_model2.to_json(),open('gru5.pkl','wb'))"
      ],
      "execution_count": null,
      "outputs": []
    },
    {
      "cell_type": "code",
      "metadata": {
        "id": "1-v4IXRCAnb3"
      },
      "source": [
        "import h5py\n",
        "import keras\n",
        "# from importlib import reload\n",
        "# import keras\n",
        "keras_model2.save_weights('gru5.weights')"
      ],
      "execution_count": null,
      "outputs": []
    },
    {
      "cell_type": "code",
      "metadata": {
        "id": "xRh4hhYyAnb7"
      },
      "source": [
        "def sample(preds, temperature=1.0):\n",
        "    if temperature <= 0:\n",
        "        return preds.argsort()[-3:][::-1]\n",
        "    preds = np.asarray(preds).astype('float64')\n",
        "    preds = np.log(preds) / temperature\n",
        "    exp_preds = np.exp(preds)\n",
        "    preds = exp_preds / np.sum(exp_preds)\n",
        "    probas = np.random.multinomial(1, preds, 1)\n",
        "#     print max(probas[0])\n",
        "    retar= probas[0].argsort()[-3:][::-1]\n",
        "    return retar\n",
        "\n",
        "def generate_next(text):\n",
        "    global count\n",
        "    count = 0\n",
        "    count+=1\n",
        "    if count%100==0:\n",
        "        print (count)\n",
        "    word_idxs = [word2idx(word) for word in text.split()]\n",
        "    prediction = keras_model2.predict(x=np.array(word_idxs))\n",
        "#     print prediction\n",
        "    idxl = sample(prediction[-1], temperature=0.0)\n",
        "#     word_idxs.e(idx)\n",
        "#     print idxl\n",
        "    return [idx2word(idx) for idx in idxl]\n",
        "\n"
      ],
      "execution_count": null,
      "outputs": []
    },
    {
      "cell_type": "code",
      "metadata": {
        "id": "kd4IVmviAnb_",
        "colab": {
          "base_uri": "https://localhost:8080/",
          "height": 35
        },
        "outputId": "151e9fe0-b65c-4aa2-85b9-0f5fb94bc5ea"
      },
      "source": [
        "test.challenge.values[0]"
      ],
      "execution_count": null,
      "outputs": [
        {
          "output_type": "execute_result",
          "data": {
            "application/vnd.google.colaboratory.intrinsic": {
              "type": "string"
            },
            "text/plain": [
              "'CI23855 CI23933 CI24917 CI24915 CI23714 CI23663 CI24958 CI25135 CI25727 CI24530'"
            ]
          },
          "metadata": {
            "tags": []
          },
          "execution_count": 67
        }
      ]
    },
    {
      "cell_type": "code",
      "metadata": {
        "id": "T_LOyzBZAncH",
        "colab": {
          "base_uri": "https://localhost:8080/",
          "height": 34
        },
        "outputId": "201405b5-1d3a-4b8e-991b-dedf9508f3ca"
      },
      "source": [
        "generate_next('CI23855 CI23933 CI24917 CI24915 CI23714 CI23663 CI24958 CI25135 CI25727 CI24530')"
      ],
      "execution_count": null,
      "outputs": [
        {
          "output_type": "execute_result",
          "data": {
            "text/plain": [
              "['CI25509', 'CI27032', 'CI23763']"
            ]
          },
          "metadata": {
            "tags": []
          },
          "execution_count": 68
        }
      ]
    },
    {
      "cell_type": "code",
      "metadata": {
        "id": "JIOk1O5bAncO"
      },
      "source": [
        "test_inds=np.array(test.challenge.apply(lambda x: np.array([word2idx(word) for word in x.split()])).tolist())"
      ],
      "execution_count": null,
      "outputs": []
    },
    {
      "cell_type": "code",
      "metadata": {
        "id": "EOPk0s0tAncT",
        "colab": {
          "base_uri": "https://localhost:8080/",
          "height": 34
        },
        "outputId": "26354ea6-faf0-4275-f2dc-f18e52770b33"
      },
      "source": [
        "test_inds.shape, xtrain.shape"
      ],
      "execution_count": null,
      "outputs": [
        {
          "output_type": "execute_result",
          "data": {
            "text/plain": [
              "((39732, 10), (208596, 10))"
            ]
          },
          "metadata": {
            "tags": []
          },
          "execution_count": 70
        }
      ]
    },
    {
      "cell_type": "code",
      "metadata": {
        "id": "p9G4QL8xAncf"
      },
      "source": [
        "# make predictions\n",
        "nnpred=keras_model2.predict(test_inds)"
      ],
      "execution_count": null,
      "outputs": []
    },
    {
      "cell_type": "code",
      "metadata": {
        "id": "tHAYWG_-Anci",
        "colab": {
          "base_uri": "https://localhost:8080/",
          "height": 34
        },
        "outputId": "a82a16b1-4a78-4b0a-d81e-9c3949001f2d"
      },
      "source": [
        "nnpred.shape"
      ],
      "execution_count": null,
      "outputs": [
        {
          "output_type": "execute_result",
          "data": {
            "text/plain": [
              "(39732, 5502)"
            ]
          },
          "metadata": {
            "tags": []
          },
          "execution_count": 72
        }
      ]
    },
    {
      "cell_type": "code",
      "metadata": {
        "id": "1gnNevdxAncn"
      },
      "source": [
        "nnpred2= pd.Series(nnpred.argsort(axis=1)[:,-3:].tolist())"
      ],
      "execution_count": null,
      "outputs": []
    },
    {
      "cell_type": "code",
      "metadata": {
        "id": "cczOaMjBAncq"
      },
      "source": [
        "# store to csv\n",
        "count=0\n",
        "test['pred']=nnpred2.apply(lambda x: [idx2word(y) for y in x[::-1]])\n",
        "test_sub= test.copy()\n",
        "test_sub=pd.concat((test_sub,test_sub,test_sub))\n",
        "test_sub=test_sub.sort_values('user_id').reset_index(drop=True)\n",
        "test_sub['seq']=test_sub.groupby('user_id').cumcount()\n",
        "test_sub.seq= test_sub.seq+11\n",
        "test_sub['user_sequence']= test_sub.user_id.astype('str') + '_' + test_sub.seq.astype('str')\n",
        "test_sub['challenge']=test_sub.apply(lambda row: row['pred'][row['seq']-11], axis=1)\n",
        "test_sub[['user_sequence','challenge']].to_csv('saurabh10.csv',index=False)"
      ],
      "execution_count": null,
      "outputs": []
    },
    {
      "cell_type": "code",
      "metadata": {
        "id": "Eoy3--efLbbW"
      },
      "source": [
        ""
      ],
      "execution_count": null,
      "outputs": []
    },
    {
      "cell_type": "code",
      "metadata": {
        "id": "vCekg9uuTZQV"
      },
      "source": [
        "# store to csv\n",
        "count=0\n",
        "test['pred']=nnpred2.apply(lambda x: [idx2word(y) for y in x[::-1]])\n",
        "test_sub= test.copy()\n",
        "test_sub=pd.concat((test_sub,test_sub,test_sub))\n",
        "test_sub=test_sub.sort_values('user_id').reset_index(drop=True)\n",
        "test_sub['seq']=test_sub.groupby('user_id').cumcount()\n",
        "test_sub.seq= test_sub.seq+11\n",
        "test_sub['user_sequence']= test_sub.user_id.astype('str') + '_' + test_sub.seq.astype('str')\n",
        "test_sub['challenge']=test_sub.apply(lambda row: row['pred'][row['seq']-11], axis=1)\n",
        "test_sub[['user_sequence','challenge']].to_csv('/content/drive/My Drive/Colab Notebooks/RNN/saurabh10.csv',index=False)"
      ],
      "execution_count": null,
      "outputs": []
    },
    {
      "cell_type": "code",
      "metadata": {
        "id": "fflOQ9WsTwpt"
      },
      "source": [
        "import pickle\n",
        "pickle.dump(keras_model2.to_json(),open('/content/drive/My Drive/Colab Notebooks/RNN/gru5.pkl','wb'))"
      ],
      "execution_count": null,
      "outputs": []
    },
    {
      "cell_type": "code",
      "metadata": {
        "id": "ya-czI4Utjtj"
      },
      "source": [
        "import h5py\n",
        "import keras\n",
        "# from importlib import reload\n",
        "# import keras\n",
        "keras_model2.save_weights('/content/drive/My Drive/Colab Notebooks/RNN/gru5.weights')"
      ],
      "execution_count": null,
      "outputs": []
    },
    {
      "cell_type": "code",
      "metadata": {
        "id": "OL-xga16tmvs"
      },
      "source": [
        ""
      ],
      "execution_count": null,
      "outputs": []
    }
  ]
}
