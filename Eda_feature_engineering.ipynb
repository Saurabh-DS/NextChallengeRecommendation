{
  "nbformat": 4,
  "nbformat_minor": 0,
  "metadata": {
    "colab": {
      "name": "Final Eda - feature engineering to run all.ipynb",
      "provenance": [],
      "collapsed_sections": []
    },
    "kernelspec": {
      "name": "python3",
      "display_name": "Python 3"
    },
    "accelerator": "TPU"
  },
  "cells": [
    {
      "cell_type": "code",
      "metadata": {
        "id": "mKykiXOC_RDp"
      },
      "source": [
        "import pandas as pd\n",
        "import numpy as np"
      ],
      "execution_count": null,
      "outputs": []
    },
    {
      "cell_type": "code",
      "metadata": {
        "id": "H1X603C9Mmmd",
        "colab": {
          "base_uri": "https://localhost:8080/",
          "height": 16
        },
        "outputId": "86505638-b184-4a3d-9201-64ed42a79b44"
      },
      "source": [
        "train = pd.read_csv(\"/content/drive/My Drive/Analytics Vidya Hackthon/train.csv\")\n",
        "train.head()"
      ],
      "execution_count": null,
      "outputs": [
        {
          "output_type": "execute_result",
          "data": {
            "text/html": [
              "<div>\n",
              "<style scoped>\n",
              "    .dataframe tbody tr th:only-of-type {\n",
              "        vertical-align: middle;\n",
              "    }\n",
              "\n",
              "    .dataframe tbody tr th {\n",
              "        vertical-align: top;\n",
              "    }\n",
              "\n",
              "    .dataframe thead th {\n",
              "        text-align: right;\n",
              "    }\n",
              "</style>\n",
              "<table border=\"1\" class=\"dataframe\">\n",
              "  <thead>\n",
              "    <tr style=\"text-align: right;\">\n",
              "      <th></th>\n",
              "      <th>user_sequence</th>\n",
              "      <th>user_id</th>\n",
              "      <th>challenge_sequence</th>\n",
              "      <th>challenge</th>\n",
              "    </tr>\n",
              "  </thead>\n",
              "  <tbody>\n",
              "    <tr>\n",
              "      <th>0</th>\n",
              "      <td>4576_1</td>\n",
              "      <td>4576</td>\n",
              "      <td>1</td>\n",
              "      <td>CI23714</td>\n",
              "    </tr>\n",
              "    <tr>\n",
              "      <th>1</th>\n",
              "      <td>4576_2</td>\n",
              "      <td>4576</td>\n",
              "      <td>2</td>\n",
              "      <td>CI23855</td>\n",
              "    </tr>\n",
              "    <tr>\n",
              "      <th>2</th>\n",
              "      <td>4576_3</td>\n",
              "      <td>4576</td>\n",
              "      <td>3</td>\n",
              "      <td>CI24917</td>\n",
              "    </tr>\n",
              "    <tr>\n",
              "      <th>3</th>\n",
              "      <td>4576_4</td>\n",
              "      <td>4576</td>\n",
              "      <td>4</td>\n",
              "      <td>CI23663</td>\n",
              "    </tr>\n",
              "    <tr>\n",
              "      <th>4</th>\n",
              "      <td>4576_5</td>\n",
              "      <td>4576</td>\n",
              "      <td>5</td>\n",
              "      <td>CI23933</td>\n",
              "    </tr>\n",
              "  </tbody>\n",
              "</table>\n",
              "</div>"
            ],
            "text/plain": [
              "  user_sequence  user_id  challenge_sequence challenge\n",
              "0        4576_1     4576                   1   CI23714\n",
              "1        4576_2     4576                   2   CI23855\n",
              "2        4576_3     4576                   3   CI24917\n",
              "3        4576_4     4576                   4   CI23663\n",
              "4        4576_5     4576                   5   CI23933"
            ]
          },
          "metadata": {
            "tags": []
          },
          "execution_count": 548
        }
      ]
    },
    {
      "cell_type": "code",
      "metadata": {
        "id": "DbV0EvSKNHh-",
        "colab": {
          "base_uri": "https://localhost:8080/",
          "height": 16
        },
        "outputId": "52175eea-22b2-4740-a893-c084252f15c7"
      },
      "source": [
        "challenge = pd.read_csv(\"/content/drive/My Drive/Analytics Vidya Hackthon/challenge_data.csv\")\n",
        "challenge.head()"
      ],
      "execution_count": null,
      "outputs": [
        {
          "output_type": "execute_result",
          "data": {
            "text/html": [
              "<div>\n",
              "<style scoped>\n",
              "    .dataframe tbody tr th:only-of-type {\n",
              "        vertical-align: middle;\n",
              "    }\n",
              "\n",
              "    .dataframe tbody tr th {\n",
              "        vertical-align: top;\n",
              "    }\n",
              "\n",
              "    .dataframe thead th {\n",
              "        text-align: right;\n",
              "    }\n",
              "</style>\n",
              "<table border=\"1\" class=\"dataframe\">\n",
              "  <thead>\n",
              "    <tr style=\"text-align: right;\">\n",
              "      <th></th>\n",
              "      <th>challenge_ID</th>\n",
              "      <th>programming_language</th>\n",
              "      <th>challenge_series_ID</th>\n",
              "      <th>category_id</th>\n",
              "      <th>total_submissions</th>\n",
              "      <th>publish_date</th>\n",
              "      <th>author_ID</th>\n",
              "      <th>author_gender</th>\n",
              "      <th>author_org_ID</th>\n",
              "    </tr>\n",
              "  </thead>\n",
              "  <tbody>\n",
              "    <tr>\n",
              "      <th>0</th>\n",
              "      <td>CI23478</td>\n",
              "      <td>2</td>\n",
              "      <td>SI2445</td>\n",
              "      <td>NaN</td>\n",
              "      <td>37.0</td>\n",
              "      <td>06-05-2006</td>\n",
              "      <td>AI563576</td>\n",
              "      <td>M</td>\n",
              "      <td>AOI100001</td>\n",
              "    </tr>\n",
              "    <tr>\n",
              "      <th>1</th>\n",
              "      <td>CI23479</td>\n",
              "      <td>2</td>\n",
              "      <td>SI2435</td>\n",
              "      <td>32.0</td>\n",
              "      <td>48.0</td>\n",
              "      <td>17-10-2002</td>\n",
              "      <td>AI563577</td>\n",
              "      <td>M</td>\n",
              "      <td>AOI100002</td>\n",
              "    </tr>\n",
              "    <tr>\n",
              "      <th>2</th>\n",
              "      <td>CI23480</td>\n",
              "      <td>1</td>\n",
              "      <td>SI2435</td>\n",
              "      <td>NaN</td>\n",
              "      <td>15.0</td>\n",
              "      <td>16-10-2002</td>\n",
              "      <td>AI563578</td>\n",
              "      <td>M</td>\n",
              "      <td>AOI100003</td>\n",
              "    </tr>\n",
              "    <tr>\n",
              "      <th>3</th>\n",
              "      <td>CI23481</td>\n",
              "      <td>1</td>\n",
              "      <td>SI2710</td>\n",
              "      <td>70.0</td>\n",
              "      <td>236.0</td>\n",
              "      <td>19-09-2003</td>\n",
              "      <td>AI563579</td>\n",
              "      <td>M</td>\n",
              "      <td>AOI100004</td>\n",
              "    </tr>\n",
              "    <tr>\n",
              "      <th>4</th>\n",
              "      <td>CI23482</td>\n",
              "      <td>2</td>\n",
              "      <td>SI2440</td>\n",
              "      <td>NaN</td>\n",
              "      <td>137.0</td>\n",
              "      <td>21-03-2002</td>\n",
              "      <td>AI563580</td>\n",
              "      <td>M</td>\n",
              "      <td>AOI100005</td>\n",
              "    </tr>\n",
              "  </tbody>\n",
              "</table>\n",
              "</div>"
            ],
            "text/plain": [
              "  challenge_ID  programming_language  ... author_gender  author_org_ID\n",
              "0      CI23478                     2  ...             M      AOI100001\n",
              "1      CI23479                     2  ...             M      AOI100002\n",
              "2      CI23480                     1  ...             M      AOI100003\n",
              "3      CI23481                     1  ...             M      AOI100004\n",
              "4      CI23482                     2  ...             M      AOI100005\n",
              "\n",
              "[5 rows x 9 columns]"
            ]
          },
          "metadata": {
            "tags": []
          },
          "execution_count": 549
        }
      ]
    },
    {
      "cell_type": "code",
      "metadata": {
        "id": "10GApSDrNICQ",
        "colab": {
          "base_uri": "https://localhost:8080/"
        },
        "outputId": "d6691f3f-808e-42dc-9aeb-aac4f35f4ad5"
      },
      "source": [
        "challenge.tail(5)"
      ],
      "execution_count": null,
      "outputs": [
        {
          "output_type": "execute_result",
          "data": {
            "text/html": [
              "<div>\n",
              "<style scoped>\n",
              "    .dataframe tbody tr th:only-of-type {\n",
              "        vertical-align: middle;\n",
              "    }\n",
              "\n",
              "    .dataframe tbody tr th {\n",
              "        vertical-align: top;\n",
              "    }\n",
              "\n",
              "    .dataframe thead th {\n",
              "        text-align: right;\n",
              "    }\n",
              "</style>\n",
              "<table border=\"1\" class=\"dataframe\">\n",
              "  <thead>\n",
              "    <tr style=\"text-align: right;\">\n",
              "      <th></th>\n",
              "      <th>challenge_ID</th>\n",
              "      <th>programming_language</th>\n",
              "      <th>challenge_series_ID</th>\n",
              "      <th>category_id</th>\n",
              "      <th>total_submissions</th>\n",
              "      <th>publish_date</th>\n",
              "      <th>author_ID</th>\n",
              "      <th>author_gender</th>\n",
              "      <th>author_org_ID</th>\n",
              "    </tr>\n",
              "  </thead>\n",
              "  <tbody>\n",
              "    <tr>\n",
              "      <th>5601</th>\n",
              "      <td>CI29079</td>\n",
              "      <td>1</td>\n",
              "      <td>SI2864</td>\n",
              "      <td>29.0</td>\n",
              "      <td>NaN</td>\n",
              "      <td>17-06-2010</td>\n",
              "      <td>AI567059</td>\n",
              "      <td>M</td>\n",
              "      <td>AOI101717</td>\n",
              "    </tr>\n",
              "    <tr>\n",
              "      <th>5602</th>\n",
              "      <td>CI29080</td>\n",
              "      <td>1</td>\n",
              "      <td>SI2865</td>\n",
              "      <td>29.0</td>\n",
              "      <td>NaN</td>\n",
              "      <td>25-06-2010</td>\n",
              "      <td>AI567060</td>\n",
              "      <td>F</td>\n",
              "      <td>AOI101718</td>\n",
              "    </tr>\n",
              "    <tr>\n",
              "      <th>5603</th>\n",
              "      <td>CI29081</td>\n",
              "      <td>1</td>\n",
              "      <td>SI2865</td>\n",
              "      <td>29.0</td>\n",
              "      <td>NaN</td>\n",
              "      <td>25-06-2010</td>\n",
              "      <td>AI566257</td>\n",
              "      <td>M</td>\n",
              "      <td>AOI100108</td>\n",
              "    </tr>\n",
              "    <tr>\n",
              "      <th>5604</th>\n",
              "      <td>CI29082</td>\n",
              "      <td>1</td>\n",
              "      <td>SI2865</td>\n",
              "      <td>29.0</td>\n",
              "      <td>NaN</td>\n",
              "      <td>25-06-2010</td>\n",
              "      <td>AI563777</td>\n",
              "      <td>M</td>\n",
              "      <td>AOI100108</td>\n",
              "    </tr>\n",
              "    <tr>\n",
              "      <th>5605</th>\n",
              "      <td>CI29083</td>\n",
              "      <td>1</td>\n",
              "      <td>SI2865</td>\n",
              "      <td>29.0</td>\n",
              "      <td>NaN</td>\n",
              "      <td>25-06-2010</td>\n",
              "      <td>AI564006</td>\n",
              "      <td>F</td>\n",
              "      <td>AOI100022</td>\n",
              "    </tr>\n",
              "  </tbody>\n",
              "</table>\n",
              "</div>"
            ],
            "text/plain": [
              "     challenge_ID  programming_language  ... author_gender  author_org_ID\n",
              "5601      CI29079                     1  ...             M      AOI101717\n",
              "5602      CI29080                     1  ...             F      AOI101718\n",
              "5603      CI29081                     1  ...             M      AOI100108\n",
              "5604      CI29082                     1  ...             M      AOI100108\n",
              "5605      CI29083                     1  ...             F      AOI100022\n",
              "\n",
              "[5 rows x 9 columns]"
            ]
          },
          "metadata": {
            "tags": []
          },
          "execution_count": 550
        }
      ]
    },
    {
      "cell_type": "code",
      "metadata": {
        "id": "aauJAboLNH_p",
        "colab": {
          "base_uri": "https://localhost:8080/"
        },
        "outputId": "7519b4e0-614e-4a80-9c98-d14827ce72b5"
      },
      "source": [
        "train_ID = train['challenge'].unique()\n",
        "train_ID.shape"
      ],
      "execution_count": null,
      "outputs": [
        {
          "output_type": "execute_result",
          "data": {
            "text/plain": [
              "(5348,)"
            ]
          },
          "metadata": {
            "tags": []
          },
          "execution_count": 551
        }
      ]
    },
    {
      "cell_type": "code",
      "metadata": {
        "id": "qD1cNcaMNH9t",
        "colab": {
          "base_uri": "https://localhost:8080/"
        },
        "outputId": "186d5f3d-8804-47bb-f4e9-fa7a3638eef5"
      },
      "source": [
        "chall_ID = challenge['challenge_ID'].unique()\n",
        "chall_ID.shape"
      ],
      "execution_count": null,
      "outputs": [
        {
          "output_type": "execute_result",
          "data": {
            "text/plain": [
              "(5606,)"
            ]
          },
          "metadata": {
            "tags": []
          },
          "execution_count": 552
        }
      ]
    },
    {
      "cell_type": "code",
      "metadata": {
        "id": "fQxJxW3bNH7K",
        "colab": {
          "base_uri": "https://localhost:8080/"
        },
        "outputId": "59cc3a72-33db-49ca-cd72-180d1cc995cf"
      },
      "source": [
        "diff = list(set(chall_ID)-set(train_ID))\n",
        "len(diff)\n",
        "\n",
        "# Alternatively\n",
        "# len(set(chall_ID).symmetric_difference(set(train_ID)))"
      ],
      "execution_count": null,
      "outputs": [
        {
          "output_type": "execute_result",
          "data": {
            "text/plain": [
              "258"
            ]
          },
          "metadata": {
            "tags": []
          },
          "execution_count": 553
        }
      ]
    },
    {
      "cell_type": "code",
      "metadata": {
        "id": "8rldvus-NH4V",
        "colab": {
          "base_uri": "https://localhost:8080/"
        },
        "outputId": "d2547315-a535-495d-8d47-18136a6fa4ea"
      },
      "source": [
        "#Keeping all the challenge_ID in challenge data which is also in train data.\n",
        "challenge = challenge[~challenge['challenge_ID'].isin(diff)]\n",
        "challenge.shape"
      ],
      "execution_count": null,
      "outputs": [
        {
          "output_type": "execute_result",
          "data": {
            "text/plain": [
              "(5348, 9)"
            ]
          },
          "metadata": {
            "tags": []
          },
          "execution_count": 554
        }
      ]
    },
    {
      "cell_type": "code",
      "metadata": {
        "id": "px6RZyK_NH1m"
      },
      "source": [
        "# challenge.to_csv(\"/content/drive/My Drive/Analytics vidya to CSV/challenge.csv\")"
      ],
      "execution_count": null,
      "outputs": []
    },
    {
      "cell_type": "code",
      "metadata": {
        "id": "Kt8LR56_NHzK"
      },
      "source": [
        "# challenge = pd.read_csv(\"/content/drive/My Drive/Analytics vidya to CSV/challenge.csv\")"
      ],
      "execution_count": null,
      "outputs": []
    },
    {
      "cell_type": "code",
      "metadata": {
        "id": "P9JbnYKWNHv1",
        "colab": {
          "base_uri": "https://localhost:8080/"
        },
        "outputId": "d397f7b0-6c74-47b8-b147-8d676b8dd57b"
      },
      "source": [
        "challenge.isna().sum()"
      ],
      "execution_count": null,
      "outputs": [
        {
          "output_type": "execute_result",
          "data": {
            "text/plain": [
              "challenge_ID               0\n",
              "programming_language       0\n",
              "challenge_series_ID       11\n",
              "category_id             1756\n",
              "total_submissions        311\n",
              "publish_date               0\n",
              "author_ID                 39\n",
              "author_gender             93\n",
              "author_org_ID            235\n",
              "dtype: int64"
            ]
          },
          "metadata": {
            "tags": []
          },
          "execution_count": 557
        }
      ]
    },
    {
      "cell_type": "code",
      "metadata": {
        "id": "8s7EQBUtOLDe",
        "colab": {
          "base_uri": "https://localhost:8080/"
        },
        "outputId": "03b6c7a3-363a-4f45-a883-113be349ca4f"
      },
      "source": [
        "challenge.shape"
      ],
      "execution_count": null,
      "outputs": [
        {
          "output_type": "execute_result",
          "data": {
            "text/plain": [
              "(5348, 9)"
            ]
          },
          "metadata": {
            "tags": []
          },
          "execution_count": 558
        }
      ]
    },
    {
      "cell_type": "code",
      "metadata": {
        "id": "ygOYY-dcOLBJ"
      },
      "source": [
        "challenge['challenge_series_ID'] = challenge['challenge_series_ID'].fillna('SI2870')"
      ],
      "execution_count": null,
      "outputs": []
    },
    {
      "cell_type": "code",
      "metadata": {
        "id": "3kCdM-iKOK90",
        "colab": {
          "base_uri": "https://localhost:8080/"
        },
        "outputId": "bd04faca-ea58-4293-f5d4-a58a7859a8dc"
      },
      "source": [
        "challenge['challenge_series_ID'].isna().sum()"
      ],
      "execution_count": null,
      "outputs": [
        {
          "output_type": "execute_result",
          "data": {
            "text/plain": [
              "0"
            ]
          },
          "metadata": {
            "tags": []
          },
          "execution_count": 560
        }
      ]
    },
    {
      "cell_type": "code",
      "metadata": {
        "id": "JW_M7yjnNHsx",
        "colab": {
          "base_uri": "https://localhost:8080/"
        },
        "outputId": "cee663b4-ea01-450c-f02a-ab5a7923cf25"
      },
      "source": [
        "challenge['publish_date']=pd.to_datetime(challenge[\"publish_date\"])\n",
        "challenge['Year'] = challenge['publish_date'].dt.year\n",
        "challenge['Month']=challenge['publish_date'].dt.month\n",
        "challenge['Day']=challenge['publish_date'].dt.day\n",
        "challenge.sample(5)"
      ],
      "execution_count": null,
      "outputs": [
        {
          "output_type": "execute_result",
          "data": {
            "text/html": [
              "<div>\n",
              "<style scoped>\n",
              "    .dataframe tbody tr th:only-of-type {\n",
              "        vertical-align: middle;\n",
              "    }\n",
              "\n",
              "    .dataframe tbody tr th {\n",
              "        vertical-align: top;\n",
              "    }\n",
              "\n",
              "    .dataframe thead th {\n",
              "        text-align: right;\n",
              "    }\n",
              "</style>\n",
              "<table border=\"1\" class=\"dataframe\">\n",
              "  <thead>\n",
              "    <tr style=\"text-align: right;\">\n",
              "      <th></th>\n",
              "      <th>challenge_ID</th>\n",
              "      <th>programming_language</th>\n",
              "      <th>challenge_series_ID</th>\n",
              "      <th>category_id</th>\n",
              "      <th>total_submissions</th>\n",
              "      <th>publish_date</th>\n",
              "      <th>author_ID</th>\n",
              "      <th>author_gender</th>\n",
              "      <th>author_org_ID</th>\n",
              "      <th>Year</th>\n",
              "      <th>Month</th>\n",
              "      <th>Day</th>\n",
              "    </tr>\n",
              "  </thead>\n",
              "  <tbody>\n",
              "    <tr>\n",
              "      <th>584</th>\n",
              "      <td>CI24062</td>\n",
              "      <td>1</td>\n",
              "      <td>SI2448</td>\n",
              "      <td>32.0</td>\n",
              "      <td>112.0</td>\n",
              "      <td>2006-04-10</td>\n",
              "      <td>AI563843</td>\n",
              "      <td>M</td>\n",
              "      <td>AOI100188</td>\n",
              "      <td>2006</td>\n",
              "      <td>4</td>\n",
              "      <td>10</td>\n",
              "    </tr>\n",
              "    <tr>\n",
              "      <th>1113</th>\n",
              "      <td>CI24591</td>\n",
              "      <td>1</td>\n",
              "      <td>SI2503</td>\n",
              "      <td>41.0</td>\n",
              "      <td>117.0</td>\n",
              "      <td>2003-09-25</td>\n",
              "      <td>AI564395</td>\n",
              "      <td>F</td>\n",
              "      <td>AOI100192</td>\n",
              "      <td>2003</td>\n",
              "      <td>9</td>\n",
              "      <td>25</td>\n",
              "    </tr>\n",
              "    <tr>\n",
              "      <th>817</th>\n",
              "      <td>CI24295</td>\n",
              "      <td>1</td>\n",
              "      <td>SI2488</td>\n",
              "      <td>23.0</td>\n",
              "      <td>154.0</td>\n",
              "      <td>2004-01-09</td>\n",
              "      <td>AI564160</td>\n",
              "      <td>M</td>\n",
              "      <td>NaN</td>\n",
              "      <td>2004</td>\n",
              "      <td>1</td>\n",
              "      <td>9</td>\n",
              "    </tr>\n",
              "    <tr>\n",
              "      <th>4510</th>\n",
              "      <td>CI28044</td>\n",
              "      <td>1</td>\n",
              "      <td>SI2740</td>\n",
              "      <td>135.0</td>\n",
              "      <td>697.0</td>\n",
              "      <td>2009-04-02</td>\n",
              "      <td>AI566483</td>\n",
              "      <td>M</td>\n",
              "      <td>AOI100210</td>\n",
              "      <td>2009</td>\n",
              "      <td>4</td>\n",
              "      <td>2</td>\n",
              "    </tr>\n",
              "    <tr>\n",
              "      <th>639</th>\n",
              "      <td>CI24117</td>\n",
              "      <td>1</td>\n",
              "      <td>SI2457</td>\n",
              "      <td>45.0</td>\n",
              "      <td>3010.0</td>\n",
              "      <td>2006-02-15</td>\n",
              "      <td>AI563816</td>\n",
              "      <td>M</td>\n",
              "      <td>AOI100174</td>\n",
              "      <td>2006</td>\n",
              "      <td>2</td>\n",
              "      <td>15</td>\n",
              "    </tr>\n",
              "  </tbody>\n",
              "</table>\n",
              "</div>"
            ],
            "text/plain": [
              "     challenge_ID  programming_language challenge_series_ID  ...  Year  Month Day\n",
              "584       CI24062                     1              SI2448  ...  2006      4  10\n",
              "1113      CI24591                     1              SI2503  ...  2003      9  25\n",
              "817       CI24295                     1              SI2488  ...  2004      1   9\n",
              "4510      CI28044                     1              SI2740  ...  2009      4   2\n",
              "639       CI24117                     1              SI2457  ...  2006      2  15\n",
              "\n",
              "[5 rows x 12 columns]"
            ]
          },
          "metadata": {
            "tags": []
          },
          "execution_count": 561
        }
      ]
    },
    {
      "cell_type": "code",
      "metadata": {
        "id": "zRIK_LOJNHqg",
        "colab": {
          "base_uri": "https://localhost:8080/"
        },
        "outputId": "fd9f7702-b83c-4daf-b2e9-7abe892251cf"
      },
      "source": [
        "challenge.query('programming_language==3 & Year==2010')"
      ],
      "execution_count": null,
      "outputs": [
        {
          "output_type": "execute_result",
          "data": {
            "text/html": [
              "<div>\n",
              "<style scoped>\n",
              "    .dataframe tbody tr th:only-of-type {\n",
              "        vertical-align: middle;\n",
              "    }\n",
              "\n",
              "    .dataframe tbody tr th {\n",
              "        vertical-align: top;\n",
              "    }\n",
              "\n",
              "    .dataframe thead th {\n",
              "        text-align: right;\n",
              "    }\n",
              "</style>\n",
              "<table border=\"1\" class=\"dataframe\">\n",
              "  <thead>\n",
              "    <tr style=\"text-align: right;\">\n",
              "      <th></th>\n",
              "      <th>challenge_ID</th>\n",
              "      <th>programming_language</th>\n",
              "      <th>challenge_series_ID</th>\n",
              "      <th>category_id</th>\n",
              "      <th>total_submissions</th>\n",
              "      <th>publish_date</th>\n",
              "      <th>author_ID</th>\n",
              "      <th>author_gender</th>\n",
              "      <th>author_org_ID</th>\n",
              "      <th>Year</th>\n",
              "      <th>Month</th>\n",
              "      <th>Day</th>\n",
              "    </tr>\n",
              "  </thead>\n",
              "  <tbody>\n",
              "    <tr>\n",
              "      <th>5546</th>\n",
              "      <td>CI28929</td>\n",
              "      <td>3</td>\n",
              "      <td>SI2870</td>\n",
              "      <td>151.0</td>\n",
              "      <td>NaN</td>\n",
              "      <td>2010-01-20</td>\n",
              "      <td>AI567030</td>\n",
              "      <td>M</td>\n",
              "      <td>AOI101698</td>\n",
              "      <td>2010</td>\n",
              "      <td>1</td>\n",
              "      <td>20</td>\n",
              "    </tr>\n",
              "  </tbody>\n",
              "</table>\n",
              "</div>"
            ],
            "text/plain": [
              "     challenge_ID  programming_language challenge_series_ID  ...  Year  Month Day\n",
              "5546      CI28929                     3              SI2870  ...  2010      1  20\n",
              "\n",
              "[1 rows x 12 columns]"
            ]
          },
          "metadata": {
            "tags": []
          },
          "execution_count": 562
        }
      ]
    },
    {
      "cell_type": "code",
      "metadata": {
        "id": "ZK6f6A87NHnR"
      },
      "source": [
        "challenge['total_submissions'] = challenge['total_submissions'].fillna(challenge.groupby(['Year','programming_language'])['total_submissions'].transform('mean'))"
      ],
      "execution_count": null,
      "outputs": []
    },
    {
      "cell_type": "code",
      "metadata": {
        "id": "j57JVHtxOVQF",
        "colab": {
          "base_uri": "https://localhost:8080/"
        },
        "outputId": "db9453b1-92b1-4750-b87f-1ae40515f826"
      },
      "source": [
        "challenge.dtypes"
      ],
      "execution_count": null,
      "outputs": [
        {
          "output_type": "execute_result",
          "data": {
            "text/plain": [
              "challenge_ID                    object\n",
              "programming_language             int64\n",
              "challenge_series_ID             object\n",
              "category_id                    float64\n",
              "total_submissions              float64\n",
              "publish_date            datetime64[ns]\n",
              "author_ID                       object\n",
              "author_gender                   object\n",
              "author_org_ID                   object\n",
              "Year                             int64\n",
              "Month                            int64\n",
              "Day                              int64\n",
              "dtype: object"
            ]
          },
          "metadata": {
            "tags": []
          },
          "execution_count": 564
        }
      ]
    },
    {
      "cell_type": "code",
      "metadata": {
        "id": "79ZhebgkOVOG"
      },
      "source": [
        "#Checking the groupby..\n",
        "data = challenge.groupby(['Year','programming_language'])['total_submissions'].transform('mean')\n",
        "#data"
      ],
      "execution_count": null,
      "outputs": []
    },
    {
      "cell_type": "code",
      "metadata": {
        "id": "fpPkXO_LOVMC"
      },
      "source": [
        "challenge['category_id'] = challenge['category_id'].fillna(challenge.groupby(['challenge_series_ID','programming_language'])['category_id'].transform('mean'))"
      ],
      "execution_count": null,
      "outputs": []
    },
    {
      "cell_type": "code",
      "metadata": {
        "id": "iqKpYhWfOVJ1"
      },
      "source": [
        "import random\n",
        "#we can also use the empirical rule\n",
        "challenge['category_id'] = challenge['category_id'].fillna(random.randint(28,224))"
      ],
      "execution_count": null,
      "outputs": []
    },
    {
      "cell_type": "code",
      "metadata": {
        "id": "p5TA7VB6OlDp",
        "colab": {
          "base_uri": "https://localhost:8080/"
        },
        "outputId": "358799df-5cca-4ad2-fd0a-6e15c96b1065"
      },
      "source": [
        "challenge['total_submissions'].isna().sum()"
      ],
      "execution_count": null,
      "outputs": [
        {
          "output_type": "execute_result",
          "data": {
            "text/plain": [
              "1"
            ]
          },
          "metadata": {
            "tags": []
          },
          "execution_count": 568
        }
      ]
    },
    {
      "cell_type": "code",
      "metadata": {
        "id": "_-4JpkkvOlAH"
      },
      "source": [
        "challenge['total_submissions'] = challenge['total_submissions'].fillna('126')"
      ],
      "execution_count": null,
      "outputs": []
    },
    {
      "cell_type": "code",
      "metadata": {
        "id": "u0kukrYEOk92",
        "colab": {
          "base_uri": "https://localhost:8080/"
        },
        "outputId": "03571b72-a288-4b03-ecdd-38a7e44db03e"
      },
      "source": [
        "challenge.isna().sum()"
      ],
      "execution_count": null,
      "outputs": [
        {
          "output_type": "execute_result",
          "data": {
            "text/plain": [
              "challenge_ID              0\n",
              "programming_language      0\n",
              "challenge_series_ID       0\n",
              "category_id               0\n",
              "total_submissions         0\n",
              "publish_date              0\n",
              "author_ID                39\n",
              "author_gender            93\n",
              "author_org_ID           235\n",
              "Year                      0\n",
              "Month                     0\n",
              "Day                       0\n",
              "dtype: int64"
            ]
          },
          "metadata": {
            "tags": []
          },
          "execution_count": 570
        }
      ]
    },
    {
      "cell_type": "code",
      "metadata": {
        "id": "KDSTjRAgOk7d"
      },
      "source": [
        "# challenge = challenge.drop('Unnamed: 0',axis=1)"
      ],
      "execution_count": null,
      "outputs": []
    },
    {
      "cell_type": "code",
      "metadata": {
        "id": "CFooq0B7Ok4D"
      },
      "source": [
        "challenge.to_csv(\"/content/drive/My Drive/Analytics vidya to CSV/chall2.csv\")"
      ],
      "execution_count": null,
      "outputs": []
    },
    {
      "cell_type": "code",
      "metadata": {
        "id": "rfn9JZ_5OVFB",
        "colab": {
          "base_uri": "https://localhost:8080/"
        },
        "outputId": "c6225dd8-4aa8-4336-c0a7-e2db81a0b45c"
      },
      "source": [
        "challenge.isna().sum()"
      ],
      "execution_count": null,
      "outputs": [
        {
          "output_type": "execute_result",
          "data": {
            "text/plain": [
              "challenge_ID              0\n",
              "programming_language      0\n",
              "challenge_series_ID       0\n",
              "category_id               0\n",
              "total_submissions         0\n",
              "publish_date              0\n",
              "author_ID                39\n",
              "author_gender            93\n",
              "author_org_ID           235\n",
              "Year                      0\n",
              "Month                     0\n",
              "Day                       0\n",
              "dtype: int64"
            ]
          },
          "metadata": {
            "tags": []
          },
          "execution_count": 573
        }
      ]
    },
    {
      "cell_type": "code",
      "metadata": {
        "id": "_Wu39GR4Vydc"
      },
      "source": [
        ""
      ],
      "execution_count": null,
      "outputs": []
    },
    {
      "cell_type": "code",
      "metadata": {
        "id": "DbgFAp1zOVCK"
      },
      "source": [
        "# Working on author_ID and author-org_ID by using model \n",
        "# filling author_gender by using forward fill"
      ],
      "execution_count": null,
      "outputs": []
    },
    {
      "cell_type": "code",
      "metadata": {
        "id": "oaPEYJSEAInt"
      },
      "source": [
        "# df = pd.read_csv(\"/content/drive/My Drive/Analytics vidya to CSV/chall2.csv\")"
      ],
      "execution_count": null,
      "outputs": []
    },
    {
      "cell_type": "code",
      "metadata": {
        "id": "Rax1P7S5xu_L"
      },
      "source": [
        "df = challenge"
      ],
      "execution_count": null,
      "outputs": []
    },
    {
      "cell_type": "code",
      "metadata": {
        "id": "ZWkPr-ahAMcf",
        "colab": {
          "base_uri": "https://localhost:8080/"
        },
        "outputId": "bdef9c3c-e5b3-44fa-e6d4-bfd69d144482"
      },
      "source": [
        "df.head()"
      ],
      "execution_count": null,
      "outputs": [
        {
          "output_type": "execute_result",
          "data": {
            "text/html": [
              "<div>\n",
              "<style scoped>\n",
              "    .dataframe tbody tr th:only-of-type {\n",
              "        vertical-align: middle;\n",
              "    }\n",
              "\n",
              "    .dataframe tbody tr th {\n",
              "        vertical-align: top;\n",
              "    }\n",
              "\n",
              "    .dataframe thead th {\n",
              "        text-align: right;\n",
              "    }\n",
              "</style>\n",
              "<table border=\"1\" class=\"dataframe\">\n",
              "  <thead>\n",
              "    <tr style=\"text-align: right;\">\n",
              "      <th></th>\n",
              "      <th>challenge_ID</th>\n",
              "      <th>programming_language</th>\n",
              "      <th>challenge_series_ID</th>\n",
              "      <th>category_id</th>\n",
              "      <th>total_submissions</th>\n",
              "      <th>publish_date</th>\n",
              "      <th>author_ID</th>\n",
              "      <th>author_gender</th>\n",
              "      <th>author_org_ID</th>\n",
              "      <th>Year</th>\n",
              "      <th>Month</th>\n",
              "      <th>Day</th>\n",
              "    </tr>\n",
              "  </thead>\n",
              "  <tbody>\n",
              "    <tr>\n",
              "      <th>0</th>\n",
              "      <td>CI23478</td>\n",
              "      <td>2</td>\n",
              "      <td>SI2445</td>\n",
              "      <td>69.500000</td>\n",
              "      <td>37</td>\n",
              "      <td>2006-06-05</td>\n",
              "      <td>AI563576</td>\n",
              "      <td>M</td>\n",
              "      <td>AOI100001</td>\n",
              "      <td>2006</td>\n",
              "      <td>6</td>\n",
              "      <td>5</td>\n",
              "    </tr>\n",
              "    <tr>\n",
              "      <th>1</th>\n",
              "      <td>CI23479</td>\n",
              "      <td>2</td>\n",
              "      <td>SI2435</td>\n",
              "      <td>32.000000</td>\n",
              "      <td>48</td>\n",
              "      <td>2002-10-17</td>\n",
              "      <td>AI563577</td>\n",
              "      <td>M</td>\n",
              "      <td>AOI100002</td>\n",
              "      <td>2002</td>\n",
              "      <td>10</td>\n",
              "      <td>17</td>\n",
              "    </tr>\n",
              "    <tr>\n",
              "      <th>2</th>\n",
              "      <td>CI23480</td>\n",
              "      <td>1</td>\n",
              "      <td>SI2435</td>\n",
              "      <td>40.777778</td>\n",
              "      <td>15</td>\n",
              "      <td>2002-10-16</td>\n",
              "      <td>AI563578</td>\n",
              "      <td>M</td>\n",
              "      <td>AOI100003</td>\n",
              "      <td>2002</td>\n",
              "      <td>10</td>\n",
              "      <td>16</td>\n",
              "    </tr>\n",
              "    <tr>\n",
              "      <th>3</th>\n",
              "      <td>CI23481</td>\n",
              "      <td>1</td>\n",
              "      <td>SI2710</td>\n",
              "      <td>70.000000</td>\n",
              "      <td>236</td>\n",
              "      <td>2003-09-19</td>\n",
              "      <td>AI563579</td>\n",
              "      <td>M</td>\n",
              "      <td>AOI100004</td>\n",
              "      <td>2003</td>\n",
              "      <td>9</td>\n",
              "      <td>19</td>\n",
              "    </tr>\n",
              "    <tr>\n",
              "      <th>4</th>\n",
              "      <td>CI23482</td>\n",
              "      <td>2</td>\n",
              "      <td>SI2440</td>\n",
              "      <td>61.400000</td>\n",
              "      <td>137</td>\n",
              "      <td>2002-03-21</td>\n",
              "      <td>AI563580</td>\n",
              "      <td>M</td>\n",
              "      <td>AOI100005</td>\n",
              "      <td>2002</td>\n",
              "      <td>3</td>\n",
              "      <td>21</td>\n",
              "    </tr>\n",
              "  </tbody>\n",
              "</table>\n",
              "</div>"
            ],
            "text/plain": [
              "  challenge_ID  programming_language challenge_series_ID  ...  Year Month Day\n",
              "0      CI23478                     2              SI2445  ...  2006     6   5\n",
              "1      CI23479                     2              SI2435  ...  2002    10  17\n",
              "2      CI23480                     1              SI2435  ...  2002    10  16\n",
              "3      CI23481                     1              SI2710  ...  2003     9  19\n",
              "4      CI23482                     2              SI2440  ...  2002     3  21\n",
              "\n",
              "[5 rows x 12 columns]"
            ]
          },
          "metadata": {
            "tags": []
          },
          "execution_count": 577
        }
      ]
    },
    {
      "cell_type": "code",
      "metadata": {
        "id": "OR14ogurAQ12",
        "colab": {
          "base_uri": "https://localhost:8080/"
        },
        "outputId": "88ff6e47-f3b1-4968-922e-8c67bc371743"
      },
      "source": [
        "df.isna().sum()"
      ],
      "execution_count": null,
      "outputs": [
        {
          "output_type": "execute_result",
          "data": {
            "text/plain": [
              "challenge_ID              0\n",
              "programming_language      0\n",
              "challenge_series_ID       0\n",
              "category_id               0\n",
              "total_submissions         0\n",
              "publish_date              0\n",
              "author_ID                39\n",
              "author_gender            93\n",
              "author_org_ID           235\n",
              "Year                      0\n",
              "Month                     0\n",
              "Day                       0\n",
              "dtype: int64"
            ]
          },
          "metadata": {
            "tags": []
          },
          "execution_count": 578
        }
      ]
    },
    {
      "cell_type": "code",
      "metadata": {
        "id": "FmlMxx3FAXd4"
      },
      "source": [
        "# cleaning data to be suitable for tranining the model\n",
        "df['author_gender']= df['author_gender'].replace('M', '1')\n",
        "df['author_gender']= df['author_gender'].replace('F', '0')\n",
        "\n",
        "df['challenge_ID'] = df['challenge_ID'].str.strip(\"CI\")\n",
        "df['challenge_series_ID'] = df['challenge_series_ID'].str.strip(\"SI\")\n",
        "df['author_ID'] = df['author_ID'].str.strip(\"AI\")\n",
        "df['author_org_ID'] = df['author_org_ID'].str.strip(\"AOI\")\n",
        "\n",
        "df[['author_ID']] = df[['author_ID']].astype(float)\n",
        "df[['author_org_ID']] = df[['author_org_ID']].astype(float)\n",
        "df[['challenge_ID']] = df[['challenge_ID']].astype(float)\n",
        "df[['challenge_series_ID']] = df[['challenge_series_ID']].astype(float)\n",
        "df[['author_gender']] = df[['author_gender']].astype(float)\n",
        "df[['programming_language']] = df[['programming_language']].astype(float)\n",
        "df[['total_submissions']] = df[['total_submissions']].astype(float)\n",
        "df[['Year']] = df[['Year']].astype(float)\n",
        "\n",
        "df = df.drop(['publish_date'], axis = 1) \n",
        "# df = df.drop(['Unnamed: 0'], axis = 1)\n",
        "\n",
        "df['author_gender'].fillna(df['author_gender'].ffill(),inplace=True)"
      ],
      "execution_count": null,
      "outputs": []
    },
    {
      "cell_type": "code",
      "metadata": {
        "id": "21tuZbQLAZC6",
        "colab": {
          "base_uri": "https://localhost:8080/"
        },
        "outputId": "60d9b141-355e-4a0b-f310-1b2dbe0aaab5"
      },
      "source": [
        "df.dtypes"
      ],
      "execution_count": null,
      "outputs": [
        {
          "output_type": "execute_result",
          "data": {
            "text/plain": [
              "challenge_ID            float64\n",
              "programming_language    float64\n",
              "challenge_series_ID     float64\n",
              "category_id             float64\n",
              "total_submissions       float64\n",
              "author_ID               float64\n",
              "author_gender           float64\n",
              "author_org_ID           float64\n",
              "Year                    float64\n",
              "Month                     int64\n",
              "Day                       int64\n",
              "dtype: object"
            ]
          },
          "metadata": {
            "tags": []
          },
          "execution_count": 580
        }
      ]
    },
    {
      "cell_type": "code",
      "metadata": {
        "id": "iVshay37Abma",
        "colab": {
          "base_uri": "https://localhost:8080/"
        },
        "outputId": "3cc7e5f6-98f5-4a72-fc99-41564ab93d52"
      },
      "source": [
        "df.isna().sum()"
      ],
      "execution_count": null,
      "outputs": [
        {
          "output_type": "execute_result",
          "data": {
            "text/plain": [
              "challenge_ID              0\n",
              "programming_language      0\n",
              "challenge_series_ID       0\n",
              "category_id               0\n",
              "total_submissions         0\n",
              "author_ID                39\n",
              "author_gender             0\n",
              "author_org_ID           235\n",
              "Year                      0\n",
              "Month                     0\n",
              "Day                       0\n",
              "dtype: int64"
            ]
          },
          "metadata": {
            "tags": []
          },
          "execution_count": 581
        }
      ]
    },
    {
      "cell_type": "code",
      "metadata": {
        "id": "VVQvm6f2QKM6"
      },
      "source": [
        "# df.to_csv(\"/content/drive/My Drive/Analytics vidya to CSV/chall2_cleaned.csv\") \n",
        "\n",
        "# This csv is cleaned csv which is cleaned as per requirements of format by model for training and predicting missing values.\n",
        "# use this csv only when want to train model in new notebook. No need to load in this notebook."
      ],
      "execution_count": null,
      "outputs": []
    },
    {
      "cell_type": "code",
      "metadata": {
        "id": "wVQ0BBaKA3n1",
        "colab": {
          "base_uri": "https://localhost:8080/"
        },
        "outputId": "6f8106f9-31e5-4156-c925-762e047e9fb2"
      },
      "source": [
        "# Working on author_org_ID and creating its train and test data.\n",
        "train_auth_org_id = df.drop(['author_ID'], axis = 1) \n",
        "train_df = train_auth_org_id.dropna(subset=['author_org_ID'],axis='rows')\n",
        "train_df.shape"
      ],
      "execution_count": null,
      "outputs": [
        {
          "output_type": "execute_result",
          "data": {
            "text/plain": [
              "(5113, 10)"
            ]
          },
          "metadata": {
            "tags": []
          },
          "execution_count": 583
        }
      ]
    },
    {
      "cell_type": "code",
      "metadata": {
        "id": "krhhxDsoBCh1",
        "colab": {
          "base_uri": "https://localhost:8080/"
        },
        "outputId": "cb20bbbe-c7bf-4d5d-ef10-1669637f12a2"
      },
      "source": [
        "train_df.head()"
      ],
      "execution_count": null,
      "outputs": [
        {
          "output_type": "execute_result",
          "data": {
            "text/html": [
              "<div>\n",
              "<style scoped>\n",
              "    .dataframe tbody tr th:only-of-type {\n",
              "        vertical-align: middle;\n",
              "    }\n",
              "\n",
              "    .dataframe tbody tr th {\n",
              "        vertical-align: top;\n",
              "    }\n",
              "\n",
              "    .dataframe thead th {\n",
              "        text-align: right;\n",
              "    }\n",
              "</style>\n",
              "<table border=\"1\" class=\"dataframe\">\n",
              "  <thead>\n",
              "    <tr style=\"text-align: right;\">\n",
              "      <th></th>\n",
              "      <th>challenge_ID</th>\n",
              "      <th>programming_language</th>\n",
              "      <th>challenge_series_ID</th>\n",
              "      <th>category_id</th>\n",
              "      <th>total_submissions</th>\n",
              "      <th>author_gender</th>\n",
              "      <th>author_org_ID</th>\n",
              "      <th>Year</th>\n",
              "      <th>Month</th>\n",
              "      <th>Day</th>\n",
              "    </tr>\n",
              "  </thead>\n",
              "  <tbody>\n",
              "    <tr>\n",
              "      <th>0</th>\n",
              "      <td>23478.0</td>\n",
              "      <td>2.0</td>\n",
              "      <td>2445.0</td>\n",
              "      <td>69.500000</td>\n",
              "      <td>37.0</td>\n",
              "      <td>1.0</td>\n",
              "      <td>100001.0</td>\n",
              "      <td>2006.0</td>\n",
              "      <td>6</td>\n",
              "      <td>5</td>\n",
              "    </tr>\n",
              "    <tr>\n",
              "      <th>1</th>\n",
              "      <td>23479.0</td>\n",
              "      <td>2.0</td>\n",
              "      <td>2435.0</td>\n",
              "      <td>32.000000</td>\n",
              "      <td>48.0</td>\n",
              "      <td>1.0</td>\n",
              "      <td>100002.0</td>\n",
              "      <td>2002.0</td>\n",
              "      <td>10</td>\n",
              "      <td>17</td>\n",
              "    </tr>\n",
              "    <tr>\n",
              "      <th>2</th>\n",
              "      <td>23480.0</td>\n",
              "      <td>1.0</td>\n",
              "      <td>2435.0</td>\n",
              "      <td>40.777778</td>\n",
              "      <td>15.0</td>\n",
              "      <td>1.0</td>\n",
              "      <td>100003.0</td>\n",
              "      <td>2002.0</td>\n",
              "      <td>10</td>\n",
              "      <td>16</td>\n",
              "    </tr>\n",
              "    <tr>\n",
              "      <th>3</th>\n",
              "      <td>23481.0</td>\n",
              "      <td>1.0</td>\n",
              "      <td>2710.0</td>\n",
              "      <td>70.000000</td>\n",
              "      <td>236.0</td>\n",
              "      <td>1.0</td>\n",
              "      <td>100004.0</td>\n",
              "      <td>2003.0</td>\n",
              "      <td>9</td>\n",
              "      <td>19</td>\n",
              "    </tr>\n",
              "    <tr>\n",
              "      <th>4</th>\n",
              "      <td>23482.0</td>\n",
              "      <td>2.0</td>\n",
              "      <td>2440.0</td>\n",
              "      <td>61.400000</td>\n",
              "      <td>137.0</td>\n",
              "      <td>1.0</td>\n",
              "      <td>100005.0</td>\n",
              "      <td>2002.0</td>\n",
              "      <td>3</td>\n",
              "      <td>21</td>\n",
              "    </tr>\n",
              "  </tbody>\n",
              "</table>\n",
              "</div>"
            ],
            "text/plain": [
              "   challenge_ID  programming_language  challenge_series_ID  ...    Year  Month  Day\n",
              "0       23478.0                   2.0               2445.0  ...  2006.0      6    5\n",
              "1       23479.0                   2.0               2435.0  ...  2002.0     10   17\n",
              "2       23480.0                   1.0               2435.0  ...  2002.0     10   16\n",
              "3       23481.0                   1.0               2710.0  ...  2003.0      9   19\n",
              "4       23482.0                   2.0               2440.0  ...  2002.0      3   21\n",
              "\n",
              "[5 rows x 10 columns]"
            ]
          },
          "metadata": {
            "tags": []
          },
          "execution_count": 584
        }
      ]
    },
    {
      "cell_type": "code",
      "metadata": {
        "id": "UrGuv3pCA7E1",
        "colab": {
          "base_uri": "https://localhost:8080/"
        },
        "outputId": "7210d305-2cf8-43b4-e445-db2a0486a0df"
      },
      "source": [
        "test_df = train_auth_org_id[train_auth_org_id['author_org_ID'].isna().values]\n",
        "test_df.shape"
      ],
      "execution_count": null,
      "outputs": [
        {
          "output_type": "execute_result",
          "data": {
            "text/plain": [
              "(235, 10)"
            ]
          },
          "metadata": {
            "tags": []
          },
          "execution_count": 585
        }
      ]
    },
    {
      "cell_type": "code",
      "metadata": {
        "id": "Z8qvHZfBA9ic",
        "colab": {
          "base_uri": "https://localhost:8080/"
        },
        "outputId": "6bd91ac5-bed1-41c9-f3f6-d6231e3360d5"
      },
      "source": [
        "test_df.head()"
      ],
      "execution_count": null,
      "outputs": [
        {
          "output_type": "execute_result",
          "data": {
            "text/html": [
              "<div>\n",
              "<style scoped>\n",
              "    .dataframe tbody tr th:only-of-type {\n",
              "        vertical-align: middle;\n",
              "    }\n",
              "\n",
              "    .dataframe tbody tr th {\n",
              "        vertical-align: top;\n",
              "    }\n",
              "\n",
              "    .dataframe thead th {\n",
              "        text-align: right;\n",
              "    }\n",
              "</style>\n",
              "<table border=\"1\" class=\"dataframe\">\n",
              "  <thead>\n",
              "    <tr style=\"text-align: right;\">\n",
              "      <th></th>\n",
              "      <th>challenge_ID</th>\n",
              "      <th>programming_language</th>\n",
              "      <th>challenge_series_ID</th>\n",
              "      <th>category_id</th>\n",
              "      <th>total_submissions</th>\n",
              "      <th>author_gender</th>\n",
              "      <th>author_org_ID</th>\n",
              "      <th>Year</th>\n",
              "      <th>Month</th>\n",
              "      <th>Day</th>\n",
              "    </tr>\n",
              "  </thead>\n",
              "  <tbody>\n",
              "    <tr>\n",
              "      <th>5</th>\n",
              "      <td>23483.0</td>\n",
              "      <td>2.0</td>\n",
              "      <td>2445.0</td>\n",
              "      <td>70.000000</td>\n",
              "      <td>1434.0</td>\n",
              "      <td>1.0</td>\n",
              "      <td>NaN</td>\n",
              "      <td>2006.0</td>\n",
              "      <td>6</td>\n",
              "      <td>5</td>\n",
              "    </tr>\n",
              "    <tr>\n",
              "      <th>19</th>\n",
              "      <td>23497.0</td>\n",
              "      <td>2.0</td>\n",
              "      <td>2442.0</td>\n",
              "      <td>70.000000</td>\n",
              "      <td>195.0</td>\n",
              "      <td>1.0</td>\n",
              "      <td>NaN</td>\n",
              "      <td>2006.0</td>\n",
              "      <td>7</td>\n",
              "      <td>17</td>\n",
              "    </tr>\n",
              "    <tr>\n",
              "      <th>24</th>\n",
              "      <td>23502.0</td>\n",
              "      <td>1.0</td>\n",
              "      <td>2435.0</td>\n",
              "      <td>40.777778</td>\n",
              "      <td>47.0</td>\n",
              "      <td>1.0</td>\n",
              "      <td>NaN</td>\n",
              "      <td>2002.0</td>\n",
              "      <td>10</td>\n",
              "      <td>16</td>\n",
              "    </tr>\n",
              "    <tr>\n",
              "      <th>42</th>\n",
              "      <td>23520.0</td>\n",
              "      <td>2.0</td>\n",
              "      <td>2445.0</td>\n",
              "      <td>69.500000</td>\n",
              "      <td>24.0</td>\n",
              "      <td>1.0</td>\n",
              "      <td>NaN</td>\n",
              "      <td>2006.0</td>\n",
              "      <td>6</td>\n",
              "      <td>5</td>\n",
              "    </tr>\n",
              "    <tr>\n",
              "      <th>46</th>\n",
              "      <td>23524.0</td>\n",
              "      <td>2.0</td>\n",
              "      <td>2446.0</td>\n",
              "      <td>70.000000</td>\n",
              "      <td>213.0</td>\n",
              "      <td>1.0</td>\n",
              "      <td>NaN</td>\n",
              "      <td>2003.0</td>\n",
              "      <td>3</td>\n",
              "      <td>21</td>\n",
              "    </tr>\n",
              "  </tbody>\n",
              "</table>\n",
              "</div>"
            ],
            "text/plain": [
              "    challenge_ID  programming_language  challenge_series_ID  ...    Year  Month  Day\n",
              "5        23483.0                   2.0               2445.0  ...  2006.0      6    5\n",
              "19       23497.0                   2.0               2442.0  ...  2006.0      7   17\n",
              "24       23502.0                   1.0               2435.0  ...  2002.0     10   16\n",
              "42       23520.0                   2.0               2445.0  ...  2006.0      6    5\n",
              "46       23524.0                   2.0               2446.0  ...  2003.0      3   21\n",
              "\n",
              "[5 rows x 10 columns]"
            ]
          },
          "metadata": {
            "tags": []
          },
          "execution_count": 586
        }
      ]
    },
    {
      "cell_type": "code",
      "metadata": {
        "id": "J571kIVSBHbi"
      },
      "source": [
        "# Manually doing train test split for author_org_ID\n",
        "X_train = train_df.drop(['author_org_ID'], axis = 1) \n",
        "y_train = train_df['author_org_ID']\n",
        "\n",
        "X_test = test_df.drop(['author_org_ID'], axis = 1)\n",
        "y_test = test_df['author_org_ID']"
      ],
      "execution_count": null,
      "outputs": []
    },
    {
      "cell_type": "code",
      "metadata": {
        "id": "jSAc-ZyoBL2j",
        "colab": {
          "base_uri": "https://localhost:8080/"
        },
        "outputId": "91eec749-5e9a-4802-817a-a81166594dc1"
      },
      "source": [
        "print(X_train.shape)\n",
        "print(y_train.shape)\n",
        "print(X_test.shape)\n",
        "print(y_test.shape)"
      ],
      "execution_count": null,
      "outputs": [
        {
          "output_type": "stream",
          "text": [
            "(5113, 9)\n",
            "(5113,)\n",
            "(235, 9)\n",
            "(235,)\n"
          ],
          "name": "stdout"
        }
      ]
    },
    {
      "cell_type": "code",
      "metadata": {
        "id": "CkojVMCIBPhO"
      },
      "source": [
        "from sklearn.model_selection import train_test_split \n",
        "from sklearn import metrics"
      ],
      "execution_count": null,
      "outputs": []
    },
    {
      "cell_type": "code",
      "metadata": {
        "id": "bZ5RIzxzB5Ke",
        "colab": {
          "base_uri": "https://localhost:8080/"
        },
        "outputId": "61b5fd12-095b-47a3-a2e3-6650bb426297"
      },
      "source": [
        "# Training XGBoost model\n",
        "\n",
        "import xgboost as xgb\n",
        "XGB_reg = xgb.XGBRegressor(random_state=0) \n",
        "XGB_reg.fit(X_train,y_train)\n",
        "y_pred_xgb = XGB_reg.predict(X_test)\n",
        "y_pred_xgb"
      ],
      "execution_count": null,
      "outputs": [
        {
          "output_type": "stream",
          "text": [
            "[08:14:56] WARNING: /workspace/src/objective/regression_obj.cu:152: reg:linear is now deprecated in favor of reg:squarederror.\n"
          ],
          "name": "stdout"
        },
        {
          "output_type": "execute_result",
          "data": {
            "text/plain": [
              "array([100077.67 , 100123.41 , 100060.03 , 100107.41 , 100059.836,\n",
              "       100119.04 , 100150.48 , 100187.62 , 100147.305, 100191.58 ,\n",
              "       100154.23 , 100112.07 , 100205.37 , 100193.445, 100174.78 ,\n",
              "       100177.23 , 100241.4  , 100280.95 , 100244.2  , 100317.67 ,\n",
              "       100206.07 , 100315.11 , 100272.93 , 100303.48 , 100292.23 ,\n",
              "       100280.26 , 100292.23 , 100424.05 , 100237.54 , 100340.266,\n",
              "       100287.86 , 100365.69 , 100380.5  , 100321.625, 100116.74 ,\n",
              "       100309.02 , 100323.39 , 100559.5  , 100243.07 , 100326.164,\n",
              "       100243.07 , 100356.38 , 100243.07 , 100243.07 , 100243.07 ,\n",
              "       100416.57 , 100343.734, 100385.05 , 100341.01 , 100422.66 ,\n",
              "       100313.39 , 100433.48 , 100433.48 , 100556.29 , 100396.24 ,\n",
              "       100454.3  , 100345.96 , 100365.39 , 100344.61 , 100515.44 ,\n",
              "       100533.78 , 100484.59 , 100565.1  , 100596.2  , 100564.12 ,\n",
              "       100473.11 , 100506.88 , 100442.86 , 100650.31 , 100650.31 ,\n",
              "       100614.69 , 100792.125, 100859.52 , 100870.77 , 100581.89 ,\n",
              "       100668.53 , 100666.2  , 100666.2  , 100687.07 , 100987.86 ,\n",
              "       100574.836, 100958.45 , 100708.266, 100987.86 , 100588.22 ,\n",
              "       100551.27 , 100574.516, 100557.516, 100557.516, 100523.12 ,\n",
              "       100718.42 , 100730.24 , 100719.516, 100675.01 , 100675.01 ,\n",
              "       100675.01 , 100512.66 , 100623.68 , 100663.19 , 100663.19 ,\n",
              "       100564.9  , 100583.94 , 100642.82 , 100859.52 , 100823.02 ,\n",
              "       100714.016, 100854.875, 100688.45 , 100677.2  , 100688.45 ,\n",
              "       100688.45 , 100651.17 , 100435.984, 100671.89 , 100576.4  ,\n",
              "       100683.9  , 100537.51 , 100635.14 , 100672.125, 101345.24 ,\n",
              "       100601.88 , 100691.26 , 100663.85 , 100621.43 , 100767.21 ,\n",
              "       100455.68 , 100747.484, 100808.69 , 100940.01 , 100575.79 ,\n",
              "       100585.31 , 100337.86 , 100349.414, 100349.414, 100349.414,\n",
              "       100358.414, 100353.01 , 100353.01 , 100351.27 , 100346.63 ,\n",
              "       100358.414, 100387.43 , 100346.445, 100371.83 , 100371.83 ,\n",
              "       100366.42 , 100362.875, 100387.43 , 100570.28 , 100415.66 ,\n",
              "       100389.23 , 100522.8  , 100546.99 , 100532.95 , 100551.4  ,\n",
              "       100800.195, 100855.96 , 100855.96 , 100855.96 , 100855.96 ,\n",
              "       100855.96 , 100844.71 , 100844.71 , 100855.96 , 100855.96 ,\n",
              "       100818.63 , 100855.96 , 100855.96 , 100844.71 , 100831.17 ,\n",
              "       100855.96 , 100855.96 , 100855.96 , 100855.96 , 100779.97 ,\n",
              "       100855.96 , 100855.96 , 100855.96 , 100855.96 , 100877.69 ,\n",
              "       100844.71 , 100855.96 , 100509.875, 101280.195, 101202.98 ,\n",
              "       101202.98 , 100641.27 , 100937.836, 100734.336, 100734.336,\n",
              "       100927.734, 100964.68 , 101158.9  , 100569.47 , 100902.28 ,\n",
              "       100489.63 , 100680.08 , 100705.2  , 100938.78 , 100880.39 ,\n",
              "       100877.16 , 100823.48 , 100799.88 , 100750.88 , 100868.5  ,\n",
              "       100507.48 , 100873.79 , 100963.58 , 100796.87 , 100774.28 ,\n",
              "       100879.164, 100936.34 , 100875.6  , 100749.914, 100640.38 ,\n",
              "       100807.09 , 100892.18 , 100809.88 , 100806.766, 100777.37 ,\n",
              "       100867.06 , 100763.94 , 100867.06 , 100888.94 , 100914.06 ,\n",
              "       101631.484, 101515.914, 100942.414, 100786.74 , 100786.74 ,\n",
              "       100678.94 , 100987.62 , 101016.914, 100745.22 , 101595.71 ],\n",
              "      dtype=float32)"
            ]
          },
          "metadata": {
            "tags": []
          },
          "execution_count": 590
        }
      ]
    },
    {
      "cell_type": "code",
      "metadata": {
        "id": "s7VD_jVLB7S5",
        "colab": {
          "base_uri": "https://localhost:8080/"
        },
        "outputId": "766ef13c-a5dd-4adc-dad6-c50ef516d9d6"
      },
      "source": [
        "y_pred_xgb.shape"
      ],
      "execution_count": null,
      "outputs": [
        {
          "output_type": "execute_result",
          "data": {
            "text/plain": [
              "(235,)"
            ]
          },
          "metadata": {
            "tags": []
          },
          "execution_count": 591
        }
      ]
    },
    {
      "cell_type": "code",
      "metadata": {
        "id": "sAL327BFCPcm",
        "colab": {
          "base_uri": "https://localhost:8080/"
        },
        "outputId": "591efe31-d651-4fe5-8e3a-3550aa1ca596"
      },
      "source": [
        "Predict_auth_org_id=pd.DataFrame(y_pred_xgb, columns=['author_org_ID']) \n",
        "Predict_auth_org_id = Predict_auth_org_id.round()\n",
        "Predict_auth_org_id"
      ],
      "execution_count": null,
      "outputs": [
        {
          "output_type": "execute_result",
          "data": {
            "text/html": [
              "<div>\n",
              "<style scoped>\n",
              "    .dataframe tbody tr th:only-of-type {\n",
              "        vertical-align: middle;\n",
              "    }\n",
              "\n",
              "    .dataframe tbody tr th {\n",
              "        vertical-align: top;\n",
              "    }\n",
              "\n",
              "    .dataframe thead th {\n",
              "        text-align: right;\n",
              "    }\n",
              "</style>\n",
              "<table border=\"1\" class=\"dataframe\">\n",
              "  <thead>\n",
              "    <tr style=\"text-align: right;\">\n",
              "      <th></th>\n",
              "      <th>author_org_ID</th>\n",
              "    </tr>\n",
              "  </thead>\n",
              "  <tbody>\n",
              "    <tr>\n",
              "      <th>0</th>\n",
              "      <td>100078.0</td>\n",
              "    </tr>\n",
              "    <tr>\n",
              "      <th>1</th>\n",
              "      <td>100123.0</td>\n",
              "    </tr>\n",
              "    <tr>\n",
              "      <th>2</th>\n",
              "      <td>100060.0</td>\n",
              "    </tr>\n",
              "    <tr>\n",
              "      <th>3</th>\n",
              "      <td>100107.0</td>\n",
              "    </tr>\n",
              "    <tr>\n",
              "      <th>4</th>\n",
              "      <td>100060.0</td>\n",
              "    </tr>\n",
              "    <tr>\n",
              "      <th>...</th>\n",
              "      <td>...</td>\n",
              "    </tr>\n",
              "    <tr>\n",
              "      <th>230</th>\n",
              "      <td>100679.0</td>\n",
              "    </tr>\n",
              "    <tr>\n",
              "      <th>231</th>\n",
              "      <td>100988.0</td>\n",
              "    </tr>\n",
              "    <tr>\n",
              "      <th>232</th>\n",
              "      <td>101017.0</td>\n",
              "    </tr>\n",
              "    <tr>\n",
              "      <th>233</th>\n",
              "      <td>100745.0</td>\n",
              "    </tr>\n",
              "    <tr>\n",
              "      <th>234</th>\n",
              "      <td>101596.0</td>\n",
              "    </tr>\n",
              "  </tbody>\n",
              "</table>\n",
              "<p>235 rows × 1 columns</p>\n",
              "</div>"
            ],
            "text/plain": [
              "     author_org_ID\n",
              "0         100078.0\n",
              "1         100123.0\n",
              "2         100060.0\n",
              "3         100107.0\n",
              "4         100060.0\n",
              "..             ...\n",
              "230       100679.0\n",
              "231       100988.0\n",
              "232       101017.0\n",
              "233       100745.0\n",
              "234       101596.0\n",
              "\n",
              "[235 rows x 1 columns]"
            ]
          },
          "metadata": {
            "tags": []
          },
          "execution_count": 592
        }
      ]
    },
    {
      "cell_type": "code",
      "metadata": {
        "id": "txtg0ithCVML"
      },
      "source": [
        ""
      ],
      "execution_count": null,
      "outputs": []
    },
    {
      "cell_type": "code",
      "metadata": {
        "id": "9Ag9OrarCa6-"
      },
      "source": [
        "# For author id"
      ],
      "execution_count": null,
      "outputs": []
    },
    {
      "cell_type": "code",
      "metadata": {
        "id": "55pJuEaPCeKr",
        "colab": {
          "base_uri": "https://localhost:8080/"
        },
        "outputId": "b6b083aa-d037-49f4-d774-e8025c378c2f"
      },
      "source": [
        "# Working on author_ID and creating its train and test data.\n",
        "train_auth_id = df.drop(['author_org_ID'], axis = 1) \n",
        "train_df2 = train_auth_id.dropna(subset=['author_ID'],axis='rows')\n",
        "train_df2.shape"
      ],
      "execution_count": null,
      "outputs": [
        {
          "output_type": "execute_result",
          "data": {
            "text/plain": [
              "(5309, 10)"
            ]
          },
          "metadata": {
            "tags": []
          },
          "execution_count": 594
        }
      ]
    },
    {
      "cell_type": "code",
      "metadata": {
        "id": "GU41VJD1Cett",
        "colab": {
          "base_uri": "https://localhost:8080/"
        },
        "outputId": "7a503588-1c82-4719-c3ec-0880c4dcdd98"
      },
      "source": [
        "test_df2 = train_auth_id[train_auth_id['author_ID'].isna().values]\n",
        "test_df2.shape"
      ],
      "execution_count": null,
      "outputs": [
        {
          "output_type": "execute_result",
          "data": {
            "text/plain": [
              "(39, 10)"
            ]
          },
          "metadata": {
            "tags": []
          },
          "execution_count": 595
        }
      ]
    },
    {
      "cell_type": "code",
      "metadata": {
        "id": "RM_WtsrFCgfu"
      },
      "source": [
        "# Manually doing train test split for author_org_ID\n",
        "X_train2 = train_df2.drop(['author_ID'], axis = 1) \n",
        "y_train2 = train_df2['author_ID']\n",
        "\n",
        "X_test2 = test_df2.drop(['author_ID'], axis = 1)\n",
        "y_test2 = test_df2['author_ID']"
      ],
      "execution_count": null,
      "outputs": []
    },
    {
      "cell_type": "code",
      "metadata": {
        "id": "yM0_D0wVCh3A",
        "colab": {
          "base_uri": "https://localhost:8080/"
        },
        "outputId": "303bd72e-069d-4774-b1f4-5d9d8f9d2165"
      },
      "source": [
        "print(X_train2.shape)\n",
        "print(y_train2.shape)\n",
        "print(X_test2.shape)\n",
        "print(y_test2.shape)"
      ],
      "execution_count": null,
      "outputs": [
        {
          "output_type": "stream",
          "text": [
            "(5309, 9)\n",
            "(5309,)\n",
            "(39, 9)\n",
            "(39,)\n"
          ],
          "name": "stdout"
        }
      ]
    },
    {
      "cell_type": "code",
      "metadata": {
        "id": "1HfHAu4zCkdx",
        "colab": {
          "base_uri": "https://localhost:8080/"
        },
        "outputId": "23f195ee-db6d-44bf-f4e9-7fa226deb189"
      },
      "source": [
        "# Training XGBoost model\n",
        "\n",
        "import xgboost as xgb\n",
        "XGB_reg2 = xgb.XGBRegressor(random_state=0) \n",
        "XGB_reg2.fit(X_train2,y_train2)\n",
        "y_pred_xgb2 = XGB_reg2.predict(X_test2)\n",
        "y_pred_xgb2"
      ],
      "execution_count": null,
      "outputs": [
        {
          "output_type": "stream",
          "text": [
            "[08:14:56] WARNING: /workspace/src/objective/regression_obj.cu:152: reg:linear is now deprecated in favor of reg:squarederror.\n"
          ],
          "name": "stdout"
        },
        {
          "output_type": "execute_result",
          "data": {
            "text/plain": [
              "array([563675.4 , 563695.25, 563695.25, 563721.7 , 563855.  , 563839.25,\n",
              "       563935.06, 563914.56, 563980.2 , 564152.3 , 564240.56, 564275.1 ,\n",
              "       564281.75, 564351.  , 564345.4 , 564518.75, 564518.8 , 564525.1 ,\n",
              "       564507.9 , 564420.6 , 564535.94, 564914.1 , 565239.44, 565239.44,\n",
              "       565013.5 , 565454.25, 565404.56, 565404.56, 565443.44, 565404.56,\n",
              "       565443.44, 565698.1 , 565564.25, 565555.6 , 566293.56, 565850.25,\n",
              "       565850.25, 565928.44, 566185.94], dtype=float32)"
            ]
          },
          "metadata": {
            "tags": []
          },
          "execution_count": 598
        }
      ]
    },
    {
      "cell_type": "code",
      "metadata": {
        "id": "ODTRaNWoCr1K",
        "colab": {
          "base_uri": "https://localhost:8080/"
        },
        "outputId": "0e7d899e-18af-49d0-a0a8-4343265b0c9a"
      },
      "source": [
        "y_pred_xgb2.shape"
      ],
      "execution_count": null,
      "outputs": [
        {
          "output_type": "execute_result",
          "data": {
            "text/plain": [
              "(39,)"
            ]
          },
          "metadata": {
            "tags": []
          },
          "execution_count": 599
        }
      ]
    },
    {
      "cell_type": "code",
      "metadata": {
        "id": "tfW-IK_ZCuRv",
        "colab": {
          "base_uri": "https://localhost:8080/"
        },
        "outputId": "81dff02a-bf4a-4a20-9cdd-390930017c93"
      },
      "source": [
        "Predict_auth_id=pd.DataFrame(y_pred_xgb2, columns=['author_ID']) \n",
        "Predict_auth_id = Predict_auth_id.round()\n",
        "Predict_auth_id"
      ],
      "execution_count": null,
      "outputs": [
        {
          "output_type": "execute_result",
          "data": {
            "text/html": [
              "<div>\n",
              "<style scoped>\n",
              "    .dataframe tbody tr th:only-of-type {\n",
              "        vertical-align: middle;\n",
              "    }\n",
              "\n",
              "    .dataframe tbody tr th {\n",
              "        vertical-align: top;\n",
              "    }\n",
              "\n",
              "    .dataframe thead th {\n",
              "        text-align: right;\n",
              "    }\n",
              "</style>\n",
              "<table border=\"1\" class=\"dataframe\">\n",
              "  <thead>\n",
              "    <tr style=\"text-align: right;\">\n",
              "      <th></th>\n",
              "      <th>author_ID</th>\n",
              "    </tr>\n",
              "  </thead>\n",
              "  <tbody>\n",
              "    <tr>\n",
              "      <th>0</th>\n",
              "      <td>563675.0</td>\n",
              "    </tr>\n",
              "    <tr>\n",
              "      <th>1</th>\n",
              "      <td>563695.0</td>\n",
              "    </tr>\n",
              "    <tr>\n",
              "      <th>2</th>\n",
              "      <td>563695.0</td>\n",
              "    </tr>\n",
              "    <tr>\n",
              "      <th>3</th>\n",
              "      <td>563722.0</td>\n",
              "    </tr>\n",
              "    <tr>\n",
              "      <th>4</th>\n",
              "      <td>563855.0</td>\n",
              "    </tr>\n",
              "    <tr>\n",
              "      <th>5</th>\n",
              "      <td>563839.0</td>\n",
              "    </tr>\n",
              "    <tr>\n",
              "      <th>6</th>\n",
              "      <td>563935.0</td>\n",
              "    </tr>\n",
              "    <tr>\n",
              "      <th>7</th>\n",
              "      <td>563915.0</td>\n",
              "    </tr>\n",
              "    <tr>\n",
              "      <th>8</th>\n",
              "      <td>563980.0</td>\n",
              "    </tr>\n",
              "    <tr>\n",
              "      <th>9</th>\n",
              "      <td>564152.0</td>\n",
              "    </tr>\n",
              "    <tr>\n",
              "      <th>10</th>\n",
              "      <td>564241.0</td>\n",
              "    </tr>\n",
              "    <tr>\n",
              "      <th>11</th>\n",
              "      <td>564275.0</td>\n",
              "    </tr>\n",
              "    <tr>\n",
              "      <th>12</th>\n",
              "      <td>564282.0</td>\n",
              "    </tr>\n",
              "    <tr>\n",
              "      <th>13</th>\n",
              "      <td>564351.0</td>\n",
              "    </tr>\n",
              "    <tr>\n",
              "      <th>14</th>\n",
              "      <td>564345.0</td>\n",
              "    </tr>\n",
              "    <tr>\n",
              "      <th>15</th>\n",
              "      <td>564519.0</td>\n",
              "    </tr>\n",
              "    <tr>\n",
              "      <th>16</th>\n",
              "      <td>564519.0</td>\n",
              "    </tr>\n",
              "    <tr>\n",
              "      <th>17</th>\n",
              "      <td>564525.0</td>\n",
              "    </tr>\n",
              "    <tr>\n",
              "      <th>18</th>\n",
              "      <td>564508.0</td>\n",
              "    </tr>\n",
              "    <tr>\n",
              "      <th>19</th>\n",
              "      <td>564421.0</td>\n",
              "    </tr>\n",
              "    <tr>\n",
              "      <th>20</th>\n",
              "      <td>564536.0</td>\n",
              "    </tr>\n",
              "    <tr>\n",
              "      <th>21</th>\n",
              "      <td>564914.0</td>\n",
              "    </tr>\n",
              "    <tr>\n",
              "      <th>22</th>\n",
              "      <td>565239.0</td>\n",
              "    </tr>\n",
              "    <tr>\n",
              "      <th>23</th>\n",
              "      <td>565239.0</td>\n",
              "    </tr>\n",
              "    <tr>\n",
              "      <th>24</th>\n",
              "      <td>565014.0</td>\n",
              "    </tr>\n",
              "    <tr>\n",
              "      <th>25</th>\n",
              "      <td>565454.0</td>\n",
              "    </tr>\n",
              "    <tr>\n",
              "      <th>26</th>\n",
              "      <td>565405.0</td>\n",
              "    </tr>\n",
              "    <tr>\n",
              "      <th>27</th>\n",
              "      <td>565405.0</td>\n",
              "    </tr>\n",
              "    <tr>\n",
              "      <th>28</th>\n",
              "      <td>565443.0</td>\n",
              "    </tr>\n",
              "    <tr>\n",
              "      <th>29</th>\n",
              "      <td>565405.0</td>\n",
              "    </tr>\n",
              "    <tr>\n",
              "      <th>30</th>\n",
              "      <td>565443.0</td>\n",
              "    </tr>\n",
              "    <tr>\n",
              "      <th>31</th>\n",
              "      <td>565698.0</td>\n",
              "    </tr>\n",
              "    <tr>\n",
              "      <th>32</th>\n",
              "      <td>565564.0</td>\n",
              "    </tr>\n",
              "    <tr>\n",
              "      <th>33</th>\n",
              "      <td>565556.0</td>\n",
              "    </tr>\n",
              "    <tr>\n",
              "      <th>34</th>\n",
              "      <td>566294.0</td>\n",
              "    </tr>\n",
              "    <tr>\n",
              "      <th>35</th>\n",
              "      <td>565850.0</td>\n",
              "    </tr>\n",
              "    <tr>\n",
              "      <th>36</th>\n",
              "      <td>565850.0</td>\n",
              "    </tr>\n",
              "    <tr>\n",
              "      <th>37</th>\n",
              "      <td>565928.0</td>\n",
              "    </tr>\n",
              "    <tr>\n",
              "      <th>38</th>\n",
              "      <td>566186.0</td>\n",
              "    </tr>\n",
              "  </tbody>\n",
              "</table>\n",
              "</div>"
            ],
            "text/plain": [
              "    author_ID\n",
              "0    563675.0\n",
              "1    563695.0\n",
              "2    563695.0\n",
              "3    563722.0\n",
              "4    563855.0\n",
              "5    563839.0\n",
              "6    563935.0\n",
              "7    563915.0\n",
              "8    563980.0\n",
              "9    564152.0\n",
              "10   564241.0\n",
              "11   564275.0\n",
              "12   564282.0\n",
              "13   564351.0\n",
              "14   564345.0\n",
              "15   564519.0\n",
              "16   564519.0\n",
              "17   564525.0\n",
              "18   564508.0\n",
              "19   564421.0\n",
              "20   564536.0\n",
              "21   564914.0\n",
              "22   565239.0\n",
              "23   565239.0\n",
              "24   565014.0\n",
              "25   565454.0\n",
              "26   565405.0\n",
              "27   565405.0\n",
              "28   565443.0\n",
              "29   565405.0\n",
              "30   565443.0\n",
              "31   565698.0\n",
              "32   565564.0\n",
              "33   565556.0\n",
              "34   566294.0\n",
              "35   565850.0\n",
              "36   565850.0\n",
              "37   565928.0\n",
              "38   566186.0"
            ]
          },
          "metadata": {
            "tags": []
          },
          "execution_count": 600
        }
      ]
    },
    {
      "cell_type": "code",
      "metadata": {
        "id": "oYWisvLDXV0E"
      },
      "source": [
        "# Merging predicted values of author_id to its splitted test data set"
      ],
      "execution_count": null,
      "outputs": []
    },
    {
      "cell_type": "code",
      "metadata": {
        "id": "XbbQ8OPICyoh"
      },
      "source": [
        "X_test2.reset_index(inplace=True)"
      ],
      "execution_count": null,
      "outputs": []
    },
    {
      "cell_type": "code",
      "metadata": {
        "id": "fcKAtVGqC5h2"
      },
      "source": [
        "Predict_auth_id.reset_index(inplace=True)"
      ],
      "execution_count": null,
      "outputs": []
    },
    {
      "cell_type": "code",
      "metadata": {
        "id": "dd_95rPlC6qb"
      },
      "source": [
        "X_test2['author_ID'] = Predict_auth_id['author_ID'].values"
      ],
      "execution_count": null,
      "outputs": []
    },
    {
      "cell_type": "code",
      "metadata": {
        "id": "GUSoy6b0C-oX",
        "colab": {
          "base_uri": "https://localhost:8080/"
        },
        "outputId": "a69c2fa6-4ae8-4a81-84a5-031391523810"
      },
      "source": [
        "X_test2['author_ID'].count()"
      ],
      "execution_count": null,
      "outputs": [
        {
          "output_type": "execute_result",
          "data": {
            "text/plain": [
              "39"
            ]
          },
          "metadata": {
            "tags": []
          },
          "execution_count": 605
        }
      ]
    },
    {
      "cell_type": "code",
      "metadata": {
        "id": "7WOnif_LDAr0",
        "colab": {
          "base_uri": "https://localhost:8080/"
        },
        "outputId": "4f020dd3-91be-4a24-f6d9-a42769cc7ff3"
      },
      "source": [
        "X_test2.head()"
      ],
      "execution_count": null,
      "outputs": [
        {
          "output_type": "execute_result",
          "data": {
            "text/html": [
              "<div>\n",
              "<style scoped>\n",
              "    .dataframe tbody tr th:only-of-type {\n",
              "        vertical-align: middle;\n",
              "    }\n",
              "\n",
              "    .dataframe tbody tr th {\n",
              "        vertical-align: top;\n",
              "    }\n",
              "\n",
              "    .dataframe thead th {\n",
              "        text-align: right;\n",
              "    }\n",
              "</style>\n",
              "<table border=\"1\" class=\"dataframe\">\n",
              "  <thead>\n",
              "    <tr style=\"text-align: right;\">\n",
              "      <th></th>\n",
              "      <th>index</th>\n",
              "      <th>challenge_ID</th>\n",
              "      <th>programming_language</th>\n",
              "      <th>challenge_series_ID</th>\n",
              "      <th>category_id</th>\n",
              "      <th>total_submissions</th>\n",
              "      <th>author_gender</th>\n",
              "      <th>Year</th>\n",
              "      <th>Month</th>\n",
              "      <th>Day</th>\n",
              "      <th>author_ID</th>\n",
              "    </tr>\n",
              "  </thead>\n",
              "  <tbody>\n",
              "    <tr>\n",
              "      <th>0</th>\n",
              "      <td>5</td>\n",
              "      <td>23483.0</td>\n",
              "      <td>2.0</td>\n",
              "      <td>2445.0</td>\n",
              "      <td>70.000000</td>\n",
              "      <td>1434.0</td>\n",
              "      <td>1.0</td>\n",
              "      <td>2006.0</td>\n",
              "      <td>6</td>\n",
              "      <td>5</td>\n",
              "      <td>563675.0</td>\n",
              "    </tr>\n",
              "    <tr>\n",
              "      <th>1</th>\n",
              "      <td>19</td>\n",
              "      <td>23497.0</td>\n",
              "      <td>2.0</td>\n",
              "      <td>2442.0</td>\n",
              "      <td>70.000000</td>\n",
              "      <td>195.0</td>\n",
              "      <td>1.0</td>\n",
              "      <td>2006.0</td>\n",
              "      <td>7</td>\n",
              "      <td>17</td>\n",
              "      <td>563695.0</td>\n",
              "    </tr>\n",
              "    <tr>\n",
              "      <th>2</th>\n",
              "      <td>42</td>\n",
              "      <td>23520.0</td>\n",
              "      <td>2.0</td>\n",
              "      <td>2445.0</td>\n",
              "      <td>69.500000</td>\n",
              "      <td>24.0</td>\n",
              "      <td>1.0</td>\n",
              "      <td>2006.0</td>\n",
              "      <td>6</td>\n",
              "      <td>5</td>\n",
              "      <td>563695.0</td>\n",
              "    </tr>\n",
              "    <tr>\n",
              "      <th>3</th>\n",
              "      <td>135</td>\n",
              "      <td>23613.0</td>\n",
              "      <td>1.0</td>\n",
              "      <td>2478.0</td>\n",
              "      <td>93.428571</td>\n",
              "      <td>21.0</td>\n",
              "      <td>1.0</td>\n",
              "      <td>2006.0</td>\n",
              "      <td>1</td>\n",
              "      <td>5</td>\n",
              "      <td>563722.0</td>\n",
              "    </tr>\n",
              "    <tr>\n",
              "      <th>4</th>\n",
              "      <td>305</td>\n",
              "      <td>23783.0</td>\n",
              "      <td>1.0</td>\n",
              "      <td>2525.0</td>\n",
              "      <td>71.875000</td>\n",
              "      <td>43.0</td>\n",
              "      <td>1.0</td>\n",
              "      <td>2006.0</td>\n",
              "      <td>8</td>\n",
              "      <td>12</td>\n",
              "      <td>563855.0</td>\n",
              "    </tr>\n",
              "  </tbody>\n",
              "</table>\n",
              "</div>"
            ],
            "text/plain": [
              "   index  challenge_ID  programming_language  ...  Month  Day  author_ID\n",
              "0      5       23483.0                   2.0  ...      6    5   563675.0\n",
              "1     19       23497.0                   2.0  ...      7   17   563695.0\n",
              "2     42       23520.0                   2.0  ...      6    5   563695.0\n",
              "3    135       23613.0                   1.0  ...      1    5   563722.0\n",
              "4    305       23783.0                   1.0  ...      8   12   563855.0\n",
              "\n",
              "[5 rows x 11 columns]"
            ]
          },
          "metadata": {
            "tags": []
          },
          "execution_count": 606
        }
      ]
    },
    {
      "cell_type": "code",
      "metadata": {
        "id": "_TxpvwUFDDNH",
        "colab": {
          "base_uri": "https://localhost:8080/"
        },
        "outputId": "16d74220-c9d7-4da1-cdd2-50f872646a31"
      },
      "source": [
        "X_test2.shape"
      ],
      "execution_count": null,
      "outputs": [
        {
          "output_type": "execute_result",
          "data": {
            "text/plain": [
              "(39, 11)"
            ]
          },
          "metadata": {
            "tags": []
          },
          "execution_count": 607
        }
      ]
    },
    {
      "cell_type": "code",
      "metadata": {
        "id": "avFH5V6zDgGU"
      },
      "source": [
        "#  Merging predicted values of author_org_id to its splitted test data set"
      ],
      "execution_count": null,
      "outputs": []
    },
    {
      "cell_type": "code",
      "metadata": {
        "id": "7iRgWvMDDQ9F"
      },
      "source": [
        "X_test.reset_index(inplace=True)\n",
        "Predict_auth_org_id.reset_index(inplace=True)"
      ],
      "execution_count": null,
      "outputs": []
    },
    {
      "cell_type": "code",
      "metadata": {
        "id": "FERa6TxKDhtD"
      },
      "source": [
        "X_test['author_org_ID'] = Predict_auth_org_id['author_org_ID'].values"
      ],
      "execution_count": null,
      "outputs": []
    },
    {
      "cell_type": "code",
      "metadata": {
        "id": "lvG7F-BBDjOI",
        "colab": {
          "base_uri": "https://localhost:8080/"
        },
        "outputId": "670fe80d-b81d-4675-fb46-24d71f5cb903"
      },
      "source": [
        "X_test.head()"
      ],
      "execution_count": null,
      "outputs": [
        {
          "output_type": "execute_result",
          "data": {
            "text/html": [
              "<div>\n",
              "<style scoped>\n",
              "    .dataframe tbody tr th:only-of-type {\n",
              "        vertical-align: middle;\n",
              "    }\n",
              "\n",
              "    .dataframe tbody tr th {\n",
              "        vertical-align: top;\n",
              "    }\n",
              "\n",
              "    .dataframe thead th {\n",
              "        text-align: right;\n",
              "    }\n",
              "</style>\n",
              "<table border=\"1\" class=\"dataframe\">\n",
              "  <thead>\n",
              "    <tr style=\"text-align: right;\">\n",
              "      <th></th>\n",
              "      <th>index</th>\n",
              "      <th>challenge_ID</th>\n",
              "      <th>programming_language</th>\n",
              "      <th>challenge_series_ID</th>\n",
              "      <th>category_id</th>\n",
              "      <th>total_submissions</th>\n",
              "      <th>author_gender</th>\n",
              "      <th>Year</th>\n",
              "      <th>Month</th>\n",
              "      <th>Day</th>\n",
              "      <th>author_org_ID</th>\n",
              "    </tr>\n",
              "  </thead>\n",
              "  <tbody>\n",
              "    <tr>\n",
              "      <th>0</th>\n",
              "      <td>5</td>\n",
              "      <td>23483.0</td>\n",
              "      <td>2.0</td>\n",
              "      <td>2445.0</td>\n",
              "      <td>70.000000</td>\n",
              "      <td>1434.0</td>\n",
              "      <td>1.0</td>\n",
              "      <td>2006.0</td>\n",
              "      <td>6</td>\n",
              "      <td>5</td>\n",
              "      <td>100078.0</td>\n",
              "    </tr>\n",
              "    <tr>\n",
              "      <th>1</th>\n",
              "      <td>19</td>\n",
              "      <td>23497.0</td>\n",
              "      <td>2.0</td>\n",
              "      <td>2442.0</td>\n",
              "      <td>70.000000</td>\n",
              "      <td>195.0</td>\n",
              "      <td>1.0</td>\n",
              "      <td>2006.0</td>\n",
              "      <td>7</td>\n",
              "      <td>17</td>\n",
              "      <td>100123.0</td>\n",
              "    </tr>\n",
              "    <tr>\n",
              "      <th>2</th>\n",
              "      <td>24</td>\n",
              "      <td>23502.0</td>\n",
              "      <td>1.0</td>\n",
              "      <td>2435.0</td>\n",
              "      <td>40.777778</td>\n",
              "      <td>47.0</td>\n",
              "      <td>1.0</td>\n",
              "      <td>2002.0</td>\n",
              "      <td>10</td>\n",
              "      <td>16</td>\n",
              "      <td>100060.0</td>\n",
              "    </tr>\n",
              "    <tr>\n",
              "      <th>3</th>\n",
              "      <td>42</td>\n",
              "      <td>23520.0</td>\n",
              "      <td>2.0</td>\n",
              "      <td>2445.0</td>\n",
              "      <td>69.500000</td>\n",
              "      <td>24.0</td>\n",
              "      <td>1.0</td>\n",
              "      <td>2006.0</td>\n",
              "      <td>6</td>\n",
              "      <td>5</td>\n",
              "      <td>100107.0</td>\n",
              "    </tr>\n",
              "    <tr>\n",
              "      <th>4</th>\n",
              "      <td>46</td>\n",
              "      <td>23524.0</td>\n",
              "      <td>2.0</td>\n",
              "      <td>2446.0</td>\n",
              "      <td>70.000000</td>\n",
              "      <td>213.0</td>\n",
              "      <td>1.0</td>\n",
              "      <td>2003.0</td>\n",
              "      <td>3</td>\n",
              "      <td>21</td>\n",
              "      <td>100060.0</td>\n",
              "    </tr>\n",
              "  </tbody>\n",
              "</table>\n",
              "</div>"
            ],
            "text/plain": [
              "   index  challenge_ID  programming_language  ...  Month  Day  author_org_ID\n",
              "0      5       23483.0                   2.0  ...      6    5       100078.0\n",
              "1     19       23497.0                   2.0  ...      7   17       100123.0\n",
              "2     24       23502.0                   1.0  ...     10   16       100060.0\n",
              "3     42       23520.0                   2.0  ...      6    5       100107.0\n",
              "4     46       23524.0                   2.0  ...      3   21       100060.0\n",
              "\n",
              "[5 rows x 11 columns]"
            ]
          },
          "metadata": {
            "tags": []
          },
          "execution_count": 611
        }
      ]
    },
    {
      "cell_type": "code",
      "metadata": {
        "id": "fFCMods5Dq0-"
      },
      "source": [
        "# making a copy dataframe of original dataframe"
      ],
      "execution_count": null,
      "outputs": []
    },
    {
      "cell_type": "code",
      "metadata": {
        "id": "SobAr6xsDwqN",
        "colab": {
          "base_uri": "https://localhost:8080/"
        },
        "outputId": "12d92ccb-6c4c-46ec-fa14-0eeaf7f0dd3c"
      },
      "source": [
        "dfcp = df\n",
        "dfcp.head()"
      ],
      "execution_count": null,
      "outputs": [
        {
          "output_type": "execute_result",
          "data": {
            "text/html": [
              "<div>\n",
              "<style scoped>\n",
              "    .dataframe tbody tr th:only-of-type {\n",
              "        vertical-align: middle;\n",
              "    }\n",
              "\n",
              "    .dataframe tbody tr th {\n",
              "        vertical-align: top;\n",
              "    }\n",
              "\n",
              "    .dataframe thead th {\n",
              "        text-align: right;\n",
              "    }\n",
              "</style>\n",
              "<table border=\"1\" class=\"dataframe\">\n",
              "  <thead>\n",
              "    <tr style=\"text-align: right;\">\n",
              "      <th></th>\n",
              "      <th>challenge_ID</th>\n",
              "      <th>programming_language</th>\n",
              "      <th>challenge_series_ID</th>\n",
              "      <th>category_id</th>\n",
              "      <th>total_submissions</th>\n",
              "      <th>author_ID</th>\n",
              "      <th>author_gender</th>\n",
              "      <th>author_org_ID</th>\n",
              "      <th>Year</th>\n",
              "      <th>Month</th>\n",
              "      <th>Day</th>\n",
              "    </tr>\n",
              "  </thead>\n",
              "  <tbody>\n",
              "    <tr>\n",
              "      <th>0</th>\n",
              "      <td>23478.0</td>\n",
              "      <td>2.0</td>\n",
              "      <td>2445.0</td>\n",
              "      <td>69.500000</td>\n",
              "      <td>37.0</td>\n",
              "      <td>563576.0</td>\n",
              "      <td>1.0</td>\n",
              "      <td>100001.0</td>\n",
              "      <td>2006.0</td>\n",
              "      <td>6</td>\n",
              "      <td>5</td>\n",
              "    </tr>\n",
              "    <tr>\n",
              "      <th>1</th>\n",
              "      <td>23479.0</td>\n",
              "      <td>2.0</td>\n",
              "      <td>2435.0</td>\n",
              "      <td>32.000000</td>\n",
              "      <td>48.0</td>\n",
              "      <td>563577.0</td>\n",
              "      <td>1.0</td>\n",
              "      <td>100002.0</td>\n",
              "      <td>2002.0</td>\n",
              "      <td>10</td>\n",
              "      <td>17</td>\n",
              "    </tr>\n",
              "    <tr>\n",
              "      <th>2</th>\n",
              "      <td>23480.0</td>\n",
              "      <td>1.0</td>\n",
              "      <td>2435.0</td>\n",
              "      <td>40.777778</td>\n",
              "      <td>15.0</td>\n",
              "      <td>563578.0</td>\n",
              "      <td>1.0</td>\n",
              "      <td>100003.0</td>\n",
              "      <td>2002.0</td>\n",
              "      <td>10</td>\n",
              "      <td>16</td>\n",
              "    </tr>\n",
              "    <tr>\n",
              "      <th>3</th>\n",
              "      <td>23481.0</td>\n",
              "      <td>1.0</td>\n",
              "      <td>2710.0</td>\n",
              "      <td>70.000000</td>\n",
              "      <td>236.0</td>\n",
              "      <td>563579.0</td>\n",
              "      <td>1.0</td>\n",
              "      <td>100004.0</td>\n",
              "      <td>2003.0</td>\n",
              "      <td>9</td>\n",
              "      <td>19</td>\n",
              "    </tr>\n",
              "    <tr>\n",
              "      <th>4</th>\n",
              "      <td>23482.0</td>\n",
              "      <td>2.0</td>\n",
              "      <td>2440.0</td>\n",
              "      <td>61.400000</td>\n",
              "      <td>137.0</td>\n",
              "      <td>563580.0</td>\n",
              "      <td>1.0</td>\n",
              "      <td>100005.0</td>\n",
              "      <td>2002.0</td>\n",
              "      <td>3</td>\n",
              "      <td>21</td>\n",
              "    </tr>\n",
              "  </tbody>\n",
              "</table>\n",
              "</div>"
            ],
            "text/plain": [
              "   challenge_ID  programming_language  challenge_series_ID  ...    Year  Month  Day\n",
              "0       23478.0                   2.0               2445.0  ...  2006.0      6    5\n",
              "1       23479.0                   2.0               2435.0  ...  2002.0     10   17\n",
              "2       23480.0                   1.0               2435.0  ...  2002.0     10   16\n",
              "3       23481.0                   1.0               2710.0  ...  2003.0      9   19\n",
              "4       23482.0                   2.0               2440.0  ...  2002.0      3   21\n",
              "\n",
              "[5 rows x 11 columns]"
            ]
          },
          "metadata": {
            "tags": []
          },
          "execution_count": 613
        }
      ]
    },
    {
      "cell_type": "code",
      "metadata": {
        "id": "rnDvxWPnXw-a"
      },
      "source": [
        "#concatenating train and test of author_ID and get the complete dataset."
      ],
      "execution_count": null,
      "outputs": []
    },
    {
      "cell_type": "code",
      "metadata": {
        "id": "GUZ1GpL8DxIl"
      },
      "source": [
        "frames = [train_df2, X_test2]\n",
        "\n",
        "new_auth_id = pd.concat(frames,join='outer',ignore_index=False,copy=True)"
      ],
      "execution_count": null,
      "outputs": []
    },
    {
      "cell_type": "code",
      "metadata": {
        "id": "YMEyBv9iD4Ls"
      },
      "source": [
        "new_auth_id.reset_index(inplace=True)"
      ],
      "execution_count": null,
      "outputs": []
    },
    {
      "cell_type": "code",
      "metadata": {
        "id": "KpsMlAKkEE3h",
        "colab": {
          "base_uri": "https://localhost:8080/"
        },
        "outputId": "1986cfd8-d113-4d26-f725-994eb6cbbc54"
      },
      "source": [
        "new_auth_id.head()"
      ],
      "execution_count": null,
      "outputs": [
        {
          "output_type": "execute_result",
          "data": {
            "text/html": [
              "<div>\n",
              "<style scoped>\n",
              "    .dataframe tbody tr th:only-of-type {\n",
              "        vertical-align: middle;\n",
              "    }\n",
              "\n",
              "    .dataframe tbody tr th {\n",
              "        vertical-align: top;\n",
              "    }\n",
              "\n",
              "    .dataframe thead th {\n",
              "        text-align: right;\n",
              "    }\n",
              "</style>\n",
              "<table border=\"1\" class=\"dataframe\">\n",
              "  <thead>\n",
              "    <tr style=\"text-align: right;\">\n",
              "      <th></th>\n",
              "      <th>level_0</th>\n",
              "      <th>challenge_ID</th>\n",
              "      <th>programming_language</th>\n",
              "      <th>challenge_series_ID</th>\n",
              "      <th>category_id</th>\n",
              "      <th>total_submissions</th>\n",
              "      <th>author_ID</th>\n",
              "      <th>author_gender</th>\n",
              "      <th>Year</th>\n",
              "      <th>Month</th>\n",
              "      <th>Day</th>\n",
              "      <th>index</th>\n",
              "    </tr>\n",
              "  </thead>\n",
              "  <tbody>\n",
              "    <tr>\n",
              "      <th>0</th>\n",
              "      <td>0</td>\n",
              "      <td>23478.0</td>\n",
              "      <td>2.0</td>\n",
              "      <td>2445.0</td>\n",
              "      <td>69.500000</td>\n",
              "      <td>37.0</td>\n",
              "      <td>563576.0</td>\n",
              "      <td>1.0</td>\n",
              "      <td>2006.0</td>\n",
              "      <td>6</td>\n",
              "      <td>5</td>\n",
              "      <td>NaN</td>\n",
              "    </tr>\n",
              "    <tr>\n",
              "      <th>1</th>\n",
              "      <td>1</td>\n",
              "      <td>23479.0</td>\n",
              "      <td>2.0</td>\n",
              "      <td>2435.0</td>\n",
              "      <td>32.000000</td>\n",
              "      <td>48.0</td>\n",
              "      <td>563577.0</td>\n",
              "      <td>1.0</td>\n",
              "      <td>2002.0</td>\n",
              "      <td>10</td>\n",
              "      <td>17</td>\n",
              "      <td>NaN</td>\n",
              "    </tr>\n",
              "    <tr>\n",
              "      <th>2</th>\n",
              "      <td>2</td>\n",
              "      <td>23480.0</td>\n",
              "      <td>1.0</td>\n",
              "      <td>2435.0</td>\n",
              "      <td>40.777778</td>\n",
              "      <td>15.0</td>\n",
              "      <td>563578.0</td>\n",
              "      <td>1.0</td>\n",
              "      <td>2002.0</td>\n",
              "      <td>10</td>\n",
              "      <td>16</td>\n",
              "      <td>NaN</td>\n",
              "    </tr>\n",
              "    <tr>\n",
              "      <th>3</th>\n",
              "      <td>3</td>\n",
              "      <td>23481.0</td>\n",
              "      <td>1.0</td>\n",
              "      <td>2710.0</td>\n",
              "      <td>70.000000</td>\n",
              "      <td>236.0</td>\n",
              "      <td>563579.0</td>\n",
              "      <td>1.0</td>\n",
              "      <td>2003.0</td>\n",
              "      <td>9</td>\n",
              "      <td>19</td>\n",
              "      <td>NaN</td>\n",
              "    </tr>\n",
              "    <tr>\n",
              "      <th>4</th>\n",
              "      <td>4</td>\n",
              "      <td>23482.0</td>\n",
              "      <td>2.0</td>\n",
              "      <td>2440.0</td>\n",
              "      <td>61.400000</td>\n",
              "      <td>137.0</td>\n",
              "      <td>563580.0</td>\n",
              "      <td>1.0</td>\n",
              "      <td>2002.0</td>\n",
              "      <td>3</td>\n",
              "      <td>21</td>\n",
              "      <td>NaN</td>\n",
              "    </tr>\n",
              "  </tbody>\n",
              "</table>\n",
              "</div>"
            ],
            "text/plain": [
              "   level_0  challenge_ID  programming_language  ...  Month  Day  index\n",
              "0        0       23478.0                   2.0  ...      6    5    NaN\n",
              "1        1       23479.0                   2.0  ...     10   17    NaN\n",
              "2        2       23480.0                   1.0  ...     10   16    NaN\n",
              "3        3       23481.0                   1.0  ...      9   19    NaN\n",
              "4        4       23482.0                   2.0  ...      3   21    NaN\n",
              "\n",
              "[5 rows x 12 columns]"
            ]
          },
          "metadata": {
            "tags": []
          },
          "execution_count": 617
        }
      ]
    },
    {
      "cell_type": "code",
      "metadata": {
        "id": "6mnabKggEGHs"
      },
      "source": [
        "new_auth_id.drop([\"index\",\"level_0\"],axis=1,inplace=True)"
      ],
      "execution_count": null,
      "outputs": []
    },
    {
      "cell_type": "code",
      "metadata": {
        "id": "m-yoxUWiEZz7"
      },
      "source": [
        "new_auth_id = new_auth_id[['challenge_ID','author_ID']]"
      ],
      "execution_count": null,
      "outputs": []
    },
    {
      "cell_type": "code",
      "metadata": {
        "id": "MWDTQR-uEfWf"
      },
      "source": [
        "new_auth_id.set_index('challenge_ID',inplace=True)"
      ],
      "execution_count": null,
      "outputs": []
    },
    {
      "cell_type": "code",
      "metadata": {
        "id": "uNZy9Cn0EmMN",
        "colab": {
          "base_uri": "https://localhost:8080/"
        },
        "outputId": "75664bae-5b1c-49d7-8c33-8c04ef440b15"
      },
      "source": [
        "new_auth_id.head()"
      ],
      "execution_count": null,
      "outputs": [
        {
          "output_type": "execute_result",
          "data": {
            "text/html": [
              "<div>\n",
              "<style scoped>\n",
              "    .dataframe tbody tr th:only-of-type {\n",
              "        vertical-align: middle;\n",
              "    }\n",
              "\n",
              "    .dataframe tbody tr th {\n",
              "        vertical-align: top;\n",
              "    }\n",
              "\n",
              "    .dataframe thead th {\n",
              "        text-align: right;\n",
              "    }\n",
              "</style>\n",
              "<table border=\"1\" class=\"dataframe\">\n",
              "  <thead>\n",
              "    <tr style=\"text-align: right;\">\n",
              "      <th></th>\n",
              "      <th>author_ID</th>\n",
              "    </tr>\n",
              "    <tr>\n",
              "      <th>challenge_ID</th>\n",
              "      <th></th>\n",
              "    </tr>\n",
              "  </thead>\n",
              "  <tbody>\n",
              "    <tr>\n",
              "      <th>23478.0</th>\n",
              "      <td>563576.0</td>\n",
              "    </tr>\n",
              "    <tr>\n",
              "      <th>23479.0</th>\n",
              "      <td>563577.0</td>\n",
              "    </tr>\n",
              "    <tr>\n",
              "      <th>23480.0</th>\n",
              "      <td>563578.0</td>\n",
              "    </tr>\n",
              "    <tr>\n",
              "      <th>23481.0</th>\n",
              "      <td>563579.0</td>\n",
              "    </tr>\n",
              "    <tr>\n",
              "      <th>23482.0</th>\n",
              "      <td>563580.0</td>\n",
              "    </tr>\n",
              "  </tbody>\n",
              "</table>\n",
              "</div>"
            ],
            "text/plain": [
              "              author_ID\n",
              "challenge_ID           \n",
              "23478.0        563576.0\n",
              "23479.0        563577.0\n",
              "23480.0        563578.0\n",
              "23481.0        563579.0\n",
              "23482.0        563580.0"
            ]
          },
          "metadata": {
            "tags": []
          },
          "execution_count": 621
        }
      ]
    },
    {
      "cell_type": "code",
      "metadata": {
        "id": "7HRbTjYSEyqt"
      },
      "source": [
        "# dropping these columns as we will take these columns from our other data set on which we have set index to perform join and place values to their corresponding challenge_ID values in our main dataframe\n",
        "dfcp = dfcp.drop(['author_ID','author_org_ID'],axis=1)"
      ],
      "execution_count": null,
      "outputs": []
    },
    {
      "cell_type": "code",
      "metadata": {
        "id": "5IkP5Pl4E0OT",
        "colab": {
          "base_uri": "https://localhost:8080/"
        },
        "outputId": "7581301b-cf6e-4f02-be0b-3004fb13fd57"
      },
      "source": [
        "dfcp.head()"
      ],
      "execution_count": null,
      "outputs": [
        {
          "output_type": "execute_result",
          "data": {
            "text/html": [
              "<div>\n",
              "<style scoped>\n",
              "    .dataframe tbody tr th:only-of-type {\n",
              "        vertical-align: middle;\n",
              "    }\n",
              "\n",
              "    .dataframe tbody tr th {\n",
              "        vertical-align: top;\n",
              "    }\n",
              "\n",
              "    .dataframe thead th {\n",
              "        text-align: right;\n",
              "    }\n",
              "</style>\n",
              "<table border=\"1\" class=\"dataframe\">\n",
              "  <thead>\n",
              "    <tr style=\"text-align: right;\">\n",
              "      <th></th>\n",
              "      <th>challenge_ID</th>\n",
              "      <th>programming_language</th>\n",
              "      <th>challenge_series_ID</th>\n",
              "      <th>category_id</th>\n",
              "      <th>total_submissions</th>\n",
              "      <th>author_gender</th>\n",
              "      <th>Year</th>\n",
              "      <th>Month</th>\n",
              "      <th>Day</th>\n",
              "    </tr>\n",
              "  </thead>\n",
              "  <tbody>\n",
              "    <tr>\n",
              "      <th>0</th>\n",
              "      <td>23478.0</td>\n",
              "      <td>2.0</td>\n",
              "      <td>2445.0</td>\n",
              "      <td>69.500000</td>\n",
              "      <td>37.0</td>\n",
              "      <td>1.0</td>\n",
              "      <td>2006.0</td>\n",
              "      <td>6</td>\n",
              "      <td>5</td>\n",
              "    </tr>\n",
              "    <tr>\n",
              "      <th>1</th>\n",
              "      <td>23479.0</td>\n",
              "      <td>2.0</td>\n",
              "      <td>2435.0</td>\n",
              "      <td>32.000000</td>\n",
              "      <td>48.0</td>\n",
              "      <td>1.0</td>\n",
              "      <td>2002.0</td>\n",
              "      <td>10</td>\n",
              "      <td>17</td>\n",
              "    </tr>\n",
              "    <tr>\n",
              "      <th>2</th>\n",
              "      <td>23480.0</td>\n",
              "      <td>1.0</td>\n",
              "      <td>2435.0</td>\n",
              "      <td>40.777778</td>\n",
              "      <td>15.0</td>\n",
              "      <td>1.0</td>\n",
              "      <td>2002.0</td>\n",
              "      <td>10</td>\n",
              "      <td>16</td>\n",
              "    </tr>\n",
              "    <tr>\n",
              "      <th>3</th>\n",
              "      <td>23481.0</td>\n",
              "      <td>1.0</td>\n",
              "      <td>2710.0</td>\n",
              "      <td>70.000000</td>\n",
              "      <td>236.0</td>\n",
              "      <td>1.0</td>\n",
              "      <td>2003.0</td>\n",
              "      <td>9</td>\n",
              "      <td>19</td>\n",
              "    </tr>\n",
              "    <tr>\n",
              "      <th>4</th>\n",
              "      <td>23482.0</td>\n",
              "      <td>2.0</td>\n",
              "      <td>2440.0</td>\n",
              "      <td>61.400000</td>\n",
              "      <td>137.0</td>\n",
              "      <td>1.0</td>\n",
              "      <td>2002.0</td>\n",
              "      <td>3</td>\n",
              "      <td>21</td>\n",
              "    </tr>\n",
              "  </tbody>\n",
              "</table>\n",
              "</div>"
            ],
            "text/plain": [
              "   challenge_ID  programming_language  challenge_series_ID  ...    Year  Month  Day\n",
              "0       23478.0                   2.0               2445.0  ...  2006.0      6    5\n",
              "1       23479.0                   2.0               2435.0  ...  2002.0     10   17\n",
              "2       23480.0                   1.0               2435.0  ...  2002.0     10   16\n",
              "3       23481.0                   1.0               2710.0  ...  2003.0      9   19\n",
              "4       23482.0                   2.0               2440.0  ...  2002.0      3   21\n",
              "\n",
              "[5 rows x 9 columns]"
            ]
          },
          "metadata": {
            "tags": []
          },
          "execution_count": 623
        }
      ]
    },
    {
      "cell_type": "code",
      "metadata": {
        "id": "VcURBWBmE3Hk"
      },
      "source": [
        "# joining author_ID values in our main dataframe\n",
        "dfcp = dfcp.join(new_auth_id, on='challenge_ID')"
      ],
      "execution_count": null,
      "outputs": []
    },
    {
      "cell_type": "code",
      "metadata": {
        "id": "9hgQ5e9XE_9U",
        "colab": {
          "base_uri": "https://localhost:8080/"
        },
        "outputId": "8f53cb03-0985-4e95-f87f-4ab921209029"
      },
      "source": [
        "dfcp.head()"
      ],
      "execution_count": null,
      "outputs": [
        {
          "output_type": "execute_result",
          "data": {
            "text/html": [
              "<div>\n",
              "<style scoped>\n",
              "    .dataframe tbody tr th:only-of-type {\n",
              "        vertical-align: middle;\n",
              "    }\n",
              "\n",
              "    .dataframe tbody tr th {\n",
              "        vertical-align: top;\n",
              "    }\n",
              "\n",
              "    .dataframe thead th {\n",
              "        text-align: right;\n",
              "    }\n",
              "</style>\n",
              "<table border=\"1\" class=\"dataframe\">\n",
              "  <thead>\n",
              "    <tr style=\"text-align: right;\">\n",
              "      <th></th>\n",
              "      <th>challenge_ID</th>\n",
              "      <th>programming_language</th>\n",
              "      <th>challenge_series_ID</th>\n",
              "      <th>category_id</th>\n",
              "      <th>total_submissions</th>\n",
              "      <th>author_gender</th>\n",
              "      <th>Year</th>\n",
              "      <th>Month</th>\n",
              "      <th>Day</th>\n",
              "      <th>author_ID</th>\n",
              "    </tr>\n",
              "  </thead>\n",
              "  <tbody>\n",
              "    <tr>\n",
              "      <th>0</th>\n",
              "      <td>23478.0</td>\n",
              "      <td>2.0</td>\n",
              "      <td>2445.0</td>\n",
              "      <td>69.500000</td>\n",
              "      <td>37.0</td>\n",
              "      <td>1.0</td>\n",
              "      <td>2006.0</td>\n",
              "      <td>6</td>\n",
              "      <td>5</td>\n",
              "      <td>563576.0</td>\n",
              "    </tr>\n",
              "    <tr>\n",
              "      <th>1</th>\n",
              "      <td>23479.0</td>\n",
              "      <td>2.0</td>\n",
              "      <td>2435.0</td>\n",
              "      <td>32.000000</td>\n",
              "      <td>48.0</td>\n",
              "      <td>1.0</td>\n",
              "      <td>2002.0</td>\n",
              "      <td>10</td>\n",
              "      <td>17</td>\n",
              "      <td>563577.0</td>\n",
              "    </tr>\n",
              "    <tr>\n",
              "      <th>2</th>\n",
              "      <td>23480.0</td>\n",
              "      <td>1.0</td>\n",
              "      <td>2435.0</td>\n",
              "      <td>40.777778</td>\n",
              "      <td>15.0</td>\n",
              "      <td>1.0</td>\n",
              "      <td>2002.0</td>\n",
              "      <td>10</td>\n",
              "      <td>16</td>\n",
              "      <td>563578.0</td>\n",
              "    </tr>\n",
              "    <tr>\n",
              "      <th>3</th>\n",
              "      <td>23481.0</td>\n",
              "      <td>1.0</td>\n",
              "      <td>2710.0</td>\n",
              "      <td>70.000000</td>\n",
              "      <td>236.0</td>\n",
              "      <td>1.0</td>\n",
              "      <td>2003.0</td>\n",
              "      <td>9</td>\n",
              "      <td>19</td>\n",
              "      <td>563579.0</td>\n",
              "    </tr>\n",
              "    <tr>\n",
              "      <th>4</th>\n",
              "      <td>23482.0</td>\n",
              "      <td>2.0</td>\n",
              "      <td>2440.0</td>\n",
              "      <td>61.400000</td>\n",
              "      <td>137.0</td>\n",
              "      <td>1.0</td>\n",
              "      <td>2002.0</td>\n",
              "      <td>3</td>\n",
              "      <td>21</td>\n",
              "      <td>563580.0</td>\n",
              "    </tr>\n",
              "  </tbody>\n",
              "</table>\n",
              "</div>"
            ],
            "text/plain": [
              "   challenge_ID  programming_language  ...  Day  author_ID\n",
              "0       23478.0                   2.0  ...    5   563576.0\n",
              "1       23479.0                   2.0  ...   17   563577.0\n",
              "2       23480.0                   1.0  ...   16   563578.0\n",
              "3       23481.0                   1.0  ...   19   563579.0\n",
              "4       23482.0                   2.0  ...   21   563580.0\n",
              "\n",
              "[5 rows x 10 columns]"
            ]
          },
          "metadata": {
            "tags": []
          },
          "execution_count": 625
        }
      ]
    },
    {
      "cell_type": "code",
      "metadata": {
        "id": "20tu_zMQFQO8"
      },
      "source": [
        ""
      ],
      "execution_count": null,
      "outputs": []
    },
    {
      "cell_type": "code",
      "metadata": {
        "id": "bsHSrSEQFhD8"
      },
      "source": [
        "#concatenating train and test of author_org_ID and get the complete dataset."
      ],
      "execution_count": null,
      "outputs": []
    },
    {
      "cell_type": "code",
      "metadata": {
        "id": "epmGBrmUFhU_"
      },
      "source": [
        "frames = [train_df, X_test]\n",
        "\n",
        "new_auth_org_id = pd.concat(frames,join='outer',ignore_index=False,copy=True)"
      ],
      "execution_count": null,
      "outputs": []
    },
    {
      "cell_type": "code",
      "metadata": {
        "id": "f45Vl_NTFkVt"
      },
      "source": [
        "new_auth_org_id.reset_index(inplace=True)"
      ],
      "execution_count": null,
      "outputs": []
    },
    {
      "cell_type": "code",
      "metadata": {
        "id": "nHu04BDzFqxT"
      },
      "source": [
        "new_auth_org_id.drop(['index','level_0'],inplace=True,axis=1)"
      ],
      "execution_count": null,
      "outputs": []
    },
    {
      "cell_type": "code",
      "metadata": {
        "id": "te0eeDA3FxTs",
        "colab": {
          "base_uri": "https://localhost:8080/"
        },
        "outputId": "cb78548f-30b5-4c43-dc9c-3594b51856fe"
      },
      "source": [
        "new_auth_org_id.head()"
      ],
      "execution_count": null,
      "outputs": [
        {
          "output_type": "execute_result",
          "data": {
            "text/html": [
              "<div>\n",
              "<style scoped>\n",
              "    .dataframe tbody tr th:only-of-type {\n",
              "        vertical-align: middle;\n",
              "    }\n",
              "\n",
              "    .dataframe tbody tr th {\n",
              "        vertical-align: top;\n",
              "    }\n",
              "\n",
              "    .dataframe thead th {\n",
              "        text-align: right;\n",
              "    }\n",
              "</style>\n",
              "<table border=\"1\" class=\"dataframe\">\n",
              "  <thead>\n",
              "    <tr style=\"text-align: right;\">\n",
              "      <th></th>\n",
              "      <th>challenge_ID</th>\n",
              "      <th>programming_language</th>\n",
              "      <th>challenge_series_ID</th>\n",
              "      <th>category_id</th>\n",
              "      <th>total_submissions</th>\n",
              "      <th>author_gender</th>\n",
              "      <th>author_org_ID</th>\n",
              "      <th>Year</th>\n",
              "      <th>Month</th>\n",
              "      <th>Day</th>\n",
              "    </tr>\n",
              "  </thead>\n",
              "  <tbody>\n",
              "    <tr>\n",
              "      <th>0</th>\n",
              "      <td>23478.0</td>\n",
              "      <td>2.0</td>\n",
              "      <td>2445.0</td>\n",
              "      <td>69.500000</td>\n",
              "      <td>37.0</td>\n",
              "      <td>1.0</td>\n",
              "      <td>100001.0</td>\n",
              "      <td>2006.0</td>\n",
              "      <td>6</td>\n",
              "      <td>5</td>\n",
              "    </tr>\n",
              "    <tr>\n",
              "      <th>1</th>\n",
              "      <td>23479.0</td>\n",
              "      <td>2.0</td>\n",
              "      <td>2435.0</td>\n",
              "      <td>32.000000</td>\n",
              "      <td>48.0</td>\n",
              "      <td>1.0</td>\n",
              "      <td>100002.0</td>\n",
              "      <td>2002.0</td>\n",
              "      <td>10</td>\n",
              "      <td>17</td>\n",
              "    </tr>\n",
              "    <tr>\n",
              "      <th>2</th>\n",
              "      <td>23480.0</td>\n",
              "      <td>1.0</td>\n",
              "      <td>2435.0</td>\n",
              "      <td>40.777778</td>\n",
              "      <td>15.0</td>\n",
              "      <td>1.0</td>\n",
              "      <td>100003.0</td>\n",
              "      <td>2002.0</td>\n",
              "      <td>10</td>\n",
              "      <td>16</td>\n",
              "    </tr>\n",
              "    <tr>\n",
              "      <th>3</th>\n",
              "      <td>23481.0</td>\n",
              "      <td>1.0</td>\n",
              "      <td>2710.0</td>\n",
              "      <td>70.000000</td>\n",
              "      <td>236.0</td>\n",
              "      <td>1.0</td>\n",
              "      <td>100004.0</td>\n",
              "      <td>2003.0</td>\n",
              "      <td>9</td>\n",
              "      <td>19</td>\n",
              "    </tr>\n",
              "    <tr>\n",
              "      <th>4</th>\n",
              "      <td>23482.0</td>\n",
              "      <td>2.0</td>\n",
              "      <td>2440.0</td>\n",
              "      <td>61.400000</td>\n",
              "      <td>137.0</td>\n",
              "      <td>1.0</td>\n",
              "      <td>100005.0</td>\n",
              "      <td>2002.0</td>\n",
              "      <td>3</td>\n",
              "      <td>21</td>\n",
              "    </tr>\n",
              "  </tbody>\n",
              "</table>\n",
              "</div>"
            ],
            "text/plain": [
              "   challenge_ID  programming_language  challenge_series_ID  ...    Year  Month  Day\n",
              "0       23478.0                   2.0               2445.0  ...  2006.0      6    5\n",
              "1       23479.0                   2.0               2435.0  ...  2002.0     10   17\n",
              "2       23480.0                   1.0               2435.0  ...  2002.0     10   16\n",
              "3       23481.0                   1.0               2710.0  ...  2003.0      9   19\n",
              "4       23482.0                   2.0               2440.0  ...  2002.0      3   21\n",
              "\n",
              "[5 rows x 10 columns]"
            ]
          },
          "metadata": {
            "tags": []
          },
          "execution_count": 630
        }
      ]
    },
    {
      "cell_type": "code",
      "metadata": {
        "id": "bsF9l7RWFyid"
      },
      "source": [
        "new_auth_org_id = new_auth_org_id[['challenge_ID','author_org_ID']]"
      ],
      "execution_count": null,
      "outputs": []
    },
    {
      "cell_type": "code",
      "metadata": {
        "id": "mfUO-5NAF8BM",
        "colab": {
          "base_uri": "https://localhost:8080/"
        },
        "outputId": "5ab17e17-375b-45e4-91cd-65690160729b"
      },
      "source": [
        "new_auth_org_id.set_index('challenge_ID')"
      ],
      "execution_count": null,
      "outputs": [
        {
          "output_type": "execute_result",
          "data": {
            "text/html": [
              "<div>\n",
              "<style scoped>\n",
              "    .dataframe tbody tr th:only-of-type {\n",
              "        vertical-align: middle;\n",
              "    }\n",
              "\n",
              "    .dataframe tbody tr th {\n",
              "        vertical-align: top;\n",
              "    }\n",
              "\n",
              "    .dataframe thead th {\n",
              "        text-align: right;\n",
              "    }\n",
              "</style>\n",
              "<table border=\"1\" class=\"dataframe\">\n",
              "  <thead>\n",
              "    <tr style=\"text-align: right;\">\n",
              "      <th></th>\n",
              "      <th>author_org_ID</th>\n",
              "    </tr>\n",
              "    <tr>\n",
              "      <th>challenge_ID</th>\n",
              "      <th></th>\n",
              "    </tr>\n",
              "  </thead>\n",
              "  <tbody>\n",
              "    <tr>\n",
              "      <th>23478.0</th>\n",
              "      <td>100001.0</td>\n",
              "    </tr>\n",
              "    <tr>\n",
              "      <th>23479.0</th>\n",
              "      <td>100002.0</td>\n",
              "    </tr>\n",
              "    <tr>\n",
              "      <th>23480.0</th>\n",
              "      <td>100003.0</td>\n",
              "    </tr>\n",
              "    <tr>\n",
              "      <th>23481.0</th>\n",
              "      <td>100004.0</td>\n",
              "    </tr>\n",
              "    <tr>\n",
              "      <th>23482.0</th>\n",
              "      <td>100005.0</td>\n",
              "    </tr>\n",
              "    <tr>\n",
              "      <th>...</th>\n",
              "      <td>...</td>\n",
              "    </tr>\n",
              "    <tr>\n",
              "      <th>28271.0</th>\n",
              "      <td>100679.0</td>\n",
              "    </tr>\n",
              "    <tr>\n",
              "      <th>28276.0</th>\n",
              "      <td>100988.0</td>\n",
              "    </tr>\n",
              "    <tr>\n",
              "      <th>28566.0</th>\n",
              "      <td>101017.0</td>\n",
              "    </tr>\n",
              "    <tr>\n",
              "      <th>28688.0</th>\n",
              "      <td>100745.0</td>\n",
              "    </tr>\n",
              "    <tr>\n",
              "      <th>29027.0</th>\n",
              "      <td>101596.0</td>\n",
              "    </tr>\n",
              "  </tbody>\n",
              "</table>\n",
              "<p>5348 rows × 1 columns</p>\n",
              "</div>"
            ],
            "text/plain": [
              "              author_org_ID\n",
              "challenge_ID               \n",
              "23478.0            100001.0\n",
              "23479.0            100002.0\n",
              "23480.0            100003.0\n",
              "23481.0            100004.0\n",
              "23482.0            100005.0\n",
              "...                     ...\n",
              "28271.0            100679.0\n",
              "28276.0            100988.0\n",
              "28566.0            101017.0\n",
              "28688.0            100745.0\n",
              "29027.0            101596.0\n",
              "\n",
              "[5348 rows x 1 columns]"
            ]
          },
          "metadata": {
            "tags": []
          },
          "execution_count": 632
        }
      ]
    },
    {
      "cell_type": "code",
      "metadata": {
        "id": "LB-4De1VF-th"
      },
      "source": [
        "# Merging author_org_ID values in our main dataframe\n",
        "dfcp = dfcp.merge(new_auth_org_id, on='challenge_ID')"
      ],
      "execution_count": null,
      "outputs": []
    },
    {
      "cell_type": "code",
      "metadata": {
        "id": "Hhch2usVGIUE",
        "colab": {
          "base_uri": "https://localhost:8080/"
        },
        "outputId": "caca9b35-e2b9-475b-eea2-406c40e623f2"
      },
      "source": [
        "dfcp.head()"
      ],
      "execution_count": null,
      "outputs": [
        {
          "output_type": "execute_result",
          "data": {
            "text/html": [
              "<div>\n",
              "<style scoped>\n",
              "    .dataframe tbody tr th:only-of-type {\n",
              "        vertical-align: middle;\n",
              "    }\n",
              "\n",
              "    .dataframe tbody tr th {\n",
              "        vertical-align: top;\n",
              "    }\n",
              "\n",
              "    .dataframe thead th {\n",
              "        text-align: right;\n",
              "    }\n",
              "</style>\n",
              "<table border=\"1\" class=\"dataframe\">\n",
              "  <thead>\n",
              "    <tr style=\"text-align: right;\">\n",
              "      <th></th>\n",
              "      <th>challenge_ID</th>\n",
              "      <th>programming_language</th>\n",
              "      <th>challenge_series_ID</th>\n",
              "      <th>category_id</th>\n",
              "      <th>total_submissions</th>\n",
              "      <th>author_gender</th>\n",
              "      <th>Year</th>\n",
              "      <th>Month</th>\n",
              "      <th>Day</th>\n",
              "      <th>author_ID</th>\n",
              "      <th>author_org_ID</th>\n",
              "    </tr>\n",
              "  </thead>\n",
              "  <tbody>\n",
              "    <tr>\n",
              "      <th>0</th>\n",
              "      <td>23478.0</td>\n",
              "      <td>2.0</td>\n",
              "      <td>2445.0</td>\n",
              "      <td>69.500000</td>\n",
              "      <td>37.0</td>\n",
              "      <td>1.0</td>\n",
              "      <td>2006.0</td>\n",
              "      <td>6</td>\n",
              "      <td>5</td>\n",
              "      <td>563576.0</td>\n",
              "      <td>100001.0</td>\n",
              "    </tr>\n",
              "    <tr>\n",
              "      <th>1</th>\n",
              "      <td>23479.0</td>\n",
              "      <td>2.0</td>\n",
              "      <td>2435.0</td>\n",
              "      <td>32.000000</td>\n",
              "      <td>48.0</td>\n",
              "      <td>1.0</td>\n",
              "      <td>2002.0</td>\n",
              "      <td>10</td>\n",
              "      <td>17</td>\n",
              "      <td>563577.0</td>\n",
              "      <td>100002.0</td>\n",
              "    </tr>\n",
              "    <tr>\n",
              "      <th>2</th>\n",
              "      <td>23480.0</td>\n",
              "      <td>1.0</td>\n",
              "      <td>2435.0</td>\n",
              "      <td>40.777778</td>\n",
              "      <td>15.0</td>\n",
              "      <td>1.0</td>\n",
              "      <td>2002.0</td>\n",
              "      <td>10</td>\n",
              "      <td>16</td>\n",
              "      <td>563578.0</td>\n",
              "      <td>100003.0</td>\n",
              "    </tr>\n",
              "    <tr>\n",
              "      <th>3</th>\n",
              "      <td>23481.0</td>\n",
              "      <td>1.0</td>\n",
              "      <td>2710.0</td>\n",
              "      <td>70.000000</td>\n",
              "      <td>236.0</td>\n",
              "      <td>1.0</td>\n",
              "      <td>2003.0</td>\n",
              "      <td>9</td>\n",
              "      <td>19</td>\n",
              "      <td>563579.0</td>\n",
              "      <td>100004.0</td>\n",
              "    </tr>\n",
              "    <tr>\n",
              "      <th>4</th>\n",
              "      <td>23482.0</td>\n",
              "      <td>2.0</td>\n",
              "      <td>2440.0</td>\n",
              "      <td>61.400000</td>\n",
              "      <td>137.0</td>\n",
              "      <td>1.0</td>\n",
              "      <td>2002.0</td>\n",
              "      <td>3</td>\n",
              "      <td>21</td>\n",
              "      <td>563580.0</td>\n",
              "      <td>100005.0</td>\n",
              "    </tr>\n",
              "  </tbody>\n",
              "</table>\n",
              "</div>"
            ],
            "text/plain": [
              "   challenge_ID  programming_language  ...  author_ID  author_org_ID\n",
              "0       23478.0                   2.0  ...   563576.0       100001.0\n",
              "1       23479.0                   2.0  ...   563577.0       100002.0\n",
              "2       23480.0                   1.0  ...   563578.0       100003.0\n",
              "3       23481.0                   1.0  ...   563579.0       100004.0\n",
              "4       23482.0                   2.0  ...   563580.0       100005.0\n",
              "\n",
              "[5 rows x 11 columns]"
            ]
          },
          "metadata": {
            "tags": []
          },
          "execution_count": 634
        }
      ]
    },
    {
      "cell_type": "code",
      "metadata": {
        "id": "HBBDXCSAZ5mk"
      },
      "source": [
        "# Checking that values are filled to their propre places"
      ],
      "execution_count": null,
      "outputs": []
    },
    {
      "cell_type": "code",
      "metadata": {
        "id": "4PTonHABS8Qk",
        "colab": {
          "base_uri": "https://localhost:8080/"
        },
        "outputId": "a5edd65d-7478-480a-a9bb-1ff5c921eb6f"
      },
      "source": [
        "df[df['author_ID'].isnull()].index"
      ],
      "execution_count": null,
      "outputs": [
        {
          "output_type": "execute_result",
          "data": {
            "text/plain": [
              "Int64Index([   5,   19,   42,  135,  305,  360,  531,  582,  784,  845, 1087,\n",
              "            1199, 1300, 1347, 1361, 1570, 1631, 1632, 1667, 1699, 1749, 2347,\n",
              "            2631, 2642, 2650, 2756, 2923, 2931, 2944, 2949, 3164, 3644, 3785,\n",
              "            3932, 4356, 4552, 4559, 4912, 5242],\n",
              "           dtype='int64')"
            ]
          },
          "metadata": {
            "tags": []
          },
          "execution_count": 636
        }
      ]
    },
    {
      "cell_type": "code",
      "metadata": {
        "id": "7xGpTCafGYDh",
        "colab": {
          "base_uri": "https://localhost:8080/"
        },
        "outputId": "5a6f4f46-c925-4fdf-93b7-87d37f76e5f4"
      },
      "source": [
        "df.iloc[18]"
      ],
      "execution_count": null,
      "outputs": [
        {
          "output_type": "execute_result",
          "data": {
            "text/plain": [
              "challenge_ID            23497.0\n",
              "programming_language        2.0\n",
              "challenge_series_ID      2442.0\n",
              "category_id                70.0\n",
              "total_submissions         195.0\n",
              "author_ID                   NaN\n",
              "author_gender               1.0\n",
              "author_org_ID               NaN\n",
              "Year                     2006.0\n",
              "Month                       7.0\n",
              "Day                        17.0\n",
              "Name: 19, dtype: float64"
            ]
          },
          "metadata": {
            "tags": []
          },
          "execution_count": 637
        }
      ]
    },
    {
      "cell_type": "code",
      "metadata": {
        "id": "dnTH5FPgGKrQ",
        "colab": {
          "base_uri": "https://localhost:8080/"
        },
        "outputId": "91b6e9b8-c0ac-40c7-ee75-4462d173ecf2"
      },
      "source": [
        "dfcp.iloc[18]"
      ],
      "execution_count": null,
      "outputs": [
        {
          "output_type": "execute_result",
          "data": {
            "text/plain": [
              "challenge_ID             23497.0\n",
              "programming_language         2.0\n",
              "challenge_series_ID       2442.0\n",
              "category_id                 70.0\n",
              "total_submissions          195.0\n",
              "author_gender                1.0\n",
              "Year                      2006.0\n",
              "Month                        7.0\n",
              "Day                         17.0\n",
              "author_ID               563695.0\n",
              "author_org_ID           100123.0\n",
              "Name: 18, dtype: float64"
            ]
          },
          "metadata": {
            "tags": []
          },
          "execution_count": 638
        }
      ]
    },
    {
      "cell_type": "code",
      "metadata": {
        "id": "D5k9PRMFGcU0",
        "colab": {
          "base_uri": "https://localhost:8080/"
        },
        "outputId": "4276c57c-aec4-427e-d69e-ca6b11ce9ee5"
      },
      "source": [
        "dfcp[dfcp['challenge_ID']==23497.0]"
      ],
      "execution_count": null,
      "outputs": [
        {
          "output_type": "execute_result",
          "data": {
            "text/html": [
              "<div>\n",
              "<style scoped>\n",
              "    .dataframe tbody tr th:only-of-type {\n",
              "        vertical-align: middle;\n",
              "    }\n",
              "\n",
              "    .dataframe tbody tr th {\n",
              "        vertical-align: top;\n",
              "    }\n",
              "\n",
              "    .dataframe thead th {\n",
              "        text-align: right;\n",
              "    }\n",
              "</style>\n",
              "<table border=\"1\" class=\"dataframe\">\n",
              "  <thead>\n",
              "    <tr style=\"text-align: right;\">\n",
              "      <th></th>\n",
              "      <th>challenge_ID</th>\n",
              "      <th>programming_language</th>\n",
              "      <th>challenge_series_ID</th>\n",
              "      <th>category_id</th>\n",
              "      <th>total_submissions</th>\n",
              "      <th>author_gender</th>\n",
              "      <th>Year</th>\n",
              "      <th>Month</th>\n",
              "      <th>Day</th>\n",
              "      <th>author_ID</th>\n",
              "      <th>author_org_ID</th>\n",
              "    </tr>\n",
              "  </thead>\n",
              "  <tbody>\n",
              "    <tr>\n",
              "      <th>18</th>\n",
              "      <td>23497.0</td>\n",
              "      <td>2.0</td>\n",
              "      <td>2442.0</td>\n",
              "      <td>70.0</td>\n",
              "      <td>195.0</td>\n",
              "      <td>1.0</td>\n",
              "      <td>2006.0</td>\n",
              "      <td>7</td>\n",
              "      <td>17</td>\n",
              "      <td>563695.0</td>\n",
              "      <td>100123.0</td>\n",
              "    </tr>\n",
              "  </tbody>\n",
              "</table>\n",
              "</div>"
            ],
            "text/plain": [
              "    challenge_ID  programming_language  ...  author_ID  author_org_ID\n",
              "18       23497.0                   2.0  ...   563695.0       100123.0\n",
              "\n",
              "[1 rows x 11 columns]"
            ]
          },
          "metadata": {
            "tags": []
          },
          "execution_count": 639
        }
      ]
    },
    {
      "cell_type": "code",
      "metadata": {
        "id": "dY4PL2LvKQ01",
        "colab": {
          "base_uri": "https://localhost:8080/"
        },
        "outputId": "60e82033-ddc0-40c4-d61a-2265e64f0bc1"
      },
      "source": [
        "dfcp.head()"
      ],
      "execution_count": null,
      "outputs": [
        {
          "output_type": "execute_result",
          "data": {
            "text/html": [
              "<div>\n",
              "<style scoped>\n",
              "    .dataframe tbody tr th:only-of-type {\n",
              "        vertical-align: middle;\n",
              "    }\n",
              "\n",
              "    .dataframe tbody tr th {\n",
              "        vertical-align: top;\n",
              "    }\n",
              "\n",
              "    .dataframe thead th {\n",
              "        text-align: right;\n",
              "    }\n",
              "</style>\n",
              "<table border=\"1\" class=\"dataframe\">\n",
              "  <thead>\n",
              "    <tr style=\"text-align: right;\">\n",
              "      <th></th>\n",
              "      <th>challenge_ID</th>\n",
              "      <th>programming_language</th>\n",
              "      <th>challenge_series_ID</th>\n",
              "      <th>category_id</th>\n",
              "      <th>total_submissions</th>\n",
              "      <th>author_gender</th>\n",
              "      <th>Year</th>\n",
              "      <th>Month</th>\n",
              "      <th>Day</th>\n",
              "      <th>author_ID</th>\n",
              "      <th>author_org_ID</th>\n",
              "    </tr>\n",
              "  </thead>\n",
              "  <tbody>\n",
              "    <tr>\n",
              "      <th>0</th>\n",
              "      <td>23478.0</td>\n",
              "      <td>2.0</td>\n",
              "      <td>2445.0</td>\n",
              "      <td>69.500000</td>\n",
              "      <td>37.0</td>\n",
              "      <td>1.0</td>\n",
              "      <td>2006.0</td>\n",
              "      <td>6</td>\n",
              "      <td>5</td>\n",
              "      <td>563576.0</td>\n",
              "      <td>100001.0</td>\n",
              "    </tr>\n",
              "    <tr>\n",
              "      <th>1</th>\n",
              "      <td>23479.0</td>\n",
              "      <td>2.0</td>\n",
              "      <td>2435.0</td>\n",
              "      <td>32.000000</td>\n",
              "      <td>48.0</td>\n",
              "      <td>1.0</td>\n",
              "      <td>2002.0</td>\n",
              "      <td>10</td>\n",
              "      <td>17</td>\n",
              "      <td>563577.0</td>\n",
              "      <td>100002.0</td>\n",
              "    </tr>\n",
              "    <tr>\n",
              "      <th>2</th>\n",
              "      <td>23480.0</td>\n",
              "      <td>1.0</td>\n",
              "      <td>2435.0</td>\n",
              "      <td>40.777778</td>\n",
              "      <td>15.0</td>\n",
              "      <td>1.0</td>\n",
              "      <td>2002.0</td>\n",
              "      <td>10</td>\n",
              "      <td>16</td>\n",
              "      <td>563578.0</td>\n",
              "      <td>100003.0</td>\n",
              "    </tr>\n",
              "    <tr>\n",
              "      <th>3</th>\n",
              "      <td>23481.0</td>\n",
              "      <td>1.0</td>\n",
              "      <td>2710.0</td>\n",
              "      <td>70.000000</td>\n",
              "      <td>236.0</td>\n",
              "      <td>1.0</td>\n",
              "      <td>2003.0</td>\n",
              "      <td>9</td>\n",
              "      <td>19</td>\n",
              "      <td>563579.0</td>\n",
              "      <td>100004.0</td>\n",
              "    </tr>\n",
              "    <tr>\n",
              "      <th>4</th>\n",
              "      <td>23482.0</td>\n",
              "      <td>2.0</td>\n",
              "      <td>2440.0</td>\n",
              "      <td>61.400000</td>\n",
              "      <td>137.0</td>\n",
              "      <td>1.0</td>\n",
              "      <td>2002.0</td>\n",
              "      <td>3</td>\n",
              "      <td>21</td>\n",
              "      <td>563580.0</td>\n",
              "      <td>100005.0</td>\n",
              "    </tr>\n",
              "  </tbody>\n",
              "</table>\n",
              "</div>"
            ],
            "text/plain": [
              "   challenge_ID  programming_language  ...  author_ID  author_org_ID\n",
              "0       23478.0                   2.0  ...   563576.0       100001.0\n",
              "1       23479.0                   2.0  ...   563577.0       100002.0\n",
              "2       23480.0                   1.0  ...   563578.0       100003.0\n",
              "3       23481.0                   1.0  ...   563579.0       100004.0\n",
              "4       23482.0                   2.0  ...   563580.0       100005.0\n",
              "\n",
              "[5 rows x 11 columns]"
            ]
          },
          "metadata": {
            "tags": []
          },
          "execution_count": 640
        }
      ]
    },
    {
      "cell_type": "code",
      "metadata": {
        "id": "pddry65mMbaA"
      },
      "source": [
        "# Adding all the original format of the data set back to it"
      ],
      "execution_count": null,
      "outputs": []
    },
    {
      "cell_type": "code",
      "metadata": {
        "id": "tolsKW_6HDb6"
      },
      "source": [
        "dfcp['challenge_ID'] = 'CI' + dfcp['challenge_ID'].astype(str)\n",
        "dfcp['challenge_series_ID'] = 'SI' + dfcp['challenge_series_ID'].astype(str)\n",
        "dfcp['author_ID'] = 'AI' + dfcp['author_ID'].astype(str)\n",
        "dfcp['author_org_ID'] = 'AOI' + dfcp['author_org_ID'].astype(str)"
      ],
      "execution_count": null,
      "outputs": []
    },
    {
      "cell_type": "code",
      "metadata": {
        "id": "voZqTGumLYaR"
      },
      "source": [
        "dfcp[['author_gender']] = dfcp[['author_gender']].astype(str)\n",
        "dfcp['author_gender']= dfcp['author_gender'].replace('1.0', 'M')\n",
        "dfcp['author_gender']= dfcp['author_gender'].replace('0.0', 'F')"
      ],
      "execution_count": null,
      "outputs": []
    },
    {
      "cell_type": "code",
      "metadata": {
        "id": "i17o8gdHKnFG",
        "colab": {
          "base_uri": "https://localhost:8080/"
        },
        "outputId": "731fc728-ffba-4866-8c82-7aff3da8e9e6"
      },
      "source": [
        "dfcp.head(10)"
      ],
      "execution_count": null,
      "outputs": [
        {
          "output_type": "execute_result",
          "data": {
            "text/html": [
              "<div>\n",
              "<style scoped>\n",
              "    .dataframe tbody tr th:only-of-type {\n",
              "        vertical-align: middle;\n",
              "    }\n",
              "\n",
              "    .dataframe tbody tr th {\n",
              "        vertical-align: top;\n",
              "    }\n",
              "\n",
              "    .dataframe thead th {\n",
              "        text-align: right;\n",
              "    }\n",
              "</style>\n",
              "<table border=\"1\" class=\"dataframe\">\n",
              "  <thead>\n",
              "    <tr style=\"text-align: right;\">\n",
              "      <th></th>\n",
              "      <th>challenge_ID</th>\n",
              "      <th>programming_language</th>\n",
              "      <th>challenge_series_ID</th>\n",
              "      <th>category_id</th>\n",
              "      <th>total_submissions</th>\n",
              "      <th>author_gender</th>\n",
              "      <th>Year</th>\n",
              "      <th>Month</th>\n",
              "      <th>Day</th>\n",
              "      <th>author_ID</th>\n",
              "      <th>author_org_ID</th>\n",
              "    </tr>\n",
              "  </thead>\n",
              "  <tbody>\n",
              "    <tr>\n",
              "      <th>0</th>\n",
              "      <td>CI23478.0</td>\n",
              "      <td>2.0</td>\n",
              "      <td>SI2445.0</td>\n",
              "      <td>69.500000</td>\n",
              "      <td>37.0</td>\n",
              "      <td>M</td>\n",
              "      <td>2006.0</td>\n",
              "      <td>6</td>\n",
              "      <td>5</td>\n",
              "      <td>AI563576.0</td>\n",
              "      <td>AOI100001.0</td>\n",
              "    </tr>\n",
              "    <tr>\n",
              "      <th>1</th>\n",
              "      <td>CI23479.0</td>\n",
              "      <td>2.0</td>\n",
              "      <td>SI2435.0</td>\n",
              "      <td>32.000000</td>\n",
              "      <td>48.0</td>\n",
              "      <td>M</td>\n",
              "      <td>2002.0</td>\n",
              "      <td>10</td>\n",
              "      <td>17</td>\n",
              "      <td>AI563577.0</td>\n",
              "      <td>AOI100002.0</td>\n",
              "    </tr>\n",
              "    <tr>\n",
              "      <th>2</th>\n",
              "      <td>CI23480.0</td>\n",
              "      <td>1.0</td>\n",
              "      <td>SI2435.0</td>\n",
              "      <td>40.777778</td>\n",
              "      <td>15.0</td>\n",
              "      <td>M</td>\n",
              "      <td>2002.0</td>\n",
              "      <td>10</td>\n",
              "      <td>16</td>\n",
              "      <td>AI563578.0</td>\n",
              "      <td>AOI100003.0</td>\n",
              "    </tr>\n",
              "    <tr>\n",
              "      <th>3</th>\n",
              "      <td>CI23481.0</td>\n",
              "      <td>1.0</td>\n",
              "      <td>SI2710.0</td>\n",
              "      <td>70.000000</td>\n",
              "      <td>236.0</td>\n",
              "      <td>M</td>\n",
              "      <td>2003.0</td>\n",
              "      <td>9</td>\n",
              "      <td>19</td>\n",
              "      <td>AI563579.0</td>\n",
              "      <td>AOI100004.0</td>\n",
              "    </tr>\n",
              "    <tr>\n",
              "      <th>4</th>\n",
              "      <td>CI23482.0</td>\n",
              "      <td>2.0</td>\n",
              "      <td>SI2440.0</td>\n",
              "      <td>61.400000</td>\n",
              "      <td>137.0</td>\n",
              "      <td>M</td>\n",
              "      <td>2002.0</td>\n",
              "      <td>3</td>\n",
              "      <td>21</td>\n",
              "      <td>AI563580.0</td>\n",
              "      <td>AOI100005.0</td>\n",
              "    </tr>\n",
              "    <tr>\n",
              "      <th>5</th>\n",
              "      <td>CI23483.0</td>\n",
              "      <td>2.0</td>\n",
              "      <td>SI2445.0</td>\n",
              "      <td>70.000000</td>\n",
              "      <td>1434.0</td>\n",
              "      <td>M</td>\n",
              "      <td>2006.0</td>\n",
              "      <td>6</td>\n",
              "      <td>5</td>\n",
              "      <td>AI563675.0</td>\n",
              "      <td>AOI100078.0</td>\n",
              "    </tr>\n",
              "    <tr>\n",
              "      <th>6</th>\n",
              "      <td>CI23484.0</td>\n",
              "      <td>1.0</td>\n",
              "      <td>SI2440.0</td>\n",
              "      <td>32.000000</td>\n",
              "      <td>509.0</td>\n",
              "      <td>F</td>\n",
              "      <td>2006.0</td>\n",
              "      <td>3</td>\n",
              "      <td>22</td>\n",
              "      <td>AI563582.0</td>\n",
              "      <td>AOI100007.0</td>\n",
              "    </tr>\n",
              "    <tr>\n",
              "      <th>7</th>\n",
              "      <td>CI23485.0</td>\n",
              "      <td>1.0</td>\n",
              "      <td>SI2435.0</td>\n",
              "      <td>23.000000</td>\n",
              "      <td>287.0</td>\n",
              "      <td>F</td>\n",
              "      <td>2002.0</td>\n",
              "      <td>10</td>\n",
              "      <td>17</td>\n",
              "      <td>AI563583.0</td>\n",
              "      <td>AOI100008.0</td>\n",
              "    </tr>\n",
              "    <tr>\n",
              "      <th>8</th>\n",
              "      <td>CI23486.0</td>\n",
              "      <td>2.0</td>\n",
              "      <td>SI2440.0</td>\n",
              "      <td>61.400000</td>\n",
              "      <td>19.0</td>\n",
              "      <td>M</td>\n",
              "      <td>2002.0</td>\n",
              "      <td>3</td>\n",
              "      <td>20</td>\n",
              "      <td>AI563584.0</td>\n",
              "      <td>AOI100009.0</td>\n",
              "    </tr>\n",
              "    <tr>\n",
              "      <th>9</th>\n",
              "      <td>CI23488.0</td>\n",
              "      <td>2.0</td>\n",
              "      <td>SI2440.0</td>\n",
              "      <td>61.400000</td>\n",
              "      <td>16.0</td>\n",
              "      <td>M</td>\n",
              "      <td>2004.0</td>\n",
              "      <td>3</td>\n",
              "      <td>26</td>\n",
              "      <td>AI563586.0</td>\n",
              "      <td>AOI100011.0</td>\n",
              "    </tr>\n",
              "  </tbody>\n",
              "</table>\n",
              "</div>"
            ],
            "text/plain": [
              "  challenge_ID  programming_language  ...   author_ID  author_org_ID\n",
              "0    CI23478.0                   2.0  ...  AI563576.0    AOI100001.0\n",
              "1    CI23479.0                   2.0  ...  AI563577.0    AOI100002.0\n",
              "2    CI23480.0                   1.0  ...  AI563578.0    AOI100003.0\n",
              "3    CI23481.0                   1.0  ...  AI563579.0    AOI100004.0\n",
              "4    CI23482.0                   2.0  ...  AI563580.0    AOI100005.0\n",
              "5    CI23483.0                   2.0  ...  AI563675.0    AOI100078.0\n",
              "6    CI23484.0                   1.0  ...  AI563582.0    AOI100007.0\n",
              "7    CI23485.0                   1.0  ...  AI563583.0    AOI100008.0\n",
              "8    CI23486.0                   2.0  ...  AI563584.0    AOI100009.0\n",
              "9    CI23488.0                   2.0  ...  AI563586.0    AOI100011.0\n",
              "\n",
              "[10 rows x 11 columns]"
            ]
          },
          "metadata": {
            "tags": []
          },
          "execution_count": 644
        }
      ]
    },
    {
      "cell_type": "code",
      "metadata": {
        "id": "06kQ3IMVOc_F",
        "colab": {
          "base_uri": "https://localhost:8080/"
        },
        "outputId": "cc7e36de-fa64-44b6-d574-c54621b8a41a"
      },
      "source": [
        "dfcp.shape"
      ],
      "execution_count": null,
      "outputs": [
        {
          "output_type": "execute_result",
          "data": {
            "text/plain": [
              "(5348, 11)"
            ]
          },
          "metadata": {
            "tags": []
          },
          "execution_count": 645
        }
      ]
    },
    {
      "cell_type": "code",
      "metadata": {
        "id": "VV-38HigOfFi",
        "colab": {
          "base_uri": "https://localhost:8080/"
        },
        "outputId": "b5c46e96-7477-4a95-8de6-d531bab09cd5"
      },
      "source": [
        "dfcp.info()"
      ],
      "execution_count": null,
      "outputs": [
        {
          "output_type": "stream",
          "text": [
            "<class 'pandas.core.frame.DataFrame'>\n",
            "Int64Index: 5348 entries, 0 to 5347\n",
            "Data columns (total 11 columns):\n",
            " #   Column                Non-Null Count  Dtype  \n",
            "---  ------                --------------  -----  \n",
            " 0   challenge_ID          5348 non-null   object \n",
            " 1   programming_language  5348 non-null   float64\n",
            " 2   challenge_series_ID   5348 non-null   object \n",
            " 3   category_id           5348 non-null   float64\n",
            " 4   total_submissions     5348 non-null   float64\n",
            " 5   author_gender         5348 non-null   object \n",
            " 6   Year                  5348 non-null   float64\n",
            " 7   Month                 5348 non-null   int64  \n",
            " 8   Day                   5348 non-null   int64  \n",
            " 9   author_ID             5348 non-null   object \n",
            " 10  author_org_ID         5348 non-null   object \n",
            "dtypes: float64(4), int64(2), object(5)\n",
            "memory usage: 501.4+ KB\n"
          ],
          "name": "stdout"
        }
      ]
    },
    {
      "cell_type": "code",
      "metadata": {
        "id": "_RVJmwmtOgzf"
      },
      "source": [
        "# creating final csv\n",
        "# dfcp.to_csv('/content/drive/My Drive/Analytics vidya to CSV/chall_final.csv', index=False)"
      ],
      "execution_count": null,
      "outputs": []
    },
    {
      "cell_type": "code",
      "metadata": {
        "id": "wfeHVDHoal2x"
      },
      "source": [
        "#loading and checking final csv"
      ],
      "execution_count": null,
      "outputs": []
    },
    {
      "cell_type": "code",
      "metadata": {
        "id": "84gVyeM8esrH"
      },
      "source": [
        "# final = pd.read_csv(\"/content/drive/My Drive/Analytics vidya to CSV/chall_final.csv\")"
      ],
      "execution_count": null,
      "outputs": []
    },
    {
      "cell_type": "code",
      "metadata": {
        "id": "mTFE7FVzypfX"
      },
      "source": [
        "# This is our final data set on which we have to apply recommendation model. we can use it directly as shown below.\n",
        "# OR\n",
        "# Can save to csv file and then import that file."
      ],
      "execution_count": null,
      "outputs": []
    },
    {
      "cell_type": "code",
      "metadata": {
        "id": "7D8StjpXyEWp"
      },
      "source": [
        "final = dfcp"
      ],
      "execution_count": null,
      "outputs": []
    },
    {
      "cell_type": "code",
      "metadata": {
        "id": "qKmXV9JLe1aX",
        "colab": {
          "base_uri": "https://localhost:8080/"
        },
        "outputId": "08e4db39-f7e0-4453-80c8-90c536b8635b"
      },
      "source": [
        "final.head()"
      ],
      "execution_count": null,
      "outputs": [
        {
          "output_type": "execute_result",
          "data": {
            "text/html": [
              "<div>\n",
              "<style scoped>\n",
              "    .dataframe tbody tr th:only-of-type {\n",
              "        vertical-align: middle;\n",
              "    }\n",
              "\n",
              "    .dataframe tbody tr th {\n",
              "        vertical-align: top;\n",
              "    }\n",
              "\n",
              "    .dataframe thead th {\n",
              "        text-align: right;\n",
              "    }\n",
              "</style>\n",
              "<table border=\"1\" class=\"dataframe\">\n",
              "  <thead>\n",
              "    <tr style=\"text-align: right;\">\n",
              "      <th></th>\n",
              "      <th>challenge_ID</th>\n",
              "      <th>programming_language</th>\n",
              "      <th>challenge_series_ID</th>\n",
              "      <th>category_id</th>\n",
              "      <th>total_submissions</th>\n",
              "      <th>author_gender</th>\n",
              "      <th>Year</th>\n",
              "      <th>Month</th>\n",
              "      <th>Day</th>\n",
              "      <th>author_ID</th>\n",
              "      <th>author_org_ID</th>\n",
              "    </tr>\n",
              "  </thead>\n",
              "  <tbody>\n",
              "    <tr>\n",
              "      <th>0</th>\n",
              "      <td>CI23478.0</td>\n",
              "      <td>2.0</td>\n",
              "      <td>SI2445.0</td>\n",
              "      <td>69.500000</td>\n",
              "      <td>37.0</td>\n",
              "      <td>M</td>\n",
              "      <td>2006.0</td>\n",
              "      <td>6</td>\n",
              "      <td>5</td>\n",
              "      <td>AI563576.0</td>\n",
              "      <td>AOI100001.0</td>\n",
              "    </tr>\n",
              "    <tr>\n",
              "      <th>1</th>\n",
              "      <td>CI23479.0</td>\n",
              "      <td>2.0</td>\n",
              "      <td>SI2435.0</td>\n",
              "      <td>32.000000</td>\n",
              "      <td>48.0</td>\n",
              "      <td>M</td>\n",
              "      <td>2002.0</td>\n",
              "      <td>10</td>\n",
              "      <td>17</td>\n",
              "      <td>AI563577.0</td>\n",
              "      <td>AOI100002.0</td>\n",
              "    </tr>\n",
              "    <tr>\n",
              "      <th>2</th>\n",
              "      <td>CI23480.0</td>\n",
              "      <td>1.0</td>\n",
              "      <td>SI2435.0</td>\n",
              "      <td>40.777778</td>\n",
              "      <td>15.0</td>\n",
              "      <td>M</td>\n",
              "      <td>2002.0</td>\n",
              "      <td>10</td>\n",
              "      <td>16</td>\n",
              "      <td>AI563578.0</td>\n",
              "      <td>AOI100003.0</td>\n",
              "    </tr>\n",
              "    <tr>\n",
              "      <th>3</th>\n",
              "      <td>CI23481.0</td>\n",
              "      <td>1.0</td>\n",
              "      <td>SI2710.0</td>\n",
              "      <td>70.000000</td>\n",
              "      <td>236.0</td>\n",
              "      <td>M</td>\n",
              "      <td>2003.0</td>\n",
              "      <td>9</td>\n",
              "      <td>19</td>\n",
              "      <td>AI563579.0</td>\n",
              "      <td>AOI100004.0</td>\n",
              "    </tr>\n",
              "    <tr>\n",
              "      <th>4</th>\n",
              "      <td>CI23482.0</td>\n",
              "      <td>2.0</td>\n",
              "      <td>SI2440.0</td>\n",
              "      <td>61.400000</td>\n",
              "      <td>137.0</td>\n",
              "      <td>M</td>\n",
              "      <td>2002.0</td>\n",
              "      <td>3</td>\n",
              "      <td>21</td>\n",
              "      <td>AI563580.0</td>\n",
              "      <td>AOI100005.0</td>\n",
              "    </tr>\n",
              "  </tbody>\n",
              "</table>\n",
              "</div>"
            ],
            "text/plain": [
              "  challenge_ID  programming_language  ...   author_ID  author_org_ID\n",
              "0    CI23478.0                   2.0  ...  AI563576.0    AOI100001.0\n",
              "1    CI23479.0                   2.0  ...  AI563577.0    AOI100002.0\n",
              "2    CI23480.0                   1.0  ...  AI563578.0    AOI100003.0\n",
              "3    CI23481.0                   1.0  ...  AI563579.0    AOI100004.0\n",
              "4    CI23482.0                   2.0  ...  AI563580.0    AOI100005.0\n",
              "\n",
              "[5 rows x 11 columns]"
            ]
          },
          "metadata": {
            "tags": []
          },
          "execution_count": 652
        }
      ]
    },
    {
      "cell_type": "code",
      "metadata": {
        "id": "U0Gao_aMe2xa",
        "colab": {
          "base_uri": "https://localhost:8080/"
        },
        "outputId": "45946606-e02e-47b7-9733-abbbf269928c"
      },
      "source": [
        "final.shape"
      ],
      "execution_count": null,
      "outputs": [
        {
          "output_type": "execute_result",
          "data": {
            "text/plain": [
              "(5348, 11)"
            ]
          },
          "metadata": {
            "tags": []
          },
          "execution_count": 653
        }
      ]
    },
    {
      "cell_type": "code",
      "metadata": {
        "id": "Y6bEA29re5EL",
        "colab": {
          "base_uri": "https://localhost:8080/"
        },
        "outputId": "5a41d1fa-6aba-479f-b154-f49f6260d297"
      },
      "source": [
        "final.describe()"
      ],
      "execution_count": null,
      "outputs": [
        {
          "output_type": "execute_result",
          "data": {
            "text/html": [
              "<div>\n",
              "<style scoped>\n",
              "    .dataframe tbody tr th:only-of-type {\n",
              "        vertical-align: middle;\n",
              "    }\n",
              "\n",
              "    .dataframe tbody tr th {\n",
              "        vertical-align: top;\n",
              "    }\n",
              "\n",
              "    .dataframe thead th {\n",
              "        text-align: right;\n",
              "    }\n",
              "</style>\n",
              "<table border=\"1\" class=\"dataframe\">\n",
              "  <thead>\n",
              "    <tr style=\"text-align: right;\">\n",
              "      <th></th>\n",
              "      <th>programming_language</th>\n",
              "      <th>category_id</th>\n",
              "      <th>total_submissions</th>\n",
              "      <th>Year</th>\n",
              "      <th>Month</th>\n",
              "      <th>Day</th>\n",
              "    </tr>\n",
              "  </thead>\n",
              "  <tbody>\n",
              "    <tr>\n",
              "      <th>count</th>\n",
              "      <td>5348.000000</td>\n",
              "      <td>5348.000000</td>\n",
              "      <td>5348.000000</td>\n",
              "      <td>5348.000000</td>\n",
              "      <td>5348.000000</td>\n",
              "      <td>5348.000000</td>\n",
              "    </tr>\n",
              "    <tr>\n",
              "      <th>mean</th>\n",
              "      <td>1.076103</td>\n",
              "      <td>80.094078</td>\n",
              "      <td>352.051885</td>\n",
              "      <td>2006.846485</td>\n",
              "      <td>6.933807</td>\n",
              "      <td>14.424832</td>\n",
              "    </tr>\n",
              "    <tr>\n",
              "      <th>std</th>\n",
              "      <td>0.305190</td>\n",
              "      <td>49.643656</td>\n",
              "      <td>1034.866547</td>\n",
              "      <td>1.970465</td>\n",
              "      <td>3.169324</td>\n",
              "      <td>8.019809</td>\n",
              "    </tr>\n",
              "    <tr>\n",
              "      <th>min</th>\n",
              "      <td>0.000000</td>\n",
              "      <td>22.000000</td>\n",
              "      <td>4.000000</td>\n",
              "      <td>1999.000000</td>\n",
              "      <td>1.000000</td>\n",
              "      <td>1.000000</td>\n",
              "    </tr>\n",
              "    <tr>\n",
              "      <th>25%</th>\n",
              "      <td>1.000000</td>\n",
              "      <td>40.000000</td>\n",
              "      <td>72.000000</td>\n",
              "      <td>2006.000000</td>\n",
              "      <td>4.000000</td>\n",
              "      <td>8.000000</td>\n",
              "    </tr>\n",
              "    <tr>\n",
              "      <th>50%</th>\n",
              "      <td>1.000000</td>\n",
              "      <td>69.000000</td>\n",
              "      <td>148.000000</td>\n",
              "      <td>2007.000000</td>\n",
              "      <td>7.000000</td>\n",
              "      <td>12.000000</td>\n",
              "    </tr>\n",
              "    <tr>\n",
              "      <th>75%</th>\n",
              "      <td>1.000000</td>\n",
              "      <td>107.000000</td>\n",
              "      <td>306.000000</td>\n",
              "      <td>2008.000000</td>\n",
              "      <td>9.000000</td>\n",
              "      <td>21.000000</td>\n",
              "    </tr>\n",
              "    <tr>\n",
              "      <th>max</th>\n",
              "      <td>3.000000</td>\n",
              "      <td>304.000000</td>\n",
              "      <td>43409.000000</td>\n",
              "      <td>2010.000000</td>\n",
              "      <td>12.000000</td>\n",
              "      <td>31.000000</td>\n",
              "    </tr>\n",
              "  </tbody>\n",
              "</table>\n",
              "</div>"
            ],
            "text/plain": [
              "       programming_language  category_id  ...        Month          Day\n",
              "count           5348.000000  5348.000000  ...  5348.000000  5348.000000\n",
              "mean               1.076103    80.094078  ...     6.933807    14.424832\n",
              "std                0.305190    49.643656  ...     3.169324     8.019809\n",
              "min                0.000000    22.000000  ...     1.000000     1.000000\n",
              "25%                1.000000    40.000000  ...     4.000000     8.000000\n",
              "50%                1.000000    69.000000  ...     7.000000    12.000000\n",
              "75%                1.000000   107.000000  ...     9.000000    21.000000\n",
              "max                3.000000   304.000000  ...    12.000000    31.000000\n",
              "\n",
              "[8 rows x 6 columns]"
            ]
          },
          "metadata": {
            "tags": []
          },
          "execution_count": 654
        }
      ]
    },
    {
      "cell_type": "code",
      "metadata": {
        "id": "iUuVboJJe7WG",
        "colab": {
          "base_uri": "https://localhost:8080/"
        },
        "outputId": "405edc2e-47b3-44a0-8a3b-498f3e92199e"
      },
      "source": [
        "final.info()"
      ],
      "execution_count": null,
      "outputs": [
        {
          "output_type": "stream",
          "text": [
            "<class 'pandas.core.frame.DataFrame'>\n",
            "Int64Index: 5348 entries, 0 to 5347\n",
            "Data columns (total 11 columns):\n",
            " #   Column                Non-Null Count  Dtype  \n",
            "---  ------                --------------  -----  \n",
            " 0   challenge_ID          5348 non-null   object \n",
            " 1   programming_language  5348 non-null   float64\n",
            " 2   challenge_series_ID   5348 non-null   object \n",
            " 3   category_id           5348 non-null   float64\n",
            " 4   total_submissions     5348 non-null   float64\n",
            " 5   author_gender         5348 non-null   object \n",
            " 6   Year                  5348 non-null   float64\n",
            " 7   Month                 5348 non-null   int64  \n",
            " 8   Day                   5348 non-null   int64  \n",
            " 9   author_ID             5348 non-null   object \n",
            " 10  author_org_ID         5348 non-null   object \n",
            "dtypes: float64(4), int64(2), object(5)\n",
            "memory usage: 501.4+ KB\n"
          ],
          "name": "stdout"
        }
      ]
    },
    {
      "cell_type": "code",
      "metadata": {
        "id": "8LiWE5WQe9DD",
        "colab": {
          "base_uri": "https://localhost:8080/"
        },
        "outputId": "cec89942-5991-434a-f811-912b433653a1"
      },
      "source": [
        "final.isna().sum()"
      ],
      "execution_count": null,
      "outputs": [
        {
          "output_type": "execute_result",
          "data": {
            "text/plain": [
              "challenge_ID            0\n",
              "programming_language    0\n",
              "challenge_series_ID     0\n",
              "category_id             0\n",
              "total_submissions       0\n",
              "author_gender           0\n",
              "Year                    0\n",
              "Month                   0\n",
              "Day                     0\n",
              "author_ID               0\n",
              "author_org_ID           0\n",
              "dtype: int64"
            ]
          },
          "metadata": {
            "tags": []
          },
          "execution_count": 656
        }
      ]
    },
    {
      "cell_type": "code",
      "metadata": {
        "id": "A7zpRhuzfD3J",
        "colab": {
          "base_uri": "https://localhost:8080/"
        },
        "outputId": "ad674dac-e66c-48e2-c36d-6e78de46984c"
      },
      "source": [
        "final.isnull().sum()"
      ],
      "execution_count": null,
      "outputs": [
        {
          "output_type": "execute_result",
          "data": {
            "text/plain": [
              "challenge_ID            0\n",
              "programming_language    0\n",
              "challenge_series_ID     0\n",
              "category_id             0\n",
              "total_submissions       0\n",
              "author_gender           0\n",
              "Year                    0\n",
              "Month                   0\n",
              "Day                     0\n",
              "author_ID               0\n",
              "author_org_ID           0\n",
              "dtype: int64"
            ]
          },
          "metadata": {
            "tags": []
          },
          "execution_count": 657
        }
      ]
    }
  ]
}
